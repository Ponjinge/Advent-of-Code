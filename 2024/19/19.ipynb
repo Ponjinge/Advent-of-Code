{
 "cells": [
  {
   "cell_type": "code",
   "execution_count": 23,
   "metadata": {},
   "outputs": [],
   "source": [
    "# Get Strings of letters\n",
    "import re\n",
    "n = []\n",
    "with open('./input.txt', 'r') as file:\n",
    "    for line in file:\n",
    "        letters = re.findall(r'[a-zA-Z]+', line)\n",
    "        n.append(letters)"
   ]
  },
  {
   "cell_type": "code",
   "execution_count": 33,
   "metadata": {},
   "outputs": [],
   "source": [
    "t = n[0]\n",
    "s = []\n",
    "for e in n[2:]:\n",
    "    s.append(e[0])\n",
    "       #break   "
   ]
  },
  {
   "cell_type": "code",
   "execution_count": 64,
   "metadata": {},
   "outputs": [],
   "source": [
    "def towel_builder(d,towels):\n",
    "    possible = False \n",
    "    if len(d) < 1 :\n",
    "        #print ('found')\n",
    "        return True \n",
    "    \n",
    "    for t in towels:\n",
    "        if d[:len(t)] == t :\n",
    "            #print(d)\n",
    "            #print (d[:len(t)],t)\n",
    "            #print(len(d[(len(t)):]),len(d))\n",
    "            if towel_builder(d[(len(t)):],towels) == True :\n",
    "                return True \n",
    "    \n",
    "    return possible\n",
    "            "
   ]
  },
  {
   "cell_type": "code",
   "execution_count": null,
   "metadata": {},
   "outputs": [],
   "source": [
    "import sys\n",
    "sys.setrecursionlimit(100000) \n",
    "sumo = 0 \n",
    "t = tuple(t)\n",
    "for d in s :\n",
    "    if towel_builder(d,t):\n",
    "        sumo +=1\n",
    "print(sumo)"
   ]
  },
  {
   "cell_type": "code",
   "execution_count": 66,
   "metadata": {},
   "outputs": [],
   "source": [
    "from functools import lru_cache\n",
    "\n",
    "@lru_cache\n",
    "def towel_builder(d,towels):\n",
    "    possible = 0 \n",
    "    if len(d) < 1 :\n",
    "        #print ('found')\n",
    "        return 1 \n",
    "    \n",
    "    for t in towels:\n",
    "        if d[:len(t)] == t :\n",
    "            possible += towel_builder(d[(len(t)):],towels)\n",
    "              \n",
    "    \n",
    "    return possible\n",
    "            "
   ]
  },
  {
   "cell_type": "code",
   "execution_count": null,
   "metadata": {},
   "outputs": [],
   "source": [
    "import sys\n",
    "sys.setrecursionlimit(100000) \n",
    "sumo = 0 \n",
    "for d in s :\n",
    "    \n",
    "    sumo += towel_builder(d,t)\n",
    "\n",
    "print(sumo)"
   ]
  }
 ],
 "metadata": {
  "kernelspec": {
   "display_name": "base",
   "language": "python",
   "name": "python3"
  },
  "language_info": {
   "codemirror_mode": {
    "name": "ipython",
    "version": 3
   },
   "file_extension": ".py",
   "mimetype": "text/x-python",
   "name": "python",
   "nbconvert_exporter": "python",
   "pygments_lexer": "ipython3",
   "version": "3.11.5"
  }
 },
 "nbformat": 4,
 "nbformat_minor": 2
}
