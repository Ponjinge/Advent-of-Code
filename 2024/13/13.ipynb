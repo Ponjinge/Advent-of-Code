{
 "cells": [
  {
   "cell_type": "code",
   "execution_count": null,
   "metadata": {},
   "outputs": [],
   "source": [
    "# Get Positive INT\n",
    "import re\n",
    "s = []\n",
    "\n",
    "with open('./input.txt', 'r') as file:\n",
    "    file_content = file.read().strip()  \n",
    "individual_strings = file_content.split('\\n\\n')\n",
    "\n",
    "for i, individual_str in enumerate(individual_strings, 1):\n",
    "    word = [int(num) for num in re.findall(r'\\d+', individual_str)]\n",
    "    s.append(word)"
   ]
  },
  {
   "cell_type": "code",
   "execution_count": null,
   "metadata": {},
   "outputs": [],
   "source": [
    "c = []\n",
    "for i in range(0,len(s)):\n",
    "    tX = s[i][4]\n",
    "    tY = s[i][5]\n",
    "    mincost = 10000000000000000000\n",
    "    answer = False \n",
    "    for k in range(0,101):\n",
    "        for l in range(0,101):\n",
    "            if (k*s[i][0]+l*s[i][2]) == tX and (k*s[i][1]+l*s[i][3]) == tY:\n",
    "                cost = (k*3) + l \n",
    "                if cost <= mincost:\n",
    "                    mincost = cost \n",
    "                    answer = True \n",
    "           \n",
    "                       \n",
    "    if answer == True:\n",
    "        c.append(mincost)\n",
    "        \n",
    "    "
   ]
  },
  {
   "cell_type": "code",
   "execution_count": null,
   "metadata": {},
   "outputs": [],
   "source": [
    "sumo = 0 \n",
    "for e in c :\n",
    "    sumo += e\n",
    "    \n",
    "print (sumo )"
   ]
  },
  {
   "cell_type": "code",
   "execution_count": null,
   "metadata": {},
   "outputs": [],
   "source": [
    "def gcd(a, b):\n",
    "    while b:\n",
    "        a, b = b, a % b\n",
    "    return a\n"
   ]
  },
  {
   "cell_type": "code",
   "execution_count": null,
   "metadata": {},
   "outputs": [],
   "source": [
    "\n",
    "def dio(a, b, c):\n",
    "\n",
    "    g = gcd(abs(a), abs(b))\n",
    "    if c % g != 0:\n",
    "        return None\n",
    "    \n",
    "   \n",
    "    def extGcd(a, b):\n",
    "        if b == 0:\n",
    "            return a, 1, 0\n",
    "        d, x, y = extGcd(b, a % b)\n",
    "        return d, y, x - (a // b) * y\n",
    "    \n",
    "    _, x0, y0 = extGcd(abs(a), abs(b))\n",
    "    if a < 0: x0 = -x0\n",
    "    if b < 0: y0 = -y0\n",
    "    \n",
    "    x0 *= c // g\n",
    "    y0 *= c // g\n",
    "    \n",
    "    return x0, y0\n"
   ]
  },
  {
   "cell_type": "code",
   "execution_count": null,
   "metadata": {},
   "outputs": [],
   "source": [
    "\n",
    "def find_min_cost(a, b, c_val, d, tX, tY):\n",
    "\n",
    "    sol1 = dio(a, c_val, tX)\n",
    "    if not sol1:\n",
    "        return None\n",
    "    x0, y0 = sol1\n",
    "    \n",
    "\n",
    "    step_x = c_val // gcd(a, c_val)\n",
    "    step_y = -a // gcd(a, c_val)\n",
    "    \n",
    "\n",
    "    \n",
    "    coeff = b*step_x + d*step_y\n",
    "    if coeff == 0:\n",
    "   \n",
    "        if b*x0 + d*y0 == tY:\n",
    "            if x0 >= 0 and y0 >= 0:\n",
    "                return 3*x0 + y0\n",
    "        return None\n",
    "    \n",
    "    \n",
    "    t = (tY - (b*x0 + d*y0)) / coeff\n",
    "    \n",
    "    \n",
    "    t = int(t)\n",
    "    min_cost = 10000000000000000000000000000000\n",
    "    \n",
    "    \n",
    "    for tt in range(t-2, t+3):\n",
    "        x = x0 + step_x*tt\n",
    "        y = y0 + step_y*tt\n",
    "        if x >= 0 and y >= 0:\n",
    "            if abs(a*x + c_val*y - tX) < 1e-10 and abs(b*x + d*y - tY) < 1e-10:\n",
    "                cost = 3*x + y\n",
    "                min_cost = min(min_cost, cost)\n",
    "    \n",
    "    return int(min_cost) if min_cost != 10000000000000000000000000000000 else None"
   ]
  },
  {
   "cell_type": "code",
   "execution_count": null,
   "metadata": {},
   "outputs": [],
   "source": [
    "c = []\n",
    "for i in range (0,len(s)):\n",
    "    a, b, c_val, d = s[i][0], s[i][1], s[i][2], s[i][3]\n",
    "    tX = s[i][4] + 10000000000000\n",
    "    tY = s[i][5] + 10000000000000\n",
    "    \n",
    "    result = find_min_cost(a, b, c_val, d, tX, tY)\n",
    "    if result is not None:\n",
    "        c.append(result)\n"
   ]
  },
  {
   "cell_type": "code",
   "execution_count": null,
   "metadata": {},
   "outputs": [],
   "source": [
    "sumo = 0 \n",
    "for e in c :\n",
    "    sumo += e\n",
    "    \n",
    "print (sumo )"
   ]
  },
  {
   "cell_type": "code",
   "execution_count": null,
   "metadata": {},
   "outputs": [],
   "source": []
  }
 ],
 "metadata": {
  "kernelspec": {
   "display_name": "base",
   "language": "python",
   "name": "python3"
  },
  "language_info": {
   "codemirror_mode": {
    "name": "ipython",
    "version": 3
   },
   "file_extension": ".py",
   "mimetype": "text/x-python",
   "name": "python",
   "nbconvert_exporter": "python",
   "pygments_lexer": "ipython3",
   "version": "3.11.5"
  }
 },
 "nbformat": 4,
 "nbformat_minor": 2
}
