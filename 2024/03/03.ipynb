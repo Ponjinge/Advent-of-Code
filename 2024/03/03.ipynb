{
 "cells": [
  {
   "cell_type": "code",
   "execution_count": null,
   "metadata": {},
   "outputs": [],
   "source": [
    "# Separate by line and spaces and turn into integer\n",
    "import re\n",
    "s = []\n",
    "\n",
    "with open('./input.txt', 'r') as file:\n",
    "    file_content = file.read().strip()  \n",
    "individual_strings = file_content.split('\\n')\n",
    "\n",
    "for i, individual_str in enumerate(individual_strings, 1):\n",
    "    word = [num for num in individual_str]\n",
    "    s.append(word)"
   ]
  },
  {
   "cell_type": "code",
   "execution_count": null,
   "metadata": {},
   "outputs": [],
   "source": [
    "numbs = ['1','2','3','4','5','6','7','8','9','0']"
   ]
  },
  {
   "cell_type": "code",
   "execution_count": null,
   "metadata": {},
   "outputs": [],
   "source": [
    "sumo = 0 \n",
    "do = 1\n",
    "for i in range (0,len(s)):\n",
    "    for j in range (0,len(s[i])):\n",
    "        if s[i][j]=='d' and s[i][j+1]=='o' and s[i][j+2]=='(' and s[i][j+3]==')':\n",
    "            do = 1\n",
    "            \n",
    "        if s[i][j]=='d' and s[i][j+1]=='o' and s[i][j+2]=='n' and s[i][j+3]==\"'\" and s[i][j+4]=='t'and s[i][j+5]=='('and s[i][j+6]==')':\n",
    "            do = 0\n",
    "            \n",
    "        if s[i][j]=='m' and s[i][j+1]=='u' and s[i][j+2]=='l' and s[i][j+3]=='(' and do == 1:\n",
    "            j+=4\n",
    "            tempA = ''\n",
    "            tempB = ''\n",
    "            while s[i][j] in numbs : \n",
    "                tempA+= s[i][j]\n",
    "                j+=1\n",
    "            if s[i][j] == ',':\n",
    "                j+=1\n",
    "                while s[i][j] in numbs : \n",
    "                    tempB+=s[i][j]\n",
    "                    j+=1\n",
    "                if s[i][j]==')':\n",
    "                    sumo += int(tempA)*int(tempB)\n",
    "                    \n",
    "    "
   ]
  },
  {
   "cell_type": "code",
   "execution_count": null,
   "metadata": {},
   "outputs": [],
   "source": [
    "sumo"
   ]
  },
  {
   "cell_type": "code",
   "execution_count": null,
   "metadata": {},
   "outputs": [],
   "source": []
  }
 ],
 "metadata": {
  "kernelspec": {
   "display_name": "base",
   "language": "python",
   "name": "python3"
  },
  "language_info": {
   "codemirror_mode": {
    "name": "ipython",
    "version": 3
   },
   "file_extension": ".py",
   "mimetype": "text/x-python",
   "name": "python",
   "nbconvert_exporter": "python",
   "pygments_lexer": "ipython3",
   "version": "3.11.5"
  }
 },
 "nbformat": 4,
 "nbformat_minor": 2
}
