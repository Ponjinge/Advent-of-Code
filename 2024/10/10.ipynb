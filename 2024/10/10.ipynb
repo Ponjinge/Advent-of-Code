{
 "cells": [
  {
   "cell_type": "code",
   "execution_count": null,
   "metadata": {},
   "outputs": [],
   "source": [
    "n = []\n",
    "\n",
    "with open('./input.txt', 'r') as file:\n",
    "    file_content = file.read().strip()  # Read the file content and remove leading/trailing whitespaces\n",
    "\n",
    "# Split the content based on empty lines\n",
    "individual_strings = file_content.split('\\n')\n",
    "\n",
    "# Process each individual\n",
    "for i, individual_str in enumerate(individual_strings, 1):\n",
    "    # Convert lines to integers and add them to the individuals list\n",
    "    individual =  individual_str\n",
    "    n.append(individual)"
   ]
  },
  {
   "cell_type": "code",
   "execution_count": null,
   "metadata": {},
   "outputs": [],
   "source": [
    "#part 1 \n",
    "def score(i,j,c,d):\n",
    "    s = 0 \n",
    "    if c == 9 and (i,j) not in d:\n",
    "        d.add((i,j))\n",
    "        return 1\n",
    "    \n",
    "    if i<len(n)-1 and int(n[i+1][j]) == c+1:\n",
    "        s += score(i+1,j,c+1,d)\n",
    "    if j<len(n[i])-1 and int(n[i][j+1]) == c+1:\n",
    "        s += score(i,j+1,c+1,d)\n",
    "    if i>0 and int(n[i-1][j]) == c+1:\n",
    "        s += score(i-1,j,c+1,d)\n",
    "    if j>0 and int(n[i][j-1]) == c+1:\n",
    "        s += score(i,j-1,c+1,d)\n",
    "    \n",
    "    return s "
   ]
  },
  {
   "cell_type": "code",
   "execution_count": null,
   "metadata": {},
   "outputs": [],
   "source": [
    "#part 2 \n",
    "def score(i,j,c):\n",
    "    s = 0 \n",
    "    if c == 9 :\n",
    "        \n",
    "        return 1\n",
    "    \n",
    "    if i<len(n)-1 and int(n[i+1][j]) == c+1:\n",
    "        s += score(i+1,j,c+1)\n",
    "    if j<len(n[i])-1 and int(n[i][j+1]) == c+1:\n",
    "        s += score(i,j+1,c+1)\n",
    "    if i>0 and int(n[i-1][j]) == c+1:\n",
    "        s += score(i-1,j,c+1)\n",
    "    if j>0 and int(n[i][j-1]) == c+1:\n",
    "        s += score(i,j-1,c+1)\n",
    "    \n",
    "    return s "
   ]
  },
  {
   "cell_type": "code",
   "execution_count": null,
   "metadata": {},
   "outputs": [],
   "source": [
    "sumo = 0 \n",
    "for i in range(0,len(n)):\n",
    "    for j in range(0,len(n[i])):\n",
    "        if n[i][j]=='0':\n",
    "            d = set()\n",
    "            sumo += score(i,j,0)\n",
    "            \n",
    "print (sumo) "
   ]
  },
  {
   "cell_type": "code",
   "execution_count": null,
   "metadata": {},
   "outputs": [],
   "source": []
  }
 ],
 "metadata": {
  "kernelspec": {
   "display_name": "base",
   "language": "python",
   "name": "python3"
  },
  "language_info": {
   "codemirror_mode": {
    "name": "ipython",
    "version": 3
   },
   "file_extension": ".py",
   "mimetype": "text/x-python",
   "name": "python",
   "nbconvert_exporter": "python",
   "pygments_lexer": "ipython3",
   "version": "3.11.5"
  }
 },
 "nbformat": 4,
 "nbformat_minor": 2
}
