{
 "cells": [
  {
   "cell_type": "code",
   "execution_count": 5,
   "metadata": {},
   "outputs": [],
   "source": [
    "n = []\n",
    "\n",
    "with open('./input.txt', 'r') as file:\n",
    "    file_content = file.read().strip() \n",
    "\n",
    "individual_strings = file_content.split('\\n\\n')\n",
    "\n",
    "for i, individual_str in enumerate(individual_strings, 1):\n",
    "    individual = [line for line in individual_str.split('\\n')]\n",
    "    n.append(individual)"
   ]
  },
  {
   "cell_type": "code",
   "execution_count": 10,
   "metadata": {},
   "outputs": [],
   "source": [
    "lock = []\n",
    "key = []\n",
    "for e in n :\n",
    "    num = []\n",
    "    for j in range(0,len(e[0])):\n",
    "        sumo = -1 \n",
    "        for i in range(0,len(e)):\n",
    "            if e[i][j] == '#':\n",
    "                sumo +=1\n",
    "        num.append(sumo)\n",
    "\n",
    "    if e[0] == '#####':\n",
    "        lock.append(num)\n",
    "    else:\n",
    "        key.append(num)\n"
   ]
  },
  {
   "cell_type": "code",
   "execution_count": null,
   "metadata": {},
   "outputs": [],
   "source": [
    "pairs = 0 \n",
    "for l in lock:\n",
    "    for k in key:\n",
    "        compatible = True \n",
    "        for i in range(0,5):\n",
    "            if l[i]+k[i]>5:\n",
    "                compatible = False \n",
    "                break\n",
    "        if compatible:\n",
    "            pairs += 1 \n",
    "\n",
    "print(pairs)"
   ]
  }
 ],
 "metadata": {
  "kernelspec": {
   "display_name": "base",
   "language": "python",
   "name": "python3"
  },
  "language_info": {
   "codemirror_mode": {
    "name": "ipython",
    "version": 3
   },
   "file_extension": ".py",
   "mimetype": "text/x-python",
   "name": "python",
   "nbconvert_exporter": "python",
   "pygments_lexer": "ipython3",
   "version": "3.11.5"
  }
 },
 "nbformat": 4,
 "nbformat_minor": 2
}
