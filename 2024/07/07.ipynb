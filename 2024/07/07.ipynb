{
 "cells": [
  {
   "cell_type": "code",
   "execution_count": 7,
   "metadata": {},
   "outputs": [],
   "source": [
    "# Get Positive INT\n",
    "import re\n",
    "s = []\n",
    "\n",
    "with open('./input.txt', 'r') as file:\n",
    "    file_content = file.read().strip()  \n",
    "individual_strings = file_content.split('\\n')\n",
    "\n",
    "for i, individual_str in enumerate(individual_strings, 1):\n",
    "    word = [int(num) for num in re.findall(r'\\d+', individual_str)]\n",
    "    s.append(word)"
   ]
  },
  {
   "cell_type": "code",
   "execution_count": 20,
   "metadata": {},
   "outputs": [],
   "source": [
    "def calc(t,p,i,k):\n",
    "    if  t < p:\n",
    "        return False\n",
    "    if k == len(s[i])-1:\n",
    "        if t == p :\n",
    "            return True\n",
    "        else:\n",
    "            return False \n",
    "    \n",
    "    if calc(t,p+s[i][k+1],i,k+1)==True:\n",
    "        return True\n",
    "    elif calc(t,p*s[i][k+1],i,k+1)==True:\n",
    "        return True \n",
    "    #Part 2\n",
    "    elif calc(t,int(str(p)+str(s[i][k+1])),i,k+1)==True:\n",
    "        return True \n",
    "    \n",
    "    else:\n",
    "        return False \n",
    "    "
   ]
  },
  {
   "cell_type": "code",
   "execution_count": 21,
   "metadata": {},
   "outputs": [],
   "source": [
    "sumo = 0\n",
    "\n",
    "for i in range (0,len(s)):\n",
    "    t = s[i][0]\n",
    "    if calc(t,s[i][1],i,1)==True:\n",
    "        sumo +=t"
   ]
  },
  {
   "cell_type": "code",
   "execution_count": 22,
   "metadata": {},
   "outputs": [
    {
     "data": {
      "text/plain": [
       "424977609625985"
      ]
     },
     "execution_count": 22,
     "metadata": {},
     "output_type": "execute_result"
    }
   ],
   "source": [
    "sumo"
   ]
  },
  {
   "cell_type": "code",
   "execution_count": null,
   "metadata": {},
   "outputs": [],
   "source": []
  }
 ],
 "metadata": {
  "kernelspec": {
   "display_name": "base",
   "language": "python",
   "name": "python3"
  },
  "language_info": {
   "codemirror_mode": {
    "name": "ipython",
    "version": 3
   },
   "file_extension": ".py",
   "mimetype": "text/x-python",
   "name": "python",
   "nbconvert_exporter": "python",
   "pygments_lexer": "ipython3",
   "version": "3.11.5"
  }
 },
 "nbformat": 4,
 "nbformat_minor": 2
}
