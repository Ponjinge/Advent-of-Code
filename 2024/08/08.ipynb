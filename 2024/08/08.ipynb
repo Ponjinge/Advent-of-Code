{
 "cells": [
  {
   "cell_type": "code",
   "execution_count": null,
   "metadata": {},
   "outputs": [],
   "source": [
    "n = []\n",
    "\n",
    "with open('./input.txt', 'r') as file:\n",
    "    file_content = file.read().strip()  \n",
    "individual_strings = file_content.split('\\n')\n",
    "for i, individual_str in enumerate(individual_strings, 1):\n",
    "    word =  individual_str\n",
    "    n.append(word)"
   ]
  },
  {
   "cell_type": "code",
   "execution_count": null,
   "metadata": {},
   "outputs": [],
   "source": [
    "\n",
    "s = set()\n",
    "\n",
    "for i in range (0,len(n)):\n",
    "    for j in range(0,len(n[i])):\n",
    "        for k in range (0,len(n)):\n",
    "            for l in range(0,len(n[k])):\n",
    "                if n[i][j] != '.' and n[i][j] == n[k][l] and (i!=k or j!=l):\n",
    "                    if 0 <= (k + (k-i)) < len(n) and 0 <= (l + (l-j)) < len(n[0]):\n",
    "                        s.add((k + (k-i), l + (l-j)))\n",
    "                        \n",
    "                    if 0 <= (i + (i-k)) < len(n) and 0 <= (j + (j-l)) < len(n[0]):\n",
    "                        s.add((i + (i-k), j + (j-l)))\n",
    "                        \n",
    "                        \n",
    "\n",
    "print(len(s))\n",
    "\n"
   ]
  },
  {
   "cell_type": "code",
   "execution_count": null,
   "metadata": {},
   "outputs": [],
   "source": [
    "#Part 2 \n",
    "s = set()\n",
    "\n",
    "for i in range (0,len(n)):\n",
    "    for j in range(0,len(n[i])):\n",
    "        for k in range (0,len(n)):\n",
    "            for l in range(0,len(n[k])):\n",
    "\n",
    "                if n[i][j] != '.' and n[i][j] == n[k][l] and (i!=k or j!=l):\n",
    "                    inGrid = True \n",
    "                    m = 0\n",
    "                    s.add((i,j))\n",
    "                    s.add((k,l))\n",
    "                    while inGrid : \n",
    "                        m+=1\n",
    "                        if 0 <= (k + m*(k-i)) < len(n) and 0 <= (l + m*(l-j)) < len(n[0]):\n",
    "                            s.add((k + m*(k-i), l + m*(l-j)))\n",
    "                    \n",
    "                        elif 0 <= (i + m*(i-k)) < len(n) and 0 <= (j + m*(j-l)) < len(n[0]):\n",
    "                            s.add((i + m*(i-k), j + m*(j-l)))\n",
    "                        else :\n",
    "                            inGrid = False     \n",
    "                  \n",
    "\n",
    "print(len(s))\n",
    "\n"
   ]
  },
  {
   "cell_type": "code",
   "execution_count": null,
   "metadata": {},
   "outputs": [],
   "source": []
  }
 ],
 "metadata": {
  "kernelspec": {
   "display_name": "base",
   "language": "python",
   "name": "python3"
  },
  "language_info": {
   "codemirror_mode": {
    "name": "ipython",
    "version": 3
   },
   "file_extension": ".py",
   "mimetype": "text/x-python",
   "name": "python",
   "nbconvert_exporter": "python",
   "pygments_lexer": "ipython3",
   "version": "3.11.5"
  }
 },
 "nbformat": 4,
 "nbformat_minor": 2
}
