{
 "cells": [
  {
   "cell_type": "code",
   "execution_count": 2,
   "metadata": {},
   "outputs": [],
   "source": [
    "s = [5, 89749, 6061, 43, 867, 1965860, 0, 206250]\n",
    "l = [5, 89749, 6061, 43, 867, 1965860, 0, 206250]"
   ]
  },
  {
   "cell_type": "code",
   "execution_count": 3,
   "metadata": {},
   "outputs": [],
   "source": [
    "w = [19, 5, 89749, 6061, 43, 867, 1965860, 0, 206250, 292]"
   ]
  },
  {
   "cell_type": "code",
   "execution_count": 4,
   "metadata": {},
   "outputs": [
    {
     "name": "stdout",
     "output_type": "stream",
     "text": [
      "Match Found!\n"
     ]
    }
   ],
   "source": [
    "for h in range(0,len(s)):\n",
    "        match = True \n",
    "        for k in range(0,len(l)):\n",
    "            if l[k] != s[h+k]:\n",
    "                match = False\n",
    "                break\n",
    "        if match == True:\n",
    "            print(\"Match Found!\")\n",
    "      "
   ]
  },
  {
   "cell_type": "code",
   "execution_count": 5,
   "metadata": {},
   "outputs": [
    {
     "name": "stdout",
     "output_type": "stream",
     "text": [
      "203609\n"
     ]
    }
   ],
   "source": [
    "from copy import deepcopy\n",
    "\n",
    "for j in range(25):\n",
    "      \n",
    "    \n",
    "    r = []\n",
    "    #print (s)\n",
    "    for i in range(0,len(s)):\n",
    "    \n",
    "        n = s[i]\n",
    "        \n",
    "        if n == 0 :\n",
    "            n = 1\n",
    "            r.append(n)\n",
    "        elif len(str(n))%2==0:\n",
    "            #print(n)\n",
    "            x = str(n)\n",
    "            #print(x)\n",
    "            y = x[(len(x)//2):]\n",
    "            #print(y)\n",
    "            x = x[:(len(x)//2)]\n",
    "            #print(x)\n",
    "            n = int(x)\n",
    "            r.append(n)\n",
    "            r.append(int(y))\n",
    "        else:\n",
    "            n = n*2024\n",
    "            r.append(n)\n",
    "       \n",
    "    s = deepcopy(r)\n",
    "    \n",
    "    \n",
    "print (len(s))\n",
    "       \n",
    "    "
   ]
  },
  {
   "cell_type": "code",
   "execution_count": 6,
   "metadata": {},
   "outputs": [],
   "source": [
    "s = [5, 89749, 6061, 43, 867, 1965860, 0, 206250]\n",
    "\n"
   ]
  },
  {
   "cell_type": "code",
   "execution_count": 7,
   "metadata": {},
   "outputs": [],
   "source": [
    "import functools\n",
    "\n",
    "@functools.lru_cache(maxsize=12800000)\n",
    "def runner(n,depth):\n",
    "    if depth == 0:\n",
    "        return 1 \n",
    "    if n == 0 :\n",
    "         return runner(1, depth-1)\n",
    "        \n",
    "    elif len(str(n))%2==0:\n",
    "           \n",
    "        x = str(n)\n",
    "    \n",
    "        y = x[(len(x)//2):]   \n",
    "        x = x[:(len(x)//2)]   \n",
    "        \n",
    "        return runner(int(x), depth-1) + runner(int(y), depth-1)  \n",
    "          \n",
    "        \n",
    "    else:\n",
    "        return runner(n*2024, depth-1)\n",
    "            \n",
    "       "
   ]
  },
  {
   "cell_type": "code",
   "execution_count": 8,
   "metadata": {},
   "outputs": [],
   "source": [
    "sumo = 0 \n",
    "for i in range(0,len(s)):\n",
    "    sumo += runner(s[i],75)"
   ]
  },
  {
   "cell_type": "code",
   "execution_count": 9,
   "metadata": {},
   "outputs": [
    {
     "data": {
      "text/plain": [
       "240954878211138"
      ]
     },
     "execution_count": 9,
     "metadata": {},
     "output_type": "execute_result"
    }
   ],
   "source": [
    "sumo "
   ]
  },
  {
   "cell_type": "code",
   "execution_count": null,
   "metadata": {},
   "outputs": [],
   "source": []
  }
 ],
 "metadata": {
  "kernelspec": {
   "display_name": "base",
   "language": "python",
   "name": "python3"
  },
  "language_info": {
   "codemirror_mode": {
    "name": "ipython",
    "version": 3
   },
   "file_extension": ".py",
   "mimetype": "text/x-python",
   "name": "python",
   "nbconvert_exporter": "python",
   "pygments_lexer": "ipython3",
   "version": "3.11.5"
  }
 },
 "nbformat": 4,
 "nbformat_minor": 2
}
