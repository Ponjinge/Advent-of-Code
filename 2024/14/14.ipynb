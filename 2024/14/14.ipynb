{
 "cells": [
  {
   "cell_type": "code",
   "execution_count": null,
   "metadata": {},
   "outputs": [],
   "source": [
    "n = []\n",
    "\n",
    "with open('./input.txt', 'r') as file:\n",
    "    file_content = file.read().strip()  \n",
    "individual_strings = file_content.split('\\n')\n",
    "for i, individual_str in enumerate(individual_strings, 1):\n",
    "    word = individual_str\n",
    "    n.append(word)\n",
    "    \n",
    "n = [[int(e) for e in line.replace('p=','').replace('v=','').replace(',',' ').split()] for line in n]"
   ]
  },
  {
   "cell_type": "code",
   "execution_count": null,
   "metadata": {},
   "outputs": [],
   "source": [
    "l = 101\n",
    "w = 103"
   ]
  },
  {
   "cell_type": "code",
   "execution_count": null,
   "metadata": {},
   "outputs": [],
   "source": [
    "pos = []\n",
    "for i in range(0,len(n)):\n",
    "    pos.append([n[i][0],n[i][1]])"
   ]
  },
  {
   "cell_type": "code",
   "execution_count": null,
   "metadata": {},
   "outputs": [],
   "source": [
    "steps = 100\n",
    "for i in range(0, len(n)):\n",
    "    pos[i]=[(pos[i][0]+steps*n[i][2]),(pos[i][1]+steps*n[i][3])]"
   ]
  },
  {
   "cell_type": "code",
   "execution_count": null,
   "metadata": {},
   "outputs": [],
   "source": [
    "for i in range(0,len(n)):\n",
    "    pos[i][0] = pos[i][0] % l\n",
    "    pos[i][1] = pos[i][1] % w"
   ]
  },
  {
   "cell_type": "code",
   "execution_count": null,
   "metadata": {},
   "outputs": [],
   "source": [
    "s1,s2,s3,s4 = 0,0,0,0\n",
    "\n",
    "for i in range(0,len(n)):\n",
    "    if pos[i][0]>l//2 and pos[i][1]>w//2:\n",
    "        s4 +=1\n",
    "    elif pos[i][0]<l//2 and pos[i][1]<w//2:\n",
    "        s1 +=1\n",
    "    elif pos[i][0]>l//2 and pos[i][1]<w//2:\n",
    "        s2 +=1\n",
    "    elif pos[i][0]<l//2 and pos[i][1]>w//2:\n",
    "        s3 +=1\n",
    "print(s1,s2,s3,s4)\n",
    "print(s1*s2*s3*s4)\n",
    "        "
   ]
  },
  {
   "cell_type": "code",
   "execution_count": null,
   "metadata": {},
   "outputs": [],
   "source": [
    "v,vis = [],[]\n",
    "for _ in range(0,l):\n",
    "    v.append('.')\n",
    "for _ in range(0,w):\n",
    "    vis.append(v)"
   ]
  },
  {
   "cell_type": "code",
   "execution_count": null,
   "metadata": {},
   "outputs": [],
   "source": [
    "#part 2\n",
    "pos = []\n",
    "for i in range(0,len(n)):\n",
    "    pos.append([n[i][0],n[i][1]])\n",
    "    \n",
    "steps = 30000\n",
    "\n",
    "for k in range(0,steps): \n",
    "    conds = 0 \n",
    "    cond = 0   \n",
    "    for i in range(0, len(n)):\n",
    "        pos[i]=[(pos[i][0]+n[i][2])%l,(pos[i][1]+n[i][3])%w]\n",
    "        \n",
    "        if ((l//2)-pos[i][1])<=pos[i][0] and pos[i][0]<=((l//2)+pos[i][1]):\n",
    "            #print('conditions met')\n",
    "            conds +=1\n",
    "        \n",
    "        if ((w//2)-pos[i][0])<=pos[i][1] and pos[i][1]<=((w//2)+pos[i][0]):\n",
    "            #print('condition met')\n",
    "            cond +=1\n",
    "            \n",
    "    if conds >= 450 or cond >= 450:\n",
    "        print(k)"
   ]
  },
  {
   "cell_type": "code",
   "execution_count": null,
   "metadata": {},
   "outputs": [],
   "source": []
  }
 ],
 "metadata": {
  "kernelspec": {
   "display_name": "base",
   "language": "python",
   "name": "python3"
  },
  "language_info": {
   "codemirror_mode": {
    "name": "ipython",
    "version": 3
   },
   "file_extension": ".py",
   "mimetype": "text/x-python",
   "name": "python",
   "nbconvert_exporter": "python",
   "pygments_lexer": "ipython3",
   "version": "3.11.5"
  }
 },
 "nbformat": 4,
 "nbformat_minor": 2
}
