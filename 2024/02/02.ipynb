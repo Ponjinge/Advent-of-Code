{
 "cells": [
  {
   "cell_type": "code",
   "execution_count": null,
   "metadata": {},
   "outputs": [],
   "source": [
    "# Get Positive INT\n",
    "import re\n",
    "s = []\n",
    "\n",
    "with open('./input.txt', 'r') as file:\n",
    "    file_content = file.read().strip()  \n",
    "individual_strings = file_content.split('\\n')\n",
    "\n",
    "for i, individual_str in enumerate(individual_strings, 1):\n",
    "    word = [int(num) for num in re.findall(r'\\d+', individual_str)]\n",
    "    s.append(word)\n"
   ]
  },
  {
   "cell_type": "code",
   "execution_count": null,
   "metadata": {},
   "outputs": [],
   "source": [
    "\n",
    "summo = []\n",
    "for i in range(len(s)):\n",
    "    summo.append(0)\n",
    "    for k in range(len(s[i])):\n",
    "        t = s[i][:k] + s[i][k+1:]\n",
    "        if len(t) >= 2:\n",
    "            c = 1\n",
    "            if abs(t[0] - t[1]) > 3 or abs(t[0] - t[1]) < 1:\n",
    "                mode = 0\n",
    "            elif t[0] > t[1]:\n",
    "                mode = 1\n",
    "            else:\n",
    "                mode = 2\n",
    "            last = t[1]\n",
    "\n",
    "            for j in range(2, len(t)):\n",
    "                if mode == 0:\n",
    "                    c = 0\n",
    "                if abs(t[j] - last) > 3 or abs(t[j] - last) < 1:\n",
    "                    c = 0\n",
    "                if mode == 1 and last < t[j]:\n",
    "                    c = 0\n",
    "                if mode == 2 and last > t[j]:\n",
    "                    c = 0\n",
    "                last = t[j]\n",
    "            \n",
    "            if c == 1:\n",
    "                summo[i] = 1\n"
   ]
  },
  {
   "cell_type": "code",
   "execution_count": null,
   "metadata": {},
   "outputs": [],
   "source": [
    "suma = 0 \n",
    "for i in range(0,len(summo )):\n",
    "    suma += summo[i]\n",
    "    "
   ]
  },
  {
   "cell_type": "code",
   "execution_count": null,
   "metadata": {},
   "outputs": [],
   "source": [
    "suma"
   ]
  },
  {
   "cell_type": "code",
   "execution_count": null,
   "metadata": {},
   "outputs": [],
   "source": []
  }
 ],
 "metadata": {
  "kernelspec": {
   "display_name": "base",
   "language": "python",
   "name": "python3"
  },
  "language_info": {
   "codemirror_mode": {
    "name": "ipython",
    "version": 3
   },
   "file_extension": ".py",
   "mimetype": "text/x-python",
   "name": "python",
   "nbconvert_exporter": "python",
   "pygments_lexer": "ipython3",
   "version": "3.11.5"
  }
 },
 "nbformat": 4,
 "nbformat_minor": 2
}
