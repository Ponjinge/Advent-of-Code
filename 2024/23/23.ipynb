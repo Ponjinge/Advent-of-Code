{
 "cells": [
  {
   "cell_type": "code",
   "execution_count": 41,
   "metadata": {},
   "outputs": [],
   "source": [
    "# Get Strings of letters\n",
    "import re\n",
    "l = []\n",
    "with open('./input.txt', 'r') as file:\n",
    "    for line in file:\n",
    "        letters = re.findall(r'[a-zA-Z]+', line)\n",
    "        l.append(letters)"
   ]
  },
  {
   "cell_type": "code",
   "execution_count": 42,
   "metadata": {},
   "outputs": [],
   "source": [
    "LANs = set()\n",
    "links = {}\n",
    "for link in l :\n",
    "    links[link[0]] = [link[1]]\n",
    "    links[link[1]] = [link[0]] \n",
    "\n",
    "for link in l :\n",
    "    links[link[0]].append(link[1])\n",
    "    links[link[1]].append(link[0])\n"
   ]
  },
  {
   "cell_type": "code",
   "execution_count": 43,
   "metadata": {},
   "outputs": [],
   "source": [
    "for computer in links:\n",
    "    for computer2 in links[computer]:\n",
    "        for computer3 in links[computer2]:\n",
    "            if computer in links[computer3]:\n",
    "                complist = [computer,computer2,computer3]\n",
    "                complist.sort()\n",
    "                LANs.add(tuple(complist))\n",
    "            "
   ]
  },
  {
   "cell_type": "code",
   "execution_count": null,
   "metadata": {},
   "outputs": [],
   "source": [
    "s = 0\n",
    "\n",
    "for party in LANs:\n",
    "    if party[0][0] =='t' or party[1][0] =='t' or party[2][0] =='t':\n",
    "\n",
    "        s +=1\n",
    "\n",
    "s"
   ]
  },
  {
   "cell_type": "code",
   "execution_count": null,
   "metadata": {},
   "outputs": [],
   "source": [
    "# Part 2\n",
    "Lanset = set()\n",
    "\n",
    "for start in links:\n",
    "    for fc in links[start]:\n",
    "        cl = [start, fc]\n",
    "        for comp in links[fc]:\n",
    "            counter = 0 \n",
    "            for c in cl:\n",
    "                if comp in links[c]:\n",
    "                    counter +=1\n",
    "            \n",
    "            if counter == len(cl):\n",
    "                cl.append(comp)\n",
    "\n",
    "        cl.sort()\n",
    "        Lanset.add(tuple(cl))\n",
    "            \n",
    "    "
   ]
  },
  {
   "cell_type": "code",
   "execution_count": null,
   "metadata": {},
   "outputs": [],
   "source": [
    "maxi = 0 \n",
    "for Lan in Lanset:\n",
    "    if len(Lan)>maxi:\n",
    "        maxi = len(Lan)\n",
    "    "
   ]
  },
  {
   "cell_type": "code",
   "execution_count": null,
   "metadata": {},
   "outputs": [],
   "source": [
    "for Lan in Lanset:\n",
    "    if len(Lan)==maxi:\n",
    "        password =''\n",
    "        print(Lan)\n",
    "        for e in Lan:\n",
    "            password+= e +','"
   ]
  },
  {
   "cell_type": "code",
   "execution_count": null,
   "metadata": {},
   "outputs": [],
   "source": [
    "password"
   ]
  }
 ],
 "metadata": {
  "kernelspec": {
   "display_name": "base",
   "language": "python",
   "name": "python3"
  },
  "language_info": {
   "codemirror_mode": {
    "name": "ipython",
    "version": 3
   },
   "file_extension": ".py",
   "mimetype": "text/x-python",
   "name": "python",
   "nbconvert_exporter": "python",
   "pygments_lexer": "ipython3",
   "version": "3.11.5"
  }
 },
 "nbformat": 4,
 "nbformat_minor": 2
}
