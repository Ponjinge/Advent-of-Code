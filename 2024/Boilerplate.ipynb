{
 "cells": [
  {
   "cell_type": "code",
   "execution_count": null,
   "metadata": {},
   "outputs": [],
   "source": [
    "#Boilerplate 1 \n",
    "\n",
    "n = []\n",
    "\n",
    "with open('./input.txt', 'r') as file:\n",
    "    file_content = file.read().strip()  \n",
    "individual_strings = file_content.split('\\n\\n')\n",
    "for i, individual_str in enumerate(individual_strings, 1):\n",
    "    word = [[*line] for line in individual_str.split('\\n')]\n",
    "    n.append(word)"
   ]
  },
  {
   "cell_type": "code",
   "execution_count": null,
   "metadata": {},
   "outputs": [],
   "source": [
    "#Boilerplate 2 \n",
    "\n",
    "n = []\n",
    "\n",
    "with open('./input.txt', 'r') as file:\n",
    "    file_content = file.read().strip()  # Read the file content and remove leading/trailing whitespaces\n",
    "\n",
    "# Split the content based on empty lines\n",
    "individual_strings = file_content.split('\\n\\n')\n",
    "\n",
    "# Process each individual\n",
    "for i, individual_str in enumerate(individual_strings, 1):\n",
    "    # Convert lines to integers and add them to the individuals list\n",
    "    individual = [int(line) for line in individual_str.split('\\n')]\n",
    "    n.append(individual)\n",
    "    print(f\"Individual {i}: {individual}\")\n",
    "\n",
    "# Example: Print all individuals\n",
    "print(\"All Individuals:\")\n",
    "for i, individual in enumerate(n, 1):\n",
    "    print(f\"Individual {i}: {individual}\")"
   ]
  },
  {
   "cell_type": "code",
   "execution_count": null,
   "metadata": {},
   "outputs": [],
   "source": [
    "#Read 3\n",
    "\n",
    "import re\n",
    "\n",
    "lin = []\n",
    "\n",
    "with open('./input.txt', 'r') as file:\n",
    "    file_content = file.read().strip()  # Read the file content and remove leading/trailing whitespaces\n",
    "\n",
    "# Split the content based on empty lines\n",
    "individual_strings = file_content.split('\\n')\n",
    "\n",
    "# Process each individual\n",
    "for i, individual_str in enumerate(individual_strings, 1):\n",
    "    # Convert lines to integers and add them to the individuals list\n",
    "    individual = [line for line in re.split(\" \", individual_str)]\n",
    "    \n",
    "    lin.append(individual)\n",
    "    print(f\"Game {i}: {individual}\")\n",
    "    \n",
    "for i in range(0, len(lin)):\n",
    "    j = 0\n",
    "    while j < len(lin[i]):\n",
    "        if lin[i][j] in \"  |   Card   :\" or \":\"in lin[i][j]:\n",
    "            lin[i].pop(j)\n",
    "        else:\n",
    "            j += 1\n",
    "\n"
   ]
  },
  {
   "cell_type": "code",
   "execution_count": null,
   "metadata": {},
   "outputs": [],
   "source": [
    "# Get Positive INT\n",
    "import re\n",
    "s = []\n",
    "\n",
    "with open('./input.txt', 'r') as file:\n",
    "    file_content = file.read().strip()  \n",
    "individual_strings = file_content.split('\\n\\n')\n",
    "\n",
    "for i, individual_str in enumerate(individual_strings, 1):\n",
    "    word = [int(num) for num in re.findall(r'\\d+', individual_str)]\n",
    "    s.append(word)"
   ]
  },
  {
   "cell_type": "code",
   "execution_count": null,
   "metadata": {},
   "outputs": [],
   "source": [
    "# Get Strings of letters\n",
    "import re\n",
    "result = []\n",
    "with open('./input.txt', 'r') as file:\n",
    "    for line in file:\n",
    "        letters = re.findall(r'[a-zA-Z]+', line)\n",
    "        result.append(letters)"
   ]
  },
  {
   "cell_type": "code",
   "execution_count": null,
   "metadata": {},
   "outputs": [],
   "source": [
    "# Separate by line and spaces and turn into integer\n",
    "import re\n",
    "s = []\n",
    "\n",
    "with open('./input.txt', 'r') as file:\n",
    "    file_content = file.read().strip()  \n",
    "individual_strings = file_content.split('\\n')\n",
    "\n",
    "for i, individual_str in enumerate(individual_strings, 1):\n",
    "    word = [int(num) for num in re.split(\" \", individual_str)]\n",
    "    s.append(word)"
   ]
  }
 ],
 "metadata": {
  "kernelspec": {
   "display_name": "Python 3 (ipykernel)",
   "language": "python",
   "name": "python3"
  },
  "language_info": {
   "codemirror_mode": {
    "name": "ipython",
    "version": 3
   },
   "file_extension": ".py",
   "mimetype": "text/x-python",
   "name": "python",
   "nbconvert_exporter": "python",
   "pygments_lexer": "ipython3",
   "version": "3.11.5"
  }
 },
 "nbformat": 4,
 "nbformat_minor": 4
}
