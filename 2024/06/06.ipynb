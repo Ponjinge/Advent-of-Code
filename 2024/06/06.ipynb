{
 "cells": [
  {
   "cell_type": "code",
   "execution_count": 26,
   "metadata": {},
   "outputs": [],
   "source": [
    "# Separate by line and spaces and turn into integer\n",
    "import re\n",
    "s = []\n",
    "\n",
    "with open('./input.txt', 'r') as file:\n",
    "    file_content = file.read().strip()  \n",
    "individual_strings = file_content.split('\\n')\n",
    "\n",
    "for i, individual_str in enumerate(individual_strings, 1):\n",
    "    word = [num for num in re.split(\"\", individual_str)]\n",
    "    s.append(word)"
   ]
  },
  {
   "cell_type": "code",
   "execution_count": 5,
   "metadata": {},
   "outputs": [
    {
     "name": "stdout",
     "output_type": "stream",
     "text": [
      "92 75\n"
     ]
    }
   ],
   "source": [
    "for i in range(0,len(s)):\n",
    "    for j in range(1,len(s[i])-1):\n",
    "        if s[i][j]=='^':\n",
    "            print(i,j)"
   ]
  },
  {
   "cell_type": "code",
   "execution_count": null,
   "metadata": {},
   "outputs": [],
   "source": [
    "def dir(way,i,j):    \n",
    "    if way =='U':\n",
    "        return([i-1,j,way]) \n",
    "    if way =='D':\n",
    "        return([i+1,j,way])\n",
    "    if way =='L':\n",
    "        return([i,j-1,way])\n",
    "    if way =='R':\n",
    "        return([i,j+1,way])"
   ]
  },
  {
   "cell_type": "code",
   "execution_count": null,
   "metadata": {},
   "outputs": [],
   "source": [
    "def check(way,i,j):    \n",
    "    c = False \n",
    "    if way =='U':\n",
    "        if s[i-1][j] == '#':\n",
    "            way = 'R'\n",
    "            \n",
    "    if way =='D':      \n",
    "        if s[i+1][j] == '#':\n",
    "            way = 'L'     \n",
    "            \n",
    "    if way =='R':      \n",
    "        if s[i][j+1] == '#':\n",
    "            way = 'D'        \n",
    "            \n",
    "    if way =='L':      \n",
    "        if s[i][j-1] == '#':\n",
    "            way = 'U' \n",
    "           \n",
    "            \n",
    "    return way "
   ]
  },
  {
   "cell_type": "code",
   "execution_count": null,
   "metadata": {},
   "outputs": [],
   "source": [
    "\n",
    "sol = s.copy()\n",
    "\n",
    "g = [92,75,'U']\n",
    "\n",
    "while g[0]>= 0 and g[0]<=len(s) and g[1]>=0  and g[1] <= (len(s[0])-1):\n",
    "    sol[g[0]][g[1]]='A'\n",
    "    \n",
    "    for _ in range(0,4):\n",
    "       \n",
    "        g[2] = check(g[2],g[0],g[1])\n",
    "        \n",
    "    g = dir(g[2],g[0],g[1])\n",
    "    \n",
    "    \n",
    "    "
   ]
  },
  {
   "cell_type": "code",
   "execution_count": null,
   "metadata": {},
   "outputs": [],
   "source": [
    "sumo = 0 \n",
    "for i in range(0,len(sol)):\n",
    "    \n",
    "    for j in range(1,len(sol)):\n",
    "        \n",
    "        if sol[i][j]=='A':\n",
    "            sumo +=1"
   ]
  },
  {
   "cell_type": "code",
   "execution_count": null,
   "metadata": {},
   "outputs": [],
   "source": [
    "sumo "
   ]
  },
  {
   "cell_type": "code",
   "execution_count": null,
   "metadata": {},
   "outputs": [],
   "source": [
    "sol[0][0]"
   ]
  },
  {
   "cell_type": "code",
   "execution_count": 27,
   "metadata": {},
   "outputs": [],
   "source": [
    "def dir(way,i,j):    \n",
    "    if way =='U':\n",
    "        return((i-1,j,way))\n",
    "    if way =='D':\n",
    "        return((i+1,j,way))\n",
    "    if way =='L':\n",
    "        return((i,j-1,way))\n",
    "    if way =='R':\n",
    "        return((i,j+1,way))"
   ]
  },
  {
   "cell_type": "code",
   "execution_count": 28,
   "metadata": {},
   "outputs": [],
   "source": [
    "def check(way,i,j):    \n",
    "\n",
    "    if way =='U':\n",
    "        if sol[i-1][j] == '#':\n",
    "            way = 'R'\n",
    "            \n",
    "    if way =='D':      \n",
    "        if sol[i+1][j] == '#':\n",
    "            way = 'L'     \n",
    "            \n",
    "    if way =='R':      \n",
    "        if sol[i][j+1] == '#':\n",
    "            way = 'D'        \n",
    "            \n",
    "    if way =='L':      \n",
    "        if sol[i][j-1] == '#':\n",
    "            way = 'U' \n",
    "           \n",
    "            \n",
    "    return (i,j,way) "
   ]
  },
  {
   "cell_type": "code",
   "execution_count": 31,
   "metadata": {},
   "outputs": [],
   "source": [
    "sumo =0\n",
    "from copy import deepcopy\n",
    "for i in range(0,len(s)):\n",
    "    for j in range(1,len(s[0])):\n",
    "        w = set()\n",
    "        sol = deepcopy(s)\n",
    "        if i!=92 or j!=75:\n",
    "            sol[i][j]='#'\n",
    "        \n",
    "            g = (92,75,'U')\n",
    "            it = 0 \n",
    "            while g[0]>0 and g[0]<len(s)-1 and g[1]>=0  and g[1] < (len(s[0])-1):\n",
    "                if g in w :\n",
    "                    break \n",
    "                w.add(g)\n",
    "               \n",
    "    \n",
    "                for _ in range(0,4):\n",
    "                    g = check(g[2],g[0],g[1])\n",
    "        \n",
    "                g = dir(g[2],g[0],g[1])\n",
    "                \n",
    "            \n",
    "            if (g in w) :\n",
    "                sumo +=1\n",
    "    "
   ]
  },
  {
   "cell_type": "code",
   "execution_count": 32,
   "metadata": {},
   "outputs": [
    {
     "data": {
      "text/plain": [
       "1888"
      ]
     },
     "execution_count": 32,
     "metadata": {},
     "output_type": "execute_result"
    }
   ],
   "source": [
    "sumo "
   ]
  },
  {
   "cell_type": "code",
   "execution_count": null,
   "metadata": {},
   "outputs": [],
   "source": []
  }
 ],
 "metadata": {
  "kernelspec": {
   "display_name": "base",
   "language": "python",
   "name": "python3"
  },
  "language_info": {
   "codemirror_mode": {
    "name": "ipython",
    "version": 3
   },
   "file_extension": ".py",
   "mimetype": "text/x-python",
   "name": "python",
   "nbconvert_exporter": "python",
   "pygments_lexer": "ipython3",
   "version": "3.11.5"
  }
 },
 "nbformat": 4,
 "nbformat_minor": 2
}
