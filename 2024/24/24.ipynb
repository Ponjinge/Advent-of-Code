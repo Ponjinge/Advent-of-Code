{
 "cells": [
  {
   "cell_type": "code",
   "execution_count": 141,
   "metadata": {},
   "outputs": [],
   "source": [
    "import re \n",
    "with open('./input.txt', 'r') as file:\n",
    "    file_content = file.read().strip() \n",
    "individual_strings = file_content.split('\\n')\n",
    "\n",
    "nodes = {}\n",
    "l = []\n",
    "c = 0 \n",
    "for e in individual_strings:\n",
    "    if e =='':\n",
    "        c = 1\n",
    "\n",
    "    elif c == 0 :\n",
    "        nodes[e[:3]] = e[-1]\n",
    "    else: \n",
    "        l.append(re.split(' ', e))\n",
    "\n",
    "\n",
    "#l = tuple(l)\n"
   ]
  },
  {
   "cell_type": "code",
   "execution_count": 142,
   "metadata": {},
   "outputs": [],
   "source": [
    "def gatecheck(node,nodelist = l, nodes = nodes):\n",
    "    if node in nodes:\n",
    "        #print(node, nodes[node])\n",
    "        return int(nodes[node])\n",
    "\n",
    "    for k in nodelist:\n",
    "        \n",
    "        if k[4] == node:\n",
    "            \n",
    "            if k[1] =='OR' and (gatecheck(k[2])==1 or gatecheck(k[0])==1):\n",
    "                return 1\n",
    "\n",
    "            elif k[1] =='XOR' and (gatecheck(k[2]) != gatecheck(k[0])):\n",
    "                return 1 \n",
    "\n",
    "            elif k[1] =='AND' and (gatecheck(k[2])==1 and gatecheck(k[0])==1):\n",
    "                return 1 \n",
    "            else:\n",
    "                return 0 \n"
   ]
  },
  {
   "cell_type": "code",
   "execution_count": 143,
   "metadata": {},
   "outputs": [],
   "source": [
    "newnodes = {}\n",
    "for line in l:\n",
    "    #print (line)\n",
    "\n",
    "    newnodes[tuple(line[4])] = gatecheck(line[4])\n"
   ]
  },
  {
   "cell_type": "code",
   "execution_count": 144,
   "metadata": {},
   "outputs": [],
   "source": [
    "answerlist = []\n",
    "for i in newnodes:\n",
    "    answerlist.append((i,newnodes[i]))\n"
   ]
  },
  {
   "cell_type": "code",
   "execution_count": null,
   "metadata": {},
   "outputs": [],
   "source": [
    "answerlist.sort()\n",
    "result = ''\n",
    "for res in answerlist:\n",
    "    \n",
    "    if res[0][0] =='z':\n",
    "        #print(res)\n",
    "        result = str(res[1]) + result\n",
    "\n",
    "power = 0\n",
    "sumo = 0 \n",
    "for i in range(len(result)-1,-1,-1):\n",
    "    if result[i] == '1':\n",
    "        sumo += 2**power\n",
    "    power +=1\n",
    "\n",
    "sumo"
   ]
  },
  {
   "cell_type": "code",
   "execution_count": 194,
   "metadata": {},
   "outputs": [],
   "source": [
    "for line in l:\n",
    "    if line[0][0] =='x' or line[0][0] =='y' :\n",
    "        if line[1] =='XOR':\n",
    "            for line2 in l:\n",
    "                if (line2[0] == line[4] or line2[2] == line[4]) and line2[1] == 'OR':\n",
    "                    \n",
    "                    incorrects.append(line[4])\n",
    "                if (line2[0] == line[4] or line2[2] == line[4]) and line2[1] == 'XOR':\n",
    "                   \n",
    "                    if  line2[4][-2:] != line[0][-2:]:\n",
    "                        \n",
    "                        incorrects.append(line2[4])\n",
    "\n",
    "        elif line[1] =='AND':\n",
    "            for line2 in l:\n",
    "                if (line2[0] == line[4] or line2[2] == line[4]) and line2[1] == 'XOR':\n",
    "                    if line[0]!='x00' and line[0]!='y00':\n",
    "                       \n",
    "                        incorrects.append(line[4])\n",
    "\n",
    "                if (line2[0] == line[4] or line2[2] == line[4]) and line2[1] == 'AND':\n",
    "                    if line[0]!='x00' and line[0]!='y00':\n",
    "                      \n",
    "                        incorrects.append(line[4])\n",
    "        else: \n",
    "           \n",
    "            incorrects.append(line[4])\n",
    "\n",
    "    if line[4][0] == 'z':\n",
    "        if line[1] != 'XOR' and line[4] !='z45':\n",
    "            \n",
    "            \n",
    "            incorrects.append(line[4])\n",
    "        \n",
    "    if line[1] == 'OR':\n",
    "        for line3 in l:\n",
    "            if (line3[0] == line[4] or line3[2] == line[4]) and line3[1] == 'XOR':\n",
    "                if(line3[4][0] !='z'):\n",
    "                   \n",
    "                    incorrects.append(line3[4])\n",
    "            \n",
    "    if line[1] =='AND':\n",
    "        for line5 in l:\n",
    "            if (line5[0] == line[4] or line5[2] == line[4]) and line5[1] != 'OR' and (line[0]!='x00' and line[0]!='y00'):\n",
    "                \n",
    "                incorrects.append(line[4])\n",
    "        "
   ]
  },
  {
   "cell_type": "code",
   "execution_count": null,
   "metadata": {},
   "outputs": [],
   "source": [
    "\n",
    "incorrects.sort()\n",
    "resp2 = ''\n",
    "for i in incorrects:\n",
    "    resp2 += i+','\n",
    "print (resp2)"
   ]
  }
 ],
 "metadata": {
  "kernelspec": {
   "display_name": "base",
   "language": "python",
   "name": "python3"
  },
  "language_info": {
   "codemirror_mode": {
    "name": "ipython",
    "version": 3
   },
   "file_extension": ".py",
   "mimetype": "text/x-python",
   "name": "python",
   "nbconvert_exporter": "python",
   "pygments_lexer": "ipython3",
   "version": "3.11.5"
  }
 },
 "nbformat": 4,
 "nbformat_minor": 2
}
