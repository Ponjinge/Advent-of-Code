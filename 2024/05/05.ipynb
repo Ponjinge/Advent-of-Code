{
 "cells": [
  {
   "cell_type": "code",
   "execution_count": null,
   "metadata": {},
   "outputs": [],
   "source": [
    "#Boilerplate 2 \n",
    "import re\n",
    "s = []\n",
    "\n",
    "with open('./input2.txt', 'r') as file:\n",
    "    file_content = file.read().strip()  # Read the file content and remove leading/trailing whitespaces\n",
    "\n",
    "# Split the content based on empty lines\n",
    "individual_strings = file_content.split('\\n')\n",
    "# Process each individual\n",
    "for i, individual_str in enumerate(individual_strings, 1):\n",
    "    # Convert lines to integers and add them to the individuals list\n",
    "    individual = individual_str.replace(',', ' ').split()\n",
    "    s.append(individual)"
   ]
  },
  {
   "cell_type": "code",
   "execution_count": null,
   "metadata": {},
   "outputs": [],
   "source": [
    "#Boilerplate 2 \n",
    "import re\n",
    "n = []\n",
    "\n",
    "with open('./input.txt', 'r') as file:\n",
    "    file_content = file.read().strip()  # Read the file content and remove leading/trailing whitespaces\n",
    "\n",
    "# Split the content based on empty lines\n",
    "individual_strings = file_content.split('\\n')\n",
    "# Process each individual\n",
    "for i, individual_str in enumerate(individual_strings, 1):\n",
    "    # Convert lines to integers and add them to the individuals list\n",
    "    individual = individual_str.replace('|', ' ').split()\n",
    "    n.append(individual)\n",
    "   \n",
    "\n"
   ]
  },
  {
   "cell_type": "code",
   "execution_count": null,
   "metadata": {},
   "outputs": [],
   "source": [
    "inco = set()\n",
    "sumo = 0 \n",
    "for i in range(0,len(s)):\n",
    "    incorrect = False\n",
    "    for j in range(0,len(s[i])):\n",
    "        for k in range(0,len(n)):\n",
    "            if s[i][j] == n[k][1]:\n",
    "                for p in range(j,len(s[i])):\n",
    "                    if s[i][p]==n[k][0]:\n",
    "                        incorrect = True\n",
    "                        inco.add(i)\n",
    "                        break\n",
    "                if incorrect == True:\n",
    "                    break\n",
    "                \n",
    "            if s[i][j] == n[k][0]:\n",
    "                for p in range(j,0,-1):\n",
    "                    if s[i][p]==n[k][1]:\n",
    "                        incorrect = True\n",
    "                        inco.add(i)\n",
    "                        break\n",
    "                if incorrect == True:\n",
    "                    break\n",
    "            if incorrect == True:\n",
    "                break \n",
    "        if incorrect == True :\n",
    "            break \n",
    "    if incorrect == False:\n",
    "        sumo += int(s[i][len(s[i])//2])"
   ]
  },
  {
   "cell_type": "code",
   "execution_count": null,
   "metadata": {},
   "outputs": [],
   "source": [
    "sumo "
   ]
  },
  {
   "cell_type": "code",
   "execution_count": null,
   "metadata": {},
   "outputs": [],
   "source": [
    "for i in inco:\n",
    "    good = False \n",
    "    while good == False :\n",
    "        good = True \n",
    "        for j in range(0,len(s[i])):\n",
    "            for k in range(0,len(n)):\n",
    "                if s[i][j] == n[k][1]:\n",
    "                    for p in range(j,len(s[i])):\n",
    "                        if s[i][p]==n[k][0]:\n",
    "                            temp = s[i][p]\n",
    "                            s[i][p]= s[i][j]\n",
    "                            s[i][j]= temp\n",
    "                            good = False \n",
    "                               \n",
    "                            \n",
    "                \n",
    "                if s[i][j] == n[k][0]:\n",
    "                    for p in range(j,0,-1):\n",
    "                        if s[i][p]==n[k][1]:\n",
    "                            temp = s[i][p]\n",
    "                            s[i][p]= s[i][j]\n",
    "                            s[i][j]= temp \n",
    "                            good = False \n",
    "                                \n",
    "                            \n",
    "                \n",
    "        "
   ]
  },
  {
   "cell_type": "code",
   "execution_count": null,
   "metadata": {},
   "outputs": [],
   "source": [
    "inco2 = []\n",
    "sumo = 0 \n",
    "for i in inco:\n",
    "    incorrect = False\n",
    "    for j in range(0,len(s[i])):\n",
    "        for k in range(0,len(n)):\n",
    "            if s[i][j] == n[k][1]:\n",
    "                for p in range(j,len(s[i])):\n",
    "                    if s[i][p]==n[k][0]:\n",
    "                        incorrect = True\n",
    "                        inco2.append(i)\n",
    "                        break\n",
    "                if incorrect == True:\n",
    "                    break\n",
    "                \n",
    "            if s[i][j] == n[k][0]:\n",
    "                for p in range(j,0,-1):\n",
    "                    if s[i][p]==n[k][1]:\n",
    "                        incorrect = True\n",
    "                        inco2.append(i)\n",
    "                        break\n",
    "                if incorrect == True:\n",
    "                    break\n",
    "            if incorrect == True:\n",
    "                break \n",
    "        if incorrect == True :\n",
    "            break \n",
    "    if incorrect == False:\n",
    "        sumo += int(s[i][len(s[i])//2])"
   ]
  },
  {
   "cell_type": "code",
   "execution_count": null,
   "metadata": {},
   "outputs": [],
   "source": [
    "sumo \n",
    "        \n",
    "           "
   ]
  },
  {
   "cell_type": "code",
   "execution_count": null,
   "metadata": {},
   "outputs": [],
   "source": []
  }
 ],
 "metadata": {
  "kernelspec": {
   "display_name": "base",
   "language": "python",
   "name": "python3"
  },
  "language_info": {
   "codemirror_mode": {
    "name": "ipython",
    "version": 3
   },
   "file_extension": ".py",
   "mimetype": "text/x-python",
   "name": "python",
   "nbconvert_exporter": "python",
   "pygments_lexer": "ipython3",
   "version": "3.11.5"
  }
 },
 "nbformat": 4,
 "nbformat_minor": 2
}
