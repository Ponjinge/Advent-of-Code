{
 "cells": [
  {
   "cell_type": "code",
   "execution_count": 130,
   "metadata": {},
   "outputs": [],
   "source": [
    "# Get Positive INT\n",
    "import re\n",
    "with open('./input.txt', 'r') as file:\n",
    "    file_content = file.read().strip()  \n",
    "    numbers = re.findall(r'\\d+', file_content)"
   ]
  },
  {
   "cell_type": "code",
   "execution_count": null,
   "metadata": {},
   "outputs": [],
   "source": [
    "#Part 1 \n",
    "\n",
    "p = 16777216\n",
    "s = 0 \n",
    "\n",
    "for num in numbers:\n",
    "    n = int(num)\n",
    "    for _ in range (0,2000):\n",
    "        r1 = ((n*64)^n)% p\n",
    "        r2 = ((r1//32)^r1)% p\n",
    "        n = ((r2*2048)^r2)% p\n",
    "    s+=n\n",
    "print(s)"
   ]
  },
  {
   "cell_type": "code",
   "execution_count": null,
   "metadata": {},
   "outputs": [],
   "source": [
    "#Part 2\n",
    "allmonkeyprices = {}\n",
    "#numbers = [1,2,3,2024]\n",
    "for num in numbers:\n",
    "    n = int(num)\n",
    "    price = 0\n",
    "    pricechanges = []    \n",
    "    specificmonkeyprices = {}\n",
    "    for _ in range (0,2000):\n",
    "        \n",
    "        r1 = ((n*64)^n)% p\n",
    "        r2 = ((r1//32)^r1)% p\n",
    "        n = ((r2*2048)^r2)% p\n",
    "        ld = int(str(n)[-1])\n",
    "        pc =  ld - price\n",
    "        \n",
    "        pricechanges.append(pc)\n",
    "        if _ >3:\n",
    "            \n",
    "            if  tuple(pricechanges[-5:-1]) not in specificmonkeyprices.keys():         \n",
    "                specificmonkeyprices[tuple(pricechanges[-5:-1])] = price\n",
    "            #if  pricechanges[-5:-1] == [-2, 1, -1, 3]:      \n",
    "                #print(pricechanges[-5:-1], pricechanges, price)\n",
    "\n",
    "        price = ld\n",
    "\n",
    "    for key, value in specificmonkeyprices.items():\n",
    "        if key in allmonkeyprices.keys():\n",
    "            allmonkeyprices[key].append(value)\n",
    "        else:                \n",
    "            allmonkeyprices[key]=[value]\n",
    "\n",
    "\n",
    "maxiPrice = 0 \n",
    "for key in allmonkeyprices:\n",
    "    totPrice = 0 \n",
    "    for e in allmonkeyprices[key]:\n",
    "        \n",
    "        totPrice += e \n",
    "    \n",
    "    if totPrice >= maxiPrice:\n",
    "        maxiPrice = totPrice\n",
    "        maxiKey = key \n",
    "\n",
    "print (maxiKey, maxiPrice)\n",
    "\n"
   ]
  }
 ],
 "metadata": {
  "kernelspec": {
   "display_name": "base",
   "language": "python",
   "name": "python3"
  },
  "language_info": {
   "codemirror_mode": {
    "name": "ipython",
    "version": 3
   },
   "file_extension": ".py",
   "mimetype": "text/x-python",
   "name": "python",
   "nbconvert_exporter": "python",
   "pygments_lexer": "ipython3",
   "version": "3.11.5"
  }
 },
 "nbformat": 4,
 "nbformat_minor": 2
}
