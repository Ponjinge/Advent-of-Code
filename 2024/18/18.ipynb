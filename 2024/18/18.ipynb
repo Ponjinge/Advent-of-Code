{
 "cells": [
  {
   "cell_type": "code",
   "execution_count": 30,
   "metadata": {},
   "outputs": [],
   "source": [
    "# Get Positive INT\n",
    "import re\n",
    "s = []\n",
    "\n",
    "with open('./input.txt', 'r') as file:\n",
    "    file_content = file.read().strip()  \n",
    "individual_strings = file_content.split('\\n')\n",
    "\n",
    "for i, individual_str in enumerate(individual_strings, 1):\n",
    "    word = [int(num) for num in re.findall(r'\\d+', individual_str)]\n",
    "    s.append(word)"
   ]
  },
  {
   "cell_type": "code",
   "execution_count": 41,
   "metadata": {},
   "outputs": [],
   "source": [
    "n = set()\n",
    "for e in s[0:1024] :\n",
    "    n.add((e[0],e[1]))"
   ]
  },
  {
   "cell_type": "code",
   "execution_count": 42,
   "metadata": {},
   "outputs": [],
   "source": [
    "ls = []\n",
    "for i in range(0,71):\n",
    "    l = []\n",
    "    for j in range(0,71):\n",
    "        if (i,j) in n :\n",
    "            l.append('#')\n",
    "        else :\n",
    "            l.append('.')\n",
    "    ls.append(l)"
   ]
  },
  {
   "cell_type": "code",
   "execution_count": 43,
   "metadata": {},
   "outputs": [],
   "source": [
    "def dir(way,i,j,d):\n",
    "    if way== d:\n",
    "        new_c = 0\n",
    "    if way!=d:\n",
    "        new_c = 1\n",
    "        \n",
    "    if way =='U':\n",
    "        return((way, i-1,j,new_c)) \n",
    "    if way =='D':\n",
    "        return((way, i+1,j,new_c))\n",
    "    if way =='L':\n",
    "        return((way, i,j-1,new_c))\n",
    "    if way =='R':\n",
    "        return((way, i,j+1,new_c))"
   ]
  },
  {
   "cell_type": "code",
   "execution_count": 67,
   "metadata": {},
   "outputs": [],
   "source": [
    "def shortest_path(ls, start, end):\n",
    "    # Data structure: (cost, dir, x, y)\n",
    "    start = (0, 'R', start[0], start[1])  # Starting position\n",
    "\n",
    "    ol = [start]  # Open List\n",
    "    cl = set()  # Closed List\n",
    "    \n",
    "    costs = {}\n",
    "    costs[('R', start[0], start[1])] = 0  # Store as (direction, x, y)\n",
    "\n",
    "    # While there are elements in the open list\n",
    "    while ol:\n",
    "        ol.sort()  # Sort the open list based on cost\n",
    "    \n",
    "        # We remove it from the open list and add it to the closed list\n",
    "        cost, d, i, j = ol.pop(0)  \n",
    "        active = (d, i, j)\n",
    "        cl.add(active)\n",
    "        \n",
    "        # If we reached the end\n",
    "        if (i, j) == end:\n",
    "            return cost, active\n",
    "\n",
    "        directions = ['U', 'D', 'L', 'R']\n",
    "\n",
    "        if d == 'U':\n",
    "            directions.remove('D')\n",
    "        elif d == 'D':\n",
    "            directions.remove('U')\n",
    "        elif d == 'R':\n",
    "            directions.remove('L')\n",
    "        elif d == 'L':\n",
    "            directions.remove('R')\n",
    "\n",
    "        for way in directions:\n",
    "            if (dir(way,i,j,d)[1],dir(way,i,j,d)[2]) not in n:\n",
    "                new_state = dir(way, i, j, d)\n",
    "                new_pos = (new_state[1], new_state[2])\n",
    "            \n",
    "                if 0 <= new_pos[0] < len(ls) and 0 <= new_pos[1] < len(ls[0]):\n",
    "                    new_cost = cost + 1\n",
    "                    new_key = (new_state[0], new_state[1], new_state[2])\n",
    "                \n",
    "                    if new_key not in costs or new_cost < costs[new_key]:\n",
    "                        costs[new_key] = new_cost\n",
    "                        ol.append((new_cost, new_state[0], new_state[1], new_state[2]))\n",
    "    \n",
    "    return None "
   ]
  },
  {
   "cell_type": "code",
   "execution_count": null,
   "metadata": {},
   "outputs": [],
   "source": [
    "start = (0,0)\n",
    "end = (70,70)\n",
    "shortest_path(ls, start,end)[0]\n"
   ]
  },
  {
   "cell_type": "code",
   "execution_count": null,
   "metadata": {},
   "outputs": [],
   "source": [
    "n = set()\n",
    "for i in range(2500,len(s)):\n",
    "    for e in s[0:i] :\n",
    "        n.add((e[0],e[1]))\n",
    "    print(shortest_path(ls, start,end),i)\n",
    "    #2869\n",
    "        "
   ]
  },
  {
   "cell_type": "code",
   "execution_count": null,
   "metadata": {},
   "outputs": [],
   "source": [
    "s[2869]"
   ]
  },
  {
   "cell_type": "code",
   "execution_count": null,
   "metadata": {},
   "outputs": [],
   "source": [
    "n = set() \n",
    "for e in s[0:2869] :\n",
    "    n.add((e[0],e[1]))\n",
    "print(len(n))\n",
    "print(shortest_path(ls, start,end),i)"
   ]
  },
  {
   "cell_type": "code",
   "execution_count": null,
   "metadata": {},
   "outputs": [],
   "source": [
    "s[2868]"
   ]
  },
  {
   "cell_type": "code",
   "execution_count": null,
   "metadata": {},
   "outputs": [],
   "source": []
  }
 ],
 "metadata": {
  "kernelspec": {
   "display_name": "base",
   "language": "python",
   "name": "python3"
  },
  "language_info": {
   "codemirror_mode": {
    "name": "ipython",
    "version": 3
   },
   "file_extension": ".py",
   "mimetype": "text/x-python",
   "name": "python",
   "nbconvert_exporter": "python",
   "pygments_lexer": "ipython3",
   "version": "3.11.5"
  }
 },
 "nbformat": 4,
 "nbformat_minor": 2
}
