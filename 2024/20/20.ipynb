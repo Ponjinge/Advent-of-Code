{
 "cells": [
  {
   "cell_type": "code",
   "execution_count": 156,
   "metadata": {},
   "outputs": [],
   "source": [
    "# Separate by line and spaces and turn into integer\n",
    "import re\n",
    "s = []\n",
    "\n",
    "with open('./input.txt', 'r') as file:\n",
    "    file_content = file.read().strip()  \n",
    "individual_strings = file_content.split('\\n')\n",
    "\n",
    "for i, individual_str in enumerate(individual_strings, 1):\n",
    "    word = [*individual_str]\n",
    "    s.append(word)"
   ]
  },
  {
   "cell_type": "code",
   "execution_count": null,
   "metadata": {},
   "outputs": [],
   "source": [
    "n = set()\n",
    "for j in range(0,len(s)):\n",
    "    for i in range(0,len(s[j])):\n",
    "        if s[j][i] == '#':\n",
    "            n.add((j,i))\n",
    "        if s[j][i] == 'S':\n",
    "            start = (j,i)\n",
    "            print(start)\n",
    "            \n",
    "        if s[j][i] == 'E':\n",
    "            end = (j,i)\n",
    "            print (end )\n"
   ]
  },
  {
   "cell_type": "code",
   "execution_count": 158,
   "metadata": {},
   "outputs": [],
   "source": [
    "def dir(way,i,j):\n",
    "    \n",
    "        \n",
    "    if way =='U':\n",
    "        return((way, i-1,j)) \n",
    "    if way =='D':\n",
    "        return((way, i+1,j))\n",
    "    if way =='L':\n",
    "        return((way, i,j-1))\n",
    "    if way =='R':\n",
    "        return((way, i,j+1))"
   ]
  },
  {
   "cell_type": "code",
   "execution_count": 159,
   "metadata": {},
   "outputs": [],
   "source": [
    "def shortest_path(s, start, end, n):\n",
    "    # Data structure: (cost, dir, x, y)\n",
    "    start = (0, 'R', start[0], start[1])  # Starting position\n",
    "\n",
    "    ol = [start]  # Open List\n",
    "    cl = set()  # Closed List\n",
    "    \n",
    "    costs = {}\n",
    "    costs[(start[2], start[3])] = 0  # Store as (direction, x, y)\n",
    "\n",
    "    # While there are elements in the open list\n",
    "    while ol:\n",
    "        ol.sort()  # Sort the open list based on cost\n",
    "    \n",
    "        # We remove it from the open list and add it to the closed list\n",
    "        cost, d, i, j = ol.pop(0)  \n",
    "        active = (d, i, j)\n",
    "        cl.add(active)\n",
    "        \n",
    "        # If we reached the end\n",
    "        if (i, j) == end:\n",
    "            return cost, active, costs\n",
    "\n",
    "        directions = ['U', 'D', 'L', 'R']\n",
    "\n",
    "        if d == 'U':\n",
    "            directions.remove('D')\n",
    "        elif d == 'D':\n",
    "            directions.remove('U')\n",
    "        elif d == 'R':\n",
    "            directions.remove('L')\n",
    "        elif d == 'L':\n",
    "            directions.remove('R')\n",
    "\n",
    "        for way in directions:\n",
    "            if (dir(way,i,j)[1],dir(way,i,j)[2]) not in n:\n",
    "                new_state = dir(way, i, j)\n",
    "                new_pos = (new_state[1], new_state[2])\n",
    "            \n",
    "                if 0 <= new_pos[0] < len(s) and 0 <= new_pos[1] < len(s[0]):\n",
    "                    new_cost = cost + 1\n",
    "                    new_key = (new_state[1], new_state[2])\n",
    "                \n",
    "                    if new_key not in costs or new_cost < costs[new_key]:\n",
    "                        costs[new_key] = new_cost\n",
    "                        ol.append((new_cost, new_state[0], new_state[1], new_state[2]))\n",
    "    \n",
    "    return None "
   ]
  },
  {
   "cell_type": "code",
   "execution_count": null,
   "metadata": {},
   "outputs": [],
   "source": [
    "longest_time = shortest_path(s, start, end, n)[0]\n",
    "longest_time"
   ]
  },
  {
   "cell_type": "code",
   "execution_count": 161,
   "metadata": {},
   "outputs": [],
   "source": [
    "path_list = shortest_path(s,start,end,n)[2]\n"
   ]
  },
  {
   "cell_type": "code",
   "execution_count": 162,
   "metadata": {},
   "outputs": [],
   "source": [
    "def dir(way,i,j,k):\n",
    "    \n",
    "        \n",
    "    if way =='U':\n",
    "        return((way, i-k,j)) \n",
    "    if way =='D':\n",
    "        return((way, i+k,j))\n",
    "    if way =='L':\n",
    "        #print(j)\n",
    "        #print(k)\n",
    "        return((way, i,j-k))\n",
    "    if way =='R':\n",
    "        return((way, i,j+k))"
   ]
  },
  {
   "cell_type": "code",
   "execution_count": null,
   "metadata": {},
   "outputs": [],
   "source": [
    "sumo = 0 \n",
    "for e in path_list:\n",
    "    directions = ['U', 'D', 'L', 'R']\n",
    "    for way in directions:\n",
    "        cheated_i = dir(way, e[0], e[1], 2)[1]\n",
    "        cheated_j = dir(way, e[0], e[1], 2)[2]\n",
    "\n",
    "        if (cheated_i, cheated_j) in path_list:\n",
    "            if path_list[e]+2+100 <= path_list[(cheated_i, cheated_j)]:\n",
    "                #print(e,(cheated_i, cheated_j), path_list[(cheated_i, cheated_j)]-(path_list[e]+2))\n",
    "                   \n",
    "                sumo+=1\n",
    "                \n",
    "                \n",
    "print(sumo)"
   ]
  },
  {
   "cell_type": "code",
   "execution_count": null,
   "metadata": {},
   "outputs": [],
   "source": [
    "sumo = 0 \n",
    "for e in path_list:\n",
    "    for i in range(0,len(s)):\n",
    "        for j in range(0,len(s[i])):\n",
    "            if abs(i-e[0])+abs(j-e[1])<=20:\n",
    "                if (i, j) in path_list:\n",
    "                    if path_list[e]+abs(i-e[0])+abs(j-e[1])+100 <= path_list[(i, j)]:\n",
    "                        #print(e,(i, j), path_list[(i, j)]-(path_list[e]+2))\n",
    "                   \n",
    "                        sumo+=1\n",
    "                \n",
    "                \n",
    "print(sumo)"
   ]
  },
  {
   "cell_type": "code",
   "execution_count": null,
   "metadata": {},
   "outputs": [],
   "source": []
  }
 ],
 "metadata": {
  "kernelspec": {
   "display_name": "base",
   "language": "python",
   "name": "python3"
  },
  "language_info": {
   "codemirror_mode": {
    "name": "ipython",
    "version": 3
   },
   "file_extension": ".py",
   "mimetype": "text/x-python",
   "name": "python",
   "nbconvert_exporter": "python",
   "pygments_lexer": "ipython3",
   "version": "3.11.5"
  }
 },
 "nbformat": 4,
 "nbformat_minor": 2
}
