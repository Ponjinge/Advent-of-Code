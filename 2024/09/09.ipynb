{
 "cells": [
  {
   "cell_type": "code",
   "execution_count": null,
   "metadata": {},
   "outputs": [],
   "source": [
    "# Get Positive INT\n",
    "import re\n",
    "\n",
    "\n",
    "with open('./input.txt', 'r') as file:\n",
    "    file_content = file.read().strip()  \n",
    "individual_strings = file_content.split('\\n')\n",
    "\n",
    "for i, individual_str in enumerate(individual_strings, 1):\n",
    "    word = individual_str\n"
   ]
  },
  {
   "cell_type": "code",
   "execution_count": null,
   "metadata": {},
   "outputs": [],
   "source": [
    "m = []\n",
    "id = 0\n",
    "for i in range(0,len(word)):\n",
    "    if i%2==0:\n",
    "        for _ in range(int(word[i])):\n",
    "            m.append(id)\n",
    "        id+=1\n",
    "    else:\n",
    "        for _ in range(int(word[i])):\n",
    "            m.append('.')\n",
    "\n",
    "print(m)"
   ]
  },
  {
   "cell_type": "code",
   "execution_count": null,
   "metadata": {},
   "outputs": [],
   "source": [
    "k = len(m)-1\n",
    "for i in range(0,len(m)):\n",
    "    if m[i] == '.':\n",
    "        while m[k]=='.':\n",
    "            k-=1\n",
    "        \n",
    "        m[i]= m[k]\n",
    "        m[k]='.'\n",
    "\n",
    "    if i >= k-1 :\n",
    "        print(m[i-10:i+10])\n",
    "        break  \n",
    "\n",
    "print(m)"
   ]
  },
  {
   "cell_type": "code",
   "execution_count": null,
   "metadata": {},
   "outputs": [],
   "source": [
    "sumo = 0\n",
    "for i in range(0,len(m)):\n",
    "    if m[i]!='.':\n",
    "        sumo += i*m[i]\n",
    "print(sumo)"
   ]
  },
  {
   "cell_type": "code",
   "execution_count": null,
   "metadata": {},
   "outputs": [],
   "source": [
    "#Part 2 \n",
    "import re\n",
    "\n",
    "\n",
    "with open('./input.txt', 'r') as file:\n",
    "    file_content = file.read().strip()  \n",
    "individual_strings = file_content.split('\\n')\n",
    "\n",
    "for i, individual_str in enumerate(individual_strings, 1):\n",
    "    word = individual_str\n",
    "\n",
    "\n",
    "\n",
    "m = []\n",
    "id = 0\n",
    "for i in range(0,len(word)):\n",
    "    if i%2==0:\n",
    "        for _ in range(int(word[i])):\n",
    "            m.append(id)\n",
    "        id+=1\n",
    "    else:\n",
    "        for _ in range(int(word[i])):\n",
    "            m.append('.')\n",
    "\n",
    "maxId = m[len(m)-1] "
   ]
  },
  {
   "cell_type": "code",
   "execution_count": null,
   "metadata": {},
   "outputs": [],
   "source": [
    "for id in range (maxId,0,-1):\n",
    "    k = 0 \n",
    "    k_list = []\n",
    "    for i in range(0,len(m)):\n",
    "        if m[i]!='.' and int(m[i])== id:\n",
    "            k+=1\n",
    "            k_list.append(i)\n",
    "            \n",
    "    h = 0\n",
    "    h_list = []\n",
    "    for j in range(0,len(m)):\n",
    "         \n",
    "        if m[j]=='.':\n",
    "            h+=1\n",
    "            h_list.append(j)\n",
    "        else:\n",
    "            h=0\n",
    "            h_list = []\n",
    "        \n",
    "        if k_list[0]<j:\n",
    "            break   \n",
    "        if h>=k:\n",
    "            for e in k_list:\n",
    "                m[e] = '.' \n",
    "            for o in h_list:\n",
    "                m[o] = id\n",
    "            break \n",
    "         \n",
    "                \n",
    "            \n",
    "        "
   ]
  },
  {
   "cell_type": "code",
   "execution_count": null,
   "metadata": {},
   "outputs": [],
   "source": [
    "sumo = 0\n",
    "for i in range(0,len(m)):\n",
    "    if m[i]!='.':\n",
    "        sumo += i*m[i]\n",
    "print(sumo)"
   ]
  }
 ],
 "metadata": {
  "kernelspec": {
   "display_name": "base",
   "language": "python",
   "name": "python3"
  },
  "language_info": {
   "codemirror_mode": {
    "name": "ipython",
    "version": 3
   },
   "file_extension": ".py",
   "mimetype": "text/x-python",
   "name": "python",
   "nbconvert_exporter": "python",
   "pygments_lexer": "ipython3",
   "version": "3.11.5"
  }
 },
 "nbformat": 4,
 "nbformat_minor": 2
}
