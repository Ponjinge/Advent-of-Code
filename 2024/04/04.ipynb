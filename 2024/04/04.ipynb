{
 "cells": [
  {
   "cell_type": "code",
   "execution_count": null,
   "metadata": {},
   "outputs": [],
   "source": [
    "# Separate by line and spaces and turn into integer\n",
    "import re\n",
    "s = []\n",
    "\n",
    "with open('./input.txt', 'r') as file:\n",
    "    file_content = file.read().strip()  \n",
    "individual_strings = file_content.split('\\n')\n",
    "\n",
    "for i, individual_str in enumerate(individual_strings, 1):\n",
    "    word = [num for num in individual_str]\n",
    "    s.append(word)"
   ]
  },
  {
   "cell_type": "code",
   "execution_count": null,
   "metadata": {},
   "outputs": [],
   "source": [
    "sumo=0\n",
    "for i in range(0,len(s)):\n",
    "    for j in range(0,len(s[i])):\n",
    "        if s[i][j]=='X':\n",
    "            if j < len(s[i])-3:\n",
    "                if s[i][j+1]=='M' and s[i][j+2]=='A'and s[i][j+3]=='S':\n",
    "                    sumo += 1\n",
    "            if i < len(s)-3:\n",
    "                if s[i+1][j]=='M' and s[i+2][j]=='A'and s[i+3][j]=='S':\n",
    "                    sumo += 1\n",
    "            if i < len(s)-3 and j < len(s[i])-3:\n",
    "                if s[i+1][j+1]=='M' and s[i+2][j+2]=='A'and s[i+3][j+3]=='S':\n",
    "                    sumo += 1\n",
    "            if i >= 3 and j < len(s[i])-3:\n",
    "                if s[i-1][j+1]=='M' and s[i-2][j+2]=='A'and s[i-3][j+3]=='S':\n",
    "                    sumo += 1\n",
    "        elif s[i][j]=='S':\n",
    "            if j < len(s[i])-3:\n",
    "                if s[i][j+1]=='A' and s[i][j+2]=='M'and s[i][j+3]=='X':\n",
    "                    sumo += 1\n",
    "            if i < len(s)-3:\n",
    "                if s[i+1][j]=='A' and s[i+2][j]=='M'and s[i+3][j]=='X':\n",
    "                    sumo += 1\n",
    "            if i < len(s)-3 and j < len(s[i])-3:\n",
    "                if s[i+1][j+1]=='A' and s[i+2][j+2]=='M'and s[i+3][j+3]=='X':\n",
    "                    sumo += 1  \n",
    "            if i >= 3 and j < len(s[i])-3:\n",
    "                if s[i-1][j+1]=='A' and s[i-2][j+2]=='M'and s[i-3][j+3]=='X':\n",
    "                    sumo += 1\n",
    "        "
   ]
  },
  {
   "cell_type": "code",
   "execution_count": null,
   "metadata": {},
   "outputs": [],
   "source": [
    "sumo"
   ]
  },
  {
   "cell_type": "code",
   "execution_count": null,
   "metadata": {},
   "outputs": [],
   "source": [
    "sumo = 0\n",
    "for i in range(1,len(s)-1):\n",
    "    for j in range(1,len(s[i])-1):\n",
    "        if s[i][j]=='A':\n",
    "            \n",
    "            if s[i-1][j-1]=='M' and s[i+1][j+1]=='S'and s[i+1][j-1]=='M'and s[i-1][j+1]=='S':\n",
    "                    sumo += 1\n",
    "            \n",
    "            if s[i-1][j-1]=='S' and s[i+1][j+1]=='M'and s[i+1][j-1]=='M'and s[i-1][j+1]=='S':\n",
    "                    sumo += 1\n",
    "                    \n",
    "            if s[i-1][j-1]=='M' and s[i+1][j+1]=='S'and s[i+1][j-1]=='S'and s[i-1][j+1]=='M':\n",
    "                    sumo += 1\n",
    "            if s[i-1][j-1]=='S' and s[i+1][j+1]=='M'and s[i+1][j-1]=='S'and s[i-1][j+1]=='M':\n",
    "                    sumo += 1"
   ]
  },
  {
   "cell_type": "code",
   "execution_count": null,
   "metadata": {},
   "outputs": [],
   "source": [
    "sumo"
   ]
  },
  {
   "cell_type": "code",
   "execution_count": null,
   "metadata": {},
   "outputs": [],
   "source": []
  }
 ],
 "metadata": {
  "kernelspec": {
   "display_name": "base",
   "language": "python",
   "name": "python3"
  },
  "language_info": {
   "codemirror_mode": {
    "name": "ipython",
    "version": 3
   },
   "file_extension": ".py",
   "mimetype": "text/x-python",
   "name": "python",
   "nbconvert_exporter": "python",
   "pygments_lexer": "ipython3",
   "version": "3.11.5"
  }
 },
 "nbformat": 4,
 "nbformat_minor": 2
}
