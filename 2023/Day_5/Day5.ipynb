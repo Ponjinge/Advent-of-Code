{
 "cells": [
  {
   "cell_type": "markdown",
   "metadata": {},
   "source": [
    "This is not finished, I had to brute force to get the solution...Will update when I find a proper solution "
   ]
  },
  {
   "cell_type": "code",
   "execution_count": null,
   "metadata": {},
   "outputs": [],
   "source": [
    "#Boilerplate 1 \n",
    "import re\n",
    "s = []\n",
    "\n",
    "with open('./input.txt', 'r') as file:\n",
    "    file_content = file.read().strip()  \n",
    "individual_strings = file_content.split('\\n\\n')\n",
    "\n",
    "for i, individual_str in enumerate(individual_strings, 1):\n",
    "    word = [int(num) for num in re.findall(r'\\d+', individual_str)]\n",
    "    s.append(word)"
   ]
  },
  {
   "cell_type": "code",
   "execution_count": null,
   "metadata": {},
   "outputs": [],
   "source": [
    "vs = []\n",
    "for i in range(len(s[0])):\n",
    "    v=int(s[0][i]) \n",
    "    for j in range(1, len(s)):\n",
    "        for m in range(0, len(s[j]),3):\n",
    "            if m<len(s[j]) :\n",
    "                if v>=s[j][m+1]:\n",
    "                    if v<= (s[j][m+1])+(s[j][m+2]):\n",
    "                        v = s[j][m] + (v -s[j][m+1])\n",
    "                        break\n",
    "    vs.append(v)\n",
    "min(vs)"
   ]
  },
  {
   "cell_type": "code",
   "execution_count": null,
   "metadata": {},
   "outputs": [],
   "source": [
    "vs = []\n",
    "#DONT RUN THIS\n",
    "#for i in range(0,len(s[0]), 2):\n",
    "for w in range(s[0][10], (s[0][10]+s[0][11])):\n",
    "    v = w\n",
    "    for j in range(1, len(s)):\n",
    "        for m in range(0, len(s[j]), 3):\n",
    "            if v >= int(s[j][m+1]) and v <= s[j][m+1] + s[j][m+2]:\n",
    "                v = s[j][m] + (v - s[j][m+1])\n",
    "                break\n",
    "    vs.append(v)\n",
    "\n",
    "min(vs)\n"
   ]
  },
  {
   "cell_type": "code",
   "execution_count": null,
   "metadata": {},
   "outputs": [],
   "source": [
    "min(vs)"
   ]
  },
  {
   "cell_type": "code",
   "execution_count": null,
   "metadata": {},
   "outputs": [],
   "source": [
    "import numpy as \n",
    "import pandas as pd\n",
    "df s[0]"
   ]
  },
  {
   "cell_type": "code",
   "execution_count": null,
   "metadata": {},
   "outputs": [],
   "source": [
    "vs = []\n",
    "ws = []\n",
    "for w in \n",
    "    \n",
    "    for j in range(len(s)-1, 0, -1):\n",
    "        for m in range(0, len(s[j]), 3):\n",
    "            if v >= int(s[j][m]) and  <= s[j][m] + s[j][m+2]:\n",
    "                v = s[j][m+1] + (v - s[j][m])\n",
    "                break\n",
    "        for n in range(0, len(s[j]), 3):\n",
    "            if v >= int(s[j][n]) and  <= s[j][n] + s[j][n+2]:\n",
    "                v = s[j][n+1] + (v - s[j][n])\n",
    "                break\n",
    "    vs.append(v)\n",
    "    ws.append(w)\n",
    "\n"
   ]
  },
  {
   "cell_type": "code",
   "execution_count": null,
   "metadata": {},
   "outputs": [],
   "source": [
    "c = []\n",
    "for j in range(len(ws)):\n",
    "    for i in range(0,len(s[0]),2):\n",
    "        if s[0][i]>=vs[j]: #>=(s[0][i]+s[0][i+1]):\n",
    "            c.append(ws[j])\n",
    "            print(i)\n",
    "            break\n",
    "        "
   ]
  },
  {
   "cell_type": "code",
   "execution_count": null,
   "metadata": {},
   "outputs": [],
   "source": [
    "s[0][6]\n"
   ]
  },
  {
   "cell_type": "code",
   "execution_count": null,
   "metadata": {},
   "outputs": [],
   "source": [
    "s"
   ]
  },
  {
   "cell_type": "code",
   "execution_count": null,
   "metadata": {},
   "outputs": [],
   "source": [
    "\n",
    "for i in range (1, len(s)):\n",
    "    for j in range(0,len(s[i]),3):\n",
    "        if s[i][j+1]<= num <=s[i][j+2]+s[i][j+1]:\n",
    "            print (f\" range {i}: {(j/3)+1}\")\n",
    "            "
   ]
  },
  {
   "cell_type": "code",
   "execution_count": null,
   "metadata": {},
   "outputs": [],
   "source": [
    "280123413 3244927"
   ]
  },
  {
   "cell_type": "code",
   "execution_count": null,
   "metadata": {},
   "outputs": [],
   "source": [
    "280123413+3244927"
   ]
  },
  {
   "cell_type": "code",
   "execution_count": null,
   "metadata": {},
   "outputs": [],
   "source": [
    "for i in range(0,len(s[6]),3):\n",
    "    for j in range(s[6][i],(s[6][i]+s[6][i+2])):\n",
    "        if 280123413<= j <=283368340:\n",
    "            print(i/3)\n",
    "\n",
    "\n"
   ]
  },
  {
   "cell_type": "code",
   "execution_count": null,
   "metadata": {},
   "outputs": [],
   "source": [
    "for i in range(1,len(s[0]),2):\n",
    "    s[0][i]=s[0][i]+s[0][i-1]\n",
    "for i in range(0,len(s[0]),2):\n",
    "    print((s[0][i], s[0][i+1]))"
   ]
  },
  {
   "cell_type": "code",
   "execution_count": null,
   "metadata": {},
   "outputs": [],
   "source": [
    "vs = []\n",
    "for i in range(len(s[0])): \n",
    "    v=int(s[0][i]) \n",
    "    for j in range(1, len(s)):\n",
    "        for m in range(0, len(s[j]),3):\n",
    "            if m<len(s[j]) :\n",
    "                if v>=s[j][m+1]:\n",
    "                    if v<= (s[j][m+1])+(s[j][m+2]):\n",
    "                        v = s[j][m] + (v -s[j][m+1])\n",
    "                        break\n",
    "    vs.append(v)\n",
    "min(vs)"
   ]
  },
  {
   "cell_type": "code",
   "execution_count": null,
   "metadata": {},
   "outputs": [],
   "source": []
  }
 ],
 "metadata": {
  "kernelspec": {
   "display_name": "Python 3 (ipykernel)",
   "language": "python",
   "name": "python3"
  },
  "language_info": {
   "codemirror_mode": {
    "name": "ipython",
    "version": 3
   },
   "file_extension": ".py",
   "mimetype": "text/x-python",
   "name": "python",
   "nbconvert_exporter": "python",
   "pygments_lexer": "ipython3",
   "version": "3.11.5"
  }
 },
 "nbformat": 4,
 "nbformat_minor": 4
}
