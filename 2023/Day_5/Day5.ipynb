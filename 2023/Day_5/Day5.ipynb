{
 "cells": [
  {
   "cell_type": "markdown",
   "metadata": {},
   "source": [
    "This is not finished, I had to brute force to get the solution...Will update when I find a proper solution "
   ]
  },
  {
   "cell_type": "code",
   "execution_count": 19,
   "metadata": {},
   "outputs": [],
   "source": [
    "#Boilerplate 1 \n",
    "import re\n",
    "s = []\n",
    "\n",
    "with open('./input.txt', 'r') as file:\n",
    "    file_content = file.read().strip()  \n",
    "individual_strings = file_content.split('\\n\\n')\n",
    "\n",
    "for i, individual_str in enumerate(individual_strings, 1):\n",
    "    word = [int(num) for num in re.findall(r'\\d+', individual_str)]\n",
    "    s.append(word)"
   ]
  },
  {
   "cell_type": "code",
   "execution_count": 20,
   "metadata": {},
   "outputs": [
    {
     "data": {
      "text/plain": [
       "51752125"
      ]
     },
     "execution_count": 20,
     "metadata": {},
     "output_type": "execute_result"
    }
   ],
   "source": [
    "vs = []\n",
    "for i in range(len(s[0])):\n",
    "    v=int(s[0][i]) \n",
    "    for j in range(1, len(s)):\n",
    "        for m in range(0, len(s[j]),3):\n",
    "            if m<len(s[j]) :\n",
    "                if v>=s[j][m+1]:\n",
    "                    if v<= (s[j][m+1])+(s[j][m+2]):\n",
    "                        v = s[j][m] + (v -s[j][m+1])\n",
    "                        break\n",
    "    vs.append(v)\n",
    "min(vs)"
   ]
  },
  {
   "cell_type": "markdown",
   "metadata": {},
   "source": [
    "# Part 2"
   ]
  },
  {
   "cell_type": "code",
   "execution_count": 21,
   "metadata": {},
   "outputs": [],
   "source": [
    "ranges = set()\n",
    "for i in range(0,len(s[0]),2):\n",
    "    ranges.add((s[0][i] , s[0][i] + s[0][i+1]))\n"
   ]
  },
  {
   "cell_type": "code",
   "execution_count": 22,
   "metadata": {},
   "outputs": [
    {
     "data": {
      "text/plain": [
       "{(208902075, 435123681),\n",
       " (665754577, 678916875),\n",
       " (682397438, 712763395),\n",
       " (1034820096, 1140951389),\n",
       " (1310704671, 1623119861),\n",
       " (1782124901, 1785315398),\n",
       " (2403629707, 2470222105),\n",
       " (2687187253, 2762178631),\n",
       " (2858337556, 4042227863),\n",
       " (4116455504, 4204263894)}"
      ]
     },
     "execution_count": 22,
     "metadata": {},
     "output_type": "execute_result"
    }
   ],
   "source": [
    "ranges"
   ]
  },
  {
   "cell_type": "code",
   "execution_count": 24,
   "metadata": {},
   "outputs": [],
   "source": [
    "s.remove(s[0])"
   ]
  },
  {
   "cell_type": "code",
   "execution_count": null,
   "metadata": {},
   "outputs": [],
   "source": [
    "for i in range(len(s)-1, -1, -1):\n",
    "    for j in range(0, len(s[i]),3):\n",
    "        for k in range(0, len(s[i-1]),3):\n",
    "            if s[i][j]>=s[i-1]"
   ]
  },
  {
   "cell_type": "code",
   "execution_count": null,
   "metadata": {},
   "outputs": [],
   "source": [
    "z=0\n",
    "while z<s[i][2]:\n",
    "    for v in range(len(s[i-1]),3): #Check for each range above\n",
    "        if s[i-1][0]<=s[i][1]+z<(s[i-1][0]+s[i-1][2]):\n",
    "            \n",
    "    z+=1    "
   ]
  },
  {
   "cell_type": "code",
   "execution_count": null,
   "metadata": {},
   "outputs": [],
   "source": [
    "t = s[i-1][1]+(s[i-1][0]-s[i][1]) #The value of the start of this range going up a level is the start of the prexisting range its in + where it starts in that range\n",
    ".append(t) "
   ]
  },
  {
   "cell_type": "code",
   "execution_count": null,
   "metadata": {},
   "outputs": [],
   "source": []
  }
 ],
 "metadata": {
  "kernelspec": {
   "display_name": "Python 3 (ipykernel)",
   "language": "python",
   "name": "python3"
  },
  "language_info": {
   "codemirror_mode": {
    "name": "ipython",
    "version": 3
   },
   "file_extension": ".py",
   "mimetype": "text/x-python",
   "name": "python",
   "nbconvert_exporter": "python",
   "pygments_lexer": "ipython3",
   "version": "3.11.5"
  }
 },
 "nbformat": 4,
 "nbformat_minor": 4
}
