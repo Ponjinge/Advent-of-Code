{
 "cells": [
  {
   "cell_type": "code",
   "execution_count": 2,
   "metadata": {},
   "outputs": [],
   "source": [
    "#Boilerplate 1 \n",
    "\n",
    "s = []\n",
    "\n",
    "with open('./input.txt', 'r') as file:\n",
    "    file_content = file.read().strip()  \n",
    "individual_strings = file_content.split('\\n')\n",
    "for i, individual_str in enumerate(individual_strings, 1):\n",
    "    word = [*individual_str]\n",
    "    s.append(word)"
   ]
  },
  {
   "cell_type": "code",
   "execution_count": 92,
   "metadata": {},
   "outputs": [],
   "source": [
    "def beamer(i,j,d):\n",
    "    bebem = set()\n",
    "    while 0<=i<len(s) and 0<=j<len(s[0]) and ((i,j,d) not in bebem):\n",
    "        v= s[i][j]\n",
    "        #print(i,j)\n",
    "        t.add((i,j))\n",
    "        bebem.add((i,j,d))\n",
    "        \n",
    "        \n",
    "        if v == \".\":\n",
    "            if d == 0:\n",
    "                i-=1\n",
    "            elif d == 1:\n",
    "                i+=1\n",
    "            elif d == 2:\n",
    "                j-=1\n",
    "            elif d == 3:\n",
    "                j+=1\n",
    "            \n",
    "        elif v ==\"|\":\n",
    "            if d == 0:\n",
    "                i-=1\n",
    "            elif d == 1:\n",
    "                i+=1\n",
    "            elif (d == 2) or (d == 3):\n",
    "                \n",
    "                if (i-1,j,0) not in beams :\n",
    "                    beams.add((i-1,j,0))\n",
    "                    beamer(i-1,j,0)\n",
    "                    \n",
    "                i+=1\n",
    "                d=1\n",
    "                \n",
    "        \n",
    "        elif v ==\"-\":\n",
    "            if d == 2:\n",
    "                j-=1\n",
    "            elif d == 3:\n",
    "                j+=1\n",
    "            elif (d == 0) or (d ==1) :\n",
    "                if (i,j-1,2) not in beams:\n",
    "                    beams.add((i,j-1,2))\n",
    "                    beamer(i,j-1,2)\n",
    "                j+=1\n",
    "                d=3\n",
    "            \n",
    "        elif v ==\"\\\\\":\n",
    "            if d == 1:\n",
    "                j+=1\n",
    "                d=3\n",
    "            elif d == 2:\n",
    "                i-=1\n",
    "                d=0\n",
    "\n",
    "            elif d == 0:\n",
    "                j-=1\n",
    "                d=2\n",
    "            elif d == 3:\n",
    "                i+=1\n",
    "                d=1\n",
    "            \n",
    "        elif v ==\"/\":\n",
    "            if d == 0:\n",
    "                j+=1\n",
    "                d=3\n",
    "            elif d == 2:\n",
    "                i+=1\n",
    "                d=1\n",
    "\n",
    "            elif d == 1:\n",
    "                j-=1\n",
    "                d=2\n",
    "            elif d == 3:\n",
    "                i-=1\n",
    "                d=0\n",
    "        "
   ]
  },
  {
   "cell_type": "code",
   "execution_count": 93,
   "metadata": {},
   "outputs": [
    {
     "data": {
      "text/plain": [
       "110"
      ]
     },
     "execution_count": 93,
     "metadata": {},
     "output_type": "execute_result"
    }
   ],
   "source": [
    "\n",
    "len(s[0])"
   ]
  },
  {
   "cell_type": "code",
   "execution_count": 100,
   "metadata": {},
   "outputs": [],
   "source": [
    "t ={(0,0)}\n",
    "beams = {(0,0,3)}\n",
    "beamer(0,0,3)"
   ]
  },
  {
   "cell_type": "code",
   "execution_count": 101,
   "metadata": {},
   "outputs": [
    {
     "data": {
      "text/plain": [
       "6514"
      ]
     },
     "execution_count": 101,
     "metadata": {},
     "output_type": "execute_result"
    }
   ],
   "source": [
    "len(t)"
   ]
  },
  {
   "cell_type": "markdown",
   "metadata": {},
   "source": [
    "## Part 2"
   ]
  },
  {
   "cell_type": "code",
   "execution_count": 96,
   "metadata": {},
   "outputs": [],
   "source": [
    "sols = []\n",
    "for i in range(len(s)):\n",
    "    del t\n",
    "    del beams\n",
    "    t = {(i,0)}\n",
    "    beams = {(i,0,3)}\n",
    "    beamer(i,0,3)\n",
    "    sols.append(len(t))\n",
    "    del t\n",
    "    del beams\n",
    "    t = {(i,109)}\n",
    "    beams = {(i,109,2)}\n",
    "    beamer(i,109,2)\n",
    "    sols.append(len(t))\n",
    "\n",
    "for j in range(len(s[0])):\n",
    "    del t\n",
    "    del beams\n",
    "    t = {(0,j)}\n",
    "    beams = {(0,j,1)}\n",
    "    beamer(0,j,1)\n",
    "    sols.append(len(t))\n",
    "    del t\n",
    "    del beams\n",
    "    t = {(109,j)}\n",
    "    beams = {(109,j,0)}\n",
    "    beamer(109,j,0)\n",
    "    sols.append(len(t))\n",
    "    \n",
    "\n"
   ]
  },
  {
   "cell_type": "code",
   "execution_count": 99,
   "metadata": {},
   "outputs": [
    {
     "data": {
      "text/plain": [
       "8089"
      ]
     },
     "execution_count": 99,
     "metadata": {},
     "output_type": "execute_result"
    }
   ],
   "source": [
    "max(sols)"
   ]
  },
  {
   "cell_type": "code",
   "execution_count": null,
   "metadata": {},
   "outputs": [],
   "source": []
  }
 ],
 "metadata": {
  "kernelspec": {
   "display_name": "Python 3 (ipykernel)",
   "language": "python",
   "name": "python3"
  },
  "language_info": {
   "codemirror_mode": {
    "name": "ipython",
    "version": 3
   },
   "file_extension": ".py",
   "mimetype": "text/x-python",
   "name": "python",
   "nbconvert_exporter": "python",
   "pygments_lexer": "ipython3",
   "version": "3.11.5"
  }
 },
 "nbformat": 4,
 "nbformat_minor": 4
}
