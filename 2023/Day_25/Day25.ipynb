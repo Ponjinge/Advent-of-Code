{
 "cells": [
  {
   "cell_type": "code",
   "execution_count": 213,
   "id": "7d3a5fba",
   "metadata": {},
   "outputs": [],
   "source": [
    "# Get Strings of letters\n",
    "import re\n",
    "r = []\n",
    "with open('./test.txt', 'r') as file:\n",
    "    for line in file:\n",
    "        letters = re.findall(r'[a-zA-Z]+', line)\n",
    "        r.append(letters)"
   ]
  },
  {
   "cell_type": "code",
   "execution_count": 214,
   "id": "fbb4566c",
   "metadata": {},
   "outputs": [
    {
     "data": {
      "text/plain": [
       "[['jqt', 'rhn', 'xhk', 'nvd'],\n",
       " ['rsh', 'frs', 'pzl', 'lsr'],\n",
       " ['xhk', 'hfx'],\n",
       " ['cmg', 'qnr', 'nvd', 'lhk', 'bvb'],\n",
       " ['rhn', 'xhk', 'bvb', 'hfx'],\n",
       " ['bvb', 'xhk', 'hfx'],\n",
       " ['pzl', 'lsr', 'hfx', 'nvd'],\n",
       " ['qnr', 'nvd'],\n",
       " ['ntq', 'jqt', 'hfx', 'bvb', 'xhk'],\n",
       " ['nvd', 'lhk'],\n",
       " ['lsr', 'lhk'],\n",
       " ['rzs', 'qnr', 'cmg', 'lsr', 'rsh'],\n",
       " ['frs', 'qnr', 'lhk', 'lsr']]"
      ]
     },
     "execution_count": 214,
     "metadata": {},
     "output_type": "execute_result"
    }
   ],
   "source": [
    "r"
   ]
  },
  {
   "cell_type": "code",
   "execution_count": 215,
   "id": "c29860d6",
   "metadata": {},
   "outputs": [],
   "source": [
    "class Component:\n",
    "    def __init__(self, name, pos=0):\n",
    "        self.name = name\n",
    "        self.links = set()\n",
    "        self.pos = pos\n",
    "    \n",
    "    def change_pos(self, new_pos):\n",
    "        self.pos += new_pos"
   ]
  },
  {
   "cell_type": "code",
   "execution_count": 216,
   "id": "e473a3df",
   "metadata": {},
   "outputs": [],
   "source": [
    "import numpy\n",
    "import operator\n",
    "import functools\n",
    "unique_components =  numpy.unique(functools.reduce(operator.add, r))\n",
    "\n",
    "\n",
    "for k in range (len(unique_components)):\n",
    "    globals()[unique_components[k]]= Component(name = unique_components[k])"
   ]
  },
  {
   "cell_type": "code",
   "execution_count": 217,
   "id": "3b9e91d9",
   "metadata": {},
   "outputs": [],
   "source": [
    "\n",
    "for i in range(0, len(r)):\n",
    "    for k in range(1,len(r[i])):\n",
    "        globals()[r[i][0]].links.add(r[i][k])\n",
    "        globals()[r[i][k]].links.add(r[i][0])\n",
    "    "
   ]
  },
  {
   "cell_type": "code",
   "execution_count": 218,
   "id": "c9bfa192",
   "metadata": {},
   "outputs": [
    {
     "name": "stdout",
     "output_type": "stream",
     "text": [
      " Component bvb : {'cmg', 'rhn', 'hfx', 'xhk', 'ntq'}\n",
      " Component cmg : {'qnr', 'bvb', 'rzs', 'nvd', 'lhk'}\n",
      " Component frs : {'lsr', 'lhk', 'rsh', 'qnr'}\n",
      " Component hfx : {'bvb', 'pzl', 'rhn', 'xhk', 'ntq'}\n",
      " Component jqt : {'xhk', 'nvd', 'ntq', 'rhn'}\n",
      " Component lhk : {'cmg', 'lsr', 'frs', 'nvd'}\n",
      " Component lsr : {'frs', 'pzl', 'rzs', 'lhk', 'rsh'}\n",
      " Component ntq : {'bvb', 'jqt', 'xhk', 'hfx'}\n",
      " Component nvd : {'cmg', 'jqt', 'qnr', 'pzl', 'lhk'}\n",
      " Component pzl : {'lsr', 'rsh', 'nvd', 'hfx'}\n",
      " Component qnr : {'cmg', 'rzs', 'nvd', 'frs'}\n",
      " Component rhn : {'hfx', 'jqt', 'xhk', 'bvb'}\n",
      " Component rsh : {'pzl', 'lsr', 'frs', 'rzs'}\n",
      " Component rzs : {'cmg', 'lsr', 'qnr', 'rsh'}\n",
      " Component xhk : {'jqt', 'bvb', 'rhn', 'hfx', 'ntq'}\n"
     ]
    }
   ],
   "source": [
    "for k in range (len(unique_components)):\n",
    "    print(f' Component {globals()[unique_components[k]].name} : {globals()[unique_components[k]].links}')\n",
    "    "
   ]
  },
  {
   "cell_type": "code",
   "execution_count": 219,
   "id": "32b73038",
   "metadata": {},
   "outputs": [],
   "source": [
    "def parcours(origin, mover, sign) :\n",
    "    tasks = []\n",
    "    chain = set()\n",
    "    tasks.append(origin)\n",
    "    tasks = numpy.array(tasks)\n",
    "    while len(tasks)>0:\n",
    "        \n",
    "        for link in globals()[tasks[0]].links :\n",
    "            \n",
    "            if link not in chain:\n",
    "                chain.add(link)\n",
    "                #tasks.append(link)\n",
    "                tasks = numpy.append(tasks, link)\n",
    "                globals()[link].change_pos(mover)\n",
    "        tasks = numpy.delete(tasks, 0)\n",
    "        if sign == \"+\":\n",
    "            mover -= 100\n",
    "        else:\n",
    "            mover += 100\n",
    "    return (len(chain))"
   ]
  },
  {
   "cell_type": "code",
   "execution_count": 220,
   "id": "a776006f",
   "metadata": {},
   "outputs": [
    {
     "data": {
      "text/plain": [
       "15"
      ]
     },
     "execution_count": 220,
     "metadata": {},
     "output_type": "execute_result"
    }
   ],
   "source": [
    "reset_clusters()\n",
    "parcours('lsr', 1000, \"+\")\n",
    "parcours('xhk', -1000, '-' )"
   ]
  },
  {
   "cell_type": "code",
   "execution_count": 221,
   "id": "5c2d9172",
   "metadata": {},
   "outputs": [
    {
     "data": {
      "text/plain": [
       "15"
      ]
     },
     "execution_count": 221,
     "metadata": {},
     "output_type": "execute_result"
    }
   ],
   "source": [
    "len(unique_components)"
   ]
  },
  {
   "cell_type": "code",
   "execution_count": 222,
   "id": "ecf0f7d1",
   "metadata": {},
   "outputs": [
    {
     "name": "stdout",
     "output_type": "stream",
     "text": [
      "bvb -900\n",
      "cmg -100\n",
      "frs 1000\n",
      "hfx -200\n",
      "jqt -800\n",
      "lhk 700\n",
      "lsr 800\n",
      "ntq -900\n",
      "nvd -100\n",
      "pzl 400\n",
      "qnr 600\n",
      "rhn -900\n",
      "rsh 900\n",
      "rzs 800\n",
      "xhk -800\n"
     ]
    }
   ],
   "source": [
    "for k in range (len(unique_components)):\n",
    "    print( unique_components[k] , globals()[unique_components[k]].pos)\n",
    "\n",
    "\n",
    "c=0\n",
    "for k in range (len(unique_components)):\n",
    "    if globals()[unique_components[k]].pos <= 500:\n",
    "        c+=1\n",
    "\n"
   ]
  },
  {
   "cell_type": "code",
   "execution_count": 223,
   "id": "cc617dbc",
   "metadata": {},
   "outputs": [],
   "source": [
    "def get_clusters(i,j):\n",
    "    \n",
    "    parcours(unique_components[i], 1000, \"+\")\n",
    "    parcours(unique_components[j], -1000, '-' ) \n",
    "    \n",
    "    c=0\n",
    "    for k in range (len(unique_components)):\n",
    "        if globals()[unique_components[k]].pos <= 500:\n",
    "            c+=1\n",
    "   \n",
    "    \n",
    "    if 0.30<c/len(unique_components)<0.70:\n",
    "        return (c, len(unique_components)-c)\n"
   ]
  },
  {
   "cell_type": "code",
   "execution_count": 189,
   "id": "0f739d77",
   "metadata": {},
   "outputs": [
    {
     "data": {
      "text/plain": [
       "array(['bvb', 'cmg', 'frs', 'hfx', 'jqt', 'lhk', 'lsr', 'ntq', 'nvd',\n",
       "       'pzl', 'qnr', 'rhn', 'rsh', 'rzs', 'xhk'], dtype='<U3')"
      ]
     },
     "execution_count": 189,
     "metadata": {},
     "output_type": "execute_result"
    }
   ],
   "source": [
    "unique_components"
   ]
  },
  {
   "cell_type": "code",
   "execution_count": 190,
   "id": "92566ab8",
   "metadata": {},
   "outputs": [],
   "source": [
    "def reset_clusters():\n",
    "    for i in range(0, len(unique_components)):\n",
    "         globals()[unique_components[i]].pos = 0"
   ]
  },
  {
   "cell_type": "code",
   "execution_count": 226,
   "id": "a92843f3",
   "metadata": {},
   "outputs": [],
   "source": [
    "for i in range(0, len(unique_components)):\n",
    "    for j in range (i, len(unique_components)):\n",
    "        reset_clusters()\n",
    "        get_clusters(i,j)\n",
    "        link_components = []\n",
    "        \n",
    "        #comp_plotter()\n",
    "        link_components = []\n",
    "        l_pointer = 0\n",
    "        r_pointer = 0\n",
    "        while len(link_components)!= 6:\n",
    "            for k in range(len(unique_components)):\n",
    "                if globals()[unique_components[k]] == l_pointer or globals()[unique_components[k]] == r_pointer:\n",
    "                    link_components.append(unique_components[k])\n",
    "            r_pointer += 100\n",
    "            l_pointer -= 100\n",
    "        \n",
    "        for link in link_components:\n",
    "            \n",
    "        "
   ]
  },
  {
   "cell_type": "markdown",
   "id": "26479799",
   "metadata": {},
   "source": [
    "## PZL HFX BVB CMG NVD JQT "
   ]
  },
  {
   "cell_type": "code",
   "execution_count": 224,
   "id": "3fad2299",
   "metadata": {},
   "outputs": [],
   "source": [
    "import matplotlib.pyplot as plt\n",
    "\n",
    "def comp_plotter():\n",
    "    \n",
    "    # List of components for plotting\n",
    "    components = []\n",
    "    positions2 = []\n",
    "    c=0\n",
    "    for k in range (len(unique_components)):\n",
    "        components.append(globals()[unique_components[k]])\n",
    "        positions2.append(c)\n",
    "        c+=1\n",
    "    \n",
    "    # Extract names and positions for plotting\n",
    "    names = [component.name for component in components]\n",
    "    positions = [component.pos for component in components]\n",
    " \n",
    "\n",
    "    plt.scatter(positions, positions2 , marker='o', color='b')\n",
    "\n",
    "\n",
    "    for name, pos, pos2 in zip(names, positions, positions2):\n",
    "        plt.text(pos+10, pos2 , name)\n",
    "\n",
    "    plt.grid(True)\n",
    "    plt.show()\n"
   ]
  },
  {
   "cell_type": "code",
   "execution_count": null,
   "id": "7b8b016a",
   "metadata": {},
   "outputs": [],
   "source": []
  }
 ],
 "metadata": {
  "kernelspec": {
   "display_name": "Python 3 (ipykernel)",
   "language": "python",
   "name": "python3"
  },
  "language_info": {
   "codemirror_mode": {
    "name": "ipython",
    "version": 3
   },
   "file_extension": ".py",
   "mimetype": "text/x-python",
   "name": "python",
   "nbconvert_exporter": "python",
   "pygments_lexer": "ipython3",
   "version": "3.11.5"
  }
 },
 "nbformat": 4,
 "nbformat_minor": 5
}
