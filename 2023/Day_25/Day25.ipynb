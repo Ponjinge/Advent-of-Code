{
 "cells": [
  {
   "cell_type": "code",
   "execution_count": 8,
   "id": "7d3a5fba",
   "metadata": {},
   "outputs": [],
   "source": [
    "# Get Strings of letters\n",
    "import re\n",
    "r = []\n",
    "with open('./test.txt', 'r') as file:\n",
    "    for line in file:\n",
    "        letters = re.findall(r'[a-zA-Z]+', line)\n",
    "        r.append(letters)"
   ]
  },
  {
   "cell_type": "code",
   "execution_count": 9,
   "id": "fbb4566c",
   "metadata": {},
   "outputs": [
    {
     "data": {
      "text/plain": [
       "[['jqt', 'rhn', 'xhk', 'nvd'],\n",
       " ['rsh', 'frs', 'pzl', 'lsr'],\n",
       " ['xhk', 'hfx'],\n",
       " ['cmg', 'qnr', 'nvd', 'lhk', 'bvb'],\n",
       " ['rhn', 'xhk', 'bvb', 'hfx'],\n",
       " ['bvb', 'xhk', 'hfx'],\n",
       " ['pzl', 'lsr', 'hfx', 'nvd'],\n",
       " ['qnr', 'nvd'],\n",
       " ['ntq', 'jqt', 'hfx', 'bvb', 'xhk'],\n",
       " ['nvd', 'lhk'],\n",
       " ['lsr', 'lhk'],\n",
       " ['rzs', 'qnr', 'cmg', 'lsr', 'rsh'],\n",
       " ['frs', 'qnr', 'lhk', 'lsr']]"
      ]
     },
     "execution_count": 9,
     "metadata": {},
     "output_type": "execute_result"
    }
   ],
   "source": [
    "r"
   ]
  },
  {
   "cell_type": "code",
   "execution_count": 20,
   "id": "c29860d6",
   "metadata": {},
   "outputs": [],
   "source": [
    "class Component:\n",
    "    def __init__(self, name):\n",
    "        self.name = name\n",
    "        self.links = set()"
   ]
  },
  {
   "cell_type": "code",
   "execution_count": 17,
   "id": "e473a3df",
   "metadata": {},
   "outputs": [],
   "source": [
    "import numpy\n",
    "import operator\n",
    "import functools\n",
    "unique_components =  numpy.unique(functools.reduce(operator.add, r))\n",
    "\n",
    "\n",
    "for k in range (len(unique_components)):\n",
    "    globals()[unique_components[k]]= Component(name = unique_components[k])"
   ]
  },
  {
   "cell_type": "code",
   "execution_count": 18,
   "id": "3b9e91d9",
   "metadata": {},
   "outputs": [],
   "source": [
    "\n",
    "for i in range(0, len(r)):\n",
    "    for k in range(1,len(r[i])):\n",
    "        globals()[r[i][0]].links.add(r[i][k])\n",
    "        globals()[r[i][k]].links.add(r[i][0])\n",
    "    "
   ]
  },
  {
   "cell_type": "code",
   "execution_count": 19,
   "id": "c9bfa192",
   "metadata": {},
   "outputs": [
    {
     "name": "stdout",
     "output_type": "stream",
     "text": [
      " Component bvb : {'rhn', 'ntq', 'cmg', 'hfx', 'xhk'}\n",
      " Component cmg : {'bvb', 'nvd', 'qnr', 'lhk', 'rzs'}\n",
      " Component frs : {'lsr', 'lhk', 'qnr', 'rsh'}\n",
      " Component hfx : {'pzl', 'rhn', 'bvb', 'ntq', 'xhk'}\n",
      " Component jqt : {'xhk', 'rhn', 'nvd', 'ntq'}\n",
      " Component lhk : {'frs', 'cmg', 'nvd', 'lsr'}\n",
      " Component lsr : {'pzl', 'lhk', 'rsh', 'frs', 'rzs'}\n",
      " Component ntq : {'xhk', 'hfx', 'bvb', 'jqt'}\n",
      " Component nvd : {'pzl', 'jqt', 'lhk', 'qnr', 'cmg'}\n",
      " Component pzl : {'hfx', 'nvd', 'lsr', 'rsh'}\n",
      " Component qnr : {'frs', 'cmg', 'rzs', 'nvd'}\n",
      " Component rhn : {'xhk', 'hfx', 'bvb', 'jqt'}\n",
      " Component rsh : {'frs', 'rzs', 'pzl', 'lsr'}\n",
      " Component rzs : {'cmg', 'lsr', 'qnr', 'rsh'}\n",
      " Component xhk : {'rhn', 'jqt', 'bvb', 'ntq', 'hfx'}\n"
     ]
    }
   ],
   "source": [
    "for k in range (len(unique_components)):\n",
    "    print(f' Component {globals()[unique_components[k]].name} : {globals()[unique_components[k]].links}')\n",
    "    "
   ]
  },
  {
   "cell_type": "code",
   "execution_count": 54,
   "id": "32b73038",
   "metadata": {},
   "outputs": [],
   "source": [
    "def parcours() :\n",
    "    tasks = []\n",
    "    chain = set()\n",
    "    tasks.append('bvb')\n",
    "    tasks = numpy.array(tasks)\n",
    "    \n",
    "    while len(tasks)>0:\n",
    "        \n",
    "        for link in globals()[tasks[0]].links :\n",
    "            \n",
    "            if link not in chain:\n",
    "                chain.add(link)\n",
    "                #tasks.append(link)\n",
    "                tasks = numpy.append(tasks, link)\n",
    "             \n",
    "        tasks = numpy.delete(tasks, 0)\n",
    "        \n",
    "    return (len(chain))"
   ]
  },
  {
   "cell_type": "code",
   "execution_count": 55,
   "id": "a776006f",
   "metadata": {},
   "outputs": [
    {
     "data": {
      "text/plain": [
       "15"
      ]
     },
     "execution_count": 55,
     "metadata": {},
     "output_type": "execute_result"
    }
   ],
   "source": [
    "parcours()"
   ]
  },
  {
   "cell_type": "code",
   "execution_count": 56,
   "id": "5c2d9172",
   "metadata": {},
   "outputs": [
    {
     "data": {
      "text/plain": [
       "15"
      ]
     },
     "execution_count": 56,
     "metadata": {},
     "output_type": "execute_result"
    }
   ],
   "source": [
    "len(unique_components)"
   ]
  },
  {
   "cell_type": "code",
   "execution_count": 44,
   "id": "ecf0f7d1",
   "metadata": {},
   "outputs": [
    {
     "name": "stdout",
     "output_type": "stream",
     "text": [
      "rhn\n",
      "ntq\n",
      "cmg\n",
      "hfx\n",
      "xhk\n"
     ]
    }
   ],
   "source": [
    "tasks = []\n",
    "chain = set()\n",
    "tasks.append('bvb')\n",
    "tasks = numpy.array(tasks)\n",
    "for link in globals()[tasks[0]].links:\n",
    "    print (link)"
   ]
  },
  {
   "cell_type": "code",
   "execution_count": null,
   "id": "cc617dbc",
   "metadata": {},
   "outputs": [],
   "source": []
  }
 ],
 "metadata": {
  "kernelspec": {
   "display_name": "Python 3 (ipykernel)",
   "language": "python",
   "name": "python3"
  },
  "language_info": {
   "codemirror_mode": {
    "name": "ipython",
    "version": 3
   },
   "file_extension": ".py",
   "mimetype": "text/x-python",
   "name": "python",
   "nbconvert_exporter": "python",
   "pygments_lexer": "ipython3",
   "version": "3.11.5"
  }
 },
 "nbformat": 4,
 "nbformat_minor": 5
}
