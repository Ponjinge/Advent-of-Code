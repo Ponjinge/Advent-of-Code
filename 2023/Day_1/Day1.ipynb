{
 "cells": [
  {
   "cell_type": "markdown",
   "metadata": {},
   "source": [
    "# --- Day 1: Trebuchet?! ---\n",
    "\n",
    "\n",
    "\n",
    "Something is wrong with global snow production, and you've been selected to take a look. The Elves have even given you a map; on it, they've used stars to mark the top fifty locations that are likely to be having problems.\n",
    "\n",
    "You've been doing this long enough to know that to restore snow operations, you need to check all fifty stars by December 25th.\n",
    "\n",
    "Collect stars by solving puzzles. Two puzzles will be made available on each day in the Advent calendar; the second puzzle is unlocked when you complete the first. Each puzzle grants one star. Good luck!\n",
    "\n",
    "You try to ask why they can't just use a weather machine (\"not powerful enough\") and where they're even sending you (\"the sky\") and why your map looks mostly blank (\"you sure ask a lot of questions\") and hang on did you just say the sky (\"of course, where do you think snow comes from\") when you realize that the Elves are already loading you into a trebuchet (\"please hold still, we need to strap you in\").\n",
    "\n",
    "As they're making the final adjustments, they discover that their calibration document (your puzzle input) has been amended by a very young Elf who was apparently just excited to show off her art skills. Consequently, the Elves are having trouble reading the values on the document.\n",
    "\n",
    "The newly-improved calibration document consists of lines of text; each line originally contained a specific calibration value that the Elves now need to recover. On each line, the calibration value can be found by combining the first digit and the last digit (in that order) to form a single two-digit number.\n",
    "\n",
    "For example:\n",
    "\n",
    "1abc2\n",
    "pqr3stu8vwx\n",
    "a1b2c3d4e5f\n",
    "treb7uchet\n",
    "In this example, the calibration values of these four lines are 12, 38, 15, and 77. Adding these together produces 142.\n",
    "\n",
    "Consider your entire calibration document. What is the sum of all of the calibration values?\n",
    "\n",
    "##### Your puzzle answer was 54605.\n",
    "\n",
    "# --- Part Two ---\n",
    "Your calculation isn't quite right. It looks like some of the digits are actually spelled out with letters: one, two, three, four, five, six, seven, eight, and nine also count as valid \"digits\".\n",
    "\n",
    "Equipped with this new information, you now need to find the real first and last digit on each line. For example:\n",
    "\n",
    "two1nine\n",
    "eightwothree\n",
    "abcone2threexyz\n",
    "xtwone3four\n",
    "4nineeightseven2\n",
    "zoneight234\n",
    "7pqrstsixteen\n",
    "In this example, the calibration values are 29, 83, 13, 24, 42, 14, and 76. Adding these together produces 281.\n",
    "\n",
    "What is the sum of all of the calibration values?\n",
    "\n",
    "##### Your puzzle answer was 55429."
   ]
  },
  {
   "cell_type": "code",
   "execution_count": 101,
   "metadata": {
    "scrolled": true
   },
   "outputs": [],
   "source": [
    "individuals = []\n",
    "\n",
    "with open('./input.txt', 'r') as file:\n",
    "    file_content = file.read().strip()  \n",
    "individual_strings = file_content.split('\\n\\n')\n",
    "\n",
    "numbers = 0\n",
    "\n",
    "for j in range(0,1) :\n",
    "    for i, individual_str in enumerate(individual_strings, 1):\n",
    "        word = [[*line] for line in individual_str.split('\\n')]\n",
    "        individuals.append(word)"
   ]
  },
  {
   "cell_type": "code",
   "execution_count": 102,
   "metadata": {},
   "outputs": [],
   "source": [
    " def concat(a, b): \n",
    "    s1 = str(a) \n",
    "    s2 = str(b) \n",
    "    s = s1 + s2 \n",
    "    c = int(s) \n",
    "    return c "
   ]
  },
  {
   "cell_type": "code",
   "execution_count": 105,
   "metadata": {},
   "outputs": [],
   "source": [
    "numbers = 0\n",
    "for j in range(0,len(individuals[0])):\n",
    "    numberA = 0\n",
    "    numberB = 0\n",
    "    concato = '' \n",
    "    i = 0\n",
    "    while numberA==0: \n",
    "            concato = concato+individuals[0][j][i]\n",
    "            if individuals[0][j][i].isdigit():\n",
    "                \n",
    "                numberA= individuals[0][j][i]\n",
    "                \n",
    "            elif nl(concato)>0:\n",
    "                numberA= nl(concato)\n",
    "            i=i+1\n",
    "    k= len(individuals[0][j])-1 \n",
    "    concato = ''\n",
    "    while numberB==0:   \n",
    "        concato = individuals[0][j][k]+concato\n",
    "        if individuals[0][j][k].isdigit():\n",
    "                \n",
    "            numberB= individuals[0][j][k]\n",
    "        elif nl(concato)>0:\n",
    "            numberB= nl(concato)\n",
    "        k=k-1\n",
    "        \n",
    "        #print(k)\n",
    "    num = concat(numberA, numberB)\n",
    "    #print(num)\n",
    "    #print(numberA)\n",
    "    #print(numberB)\n",
    "    numbers= numbers+num\n",
    "    numberA = 0\n",
    "    numberB = 0\n",
    "\n",
    "   \n",
    "\n"
   ]
  },
  {
   "cell_type": "code",
   "execution_count": 104,
   "metadata": {},
   "outputs": [
    {
     "data": {
      "text/plain": [
       "55429"
      ]
     },
     "execution_count": 104,
     "metadata": {},
     "output_type": "execute_result"
    }
   ],
   "source": [
    "numbers "
   ]
  },
  {
   "cell_type": "code",
   "execution_count": 106,
   "metadata": {},
   "outputs": [],
   "source": [
    "# This could have been better using some kind of mapping \n",
    "# but it works\n",
    "\n",
    "def nl(w):\n",
    "    if 'one' in w:\n",
    "        return 1\n",
    "    elif 'two' in w:\n",
    "        return 2\n",
    "    elif 'three' in w:\n",
    "        return 3\n",
    "    elif 'four' in w:\n",
    "        return 4 \n",
    "    elif 'five' in w:\n",
    "        return 5\n",
    "    elif 'six' in w:\n",
    "        return 6\n",
    "    elif 'seven' in w:\n",
    "        return 7\n",
    "    elif 'eight' in w:\n",
    "        return 8\n",
    "    elif 'nine' in w:\n",
    "        return 9\n",
    "    else:\n",
    "        return 0"
   ]
  },
  {
   "cell_type": "markdown",
   "metadata": {},
   "source": [
    "# Both questions solved\n",
    "\n",
    "### Next time, don't bother naming the variables with long names, stick to clear 'a','ns' etc. Don't try to hard to work with the dataloading "
   ]
  }
 ],
 "metadata": {
  "kernelspec": {
   "display_name": "Python 3 (ipykernel)",
   "language": "python",
   "name": "python3"
  },
  "language_info": {
   "codemirror_mode": {
    "name": "ipython",
    "version": 3
   },
   "file_extension": ".py",
   "mimetype": "text/x-python",
   "name": "python",
   "nbconvert_exporter": "python",
   "pygments_lexer": "ipython3",
   "version": "3.8.3"
  }
 },
 "nbformat": 4,
 "nbformat_minor": 4
}
