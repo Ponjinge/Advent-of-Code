{
 "cells": [
  {
   "cell_type": "markdown",
   "metadata": {},
   "source": [
    "# Part 1"
   ]
  },
  {
   "cell_type": "code",
   "execution_count": 214,
   "metadata": {},
   "outputs": [],
   "source": [
    "#Boilerplate 1 \n",
    "\n",
    "s = []\n",
    "\n",
    "with open('./input.txt', 'r') as file:\n",
    "    file_content = file.read().strip()  \n",
    "\n",
    "for i, individual_str in enumerate(individual_strings, 1):\n",
    "    word = [*individual_str]\n",
    "    s.append(word)"
   ]
  },
  {
   "cell_type": "code",
   "execution_count": 24,
   "metadata": {},
   "outputs": [
    {
     "name": "stdout",
     "output_type": "stream",
     "text": [
      "30 119\n"
     ]
    }
   ],
   "source": [
    "# locate s\n",
    "\n",
    "for i in range (len(s)):\n",
    "    for j in range (len(s[i])):\n",
    "        if 'S' in s[i][j]:\n",
    "            print (i,j)\n",
    "            \n",
    "            "
   ]
  },
  {
   "cell_type": "code",
   "execution_count": 25,
   "metadata": {},
   "outputs": [
    {
     "data": {
      "text/plain": [
       "'S'"
      ]
     },
     "execution_count": 25,
     "metadata": {},
     "output_type": "execute_result"
    }
   ],
   "source": [
    "s[30][119]"
   ]
  },
  {
   "cell_type": "code",
   "execution_count": 92,
   "metadata": {},
   "outputs": [],
   "source": [
    "# Method 1 \n",
    "\n",
    "i = 30\n",
    "i2 = 30\n",
    "j = 118\n",
    "j2 = 120\n",
    "d=2\n",
    "d2=3\n",
    "n=0\n",
    "while i != i2 or j != j2:\n",
    "    v= s[i][j]\n",
    "    \n",
    "    if v ==\"|\":\n",
    "        if d == 0:\n",
    "            i-=1\n",
    "        if d == 1:\n",
    "            i+=1\n",
    "            \n",
    "    elif v ==\"-\":\n",
    "        if d == 2:\n",
    "            j-=1\n",
    "        if d == 3:\n",
    "            j+=1\n",
    "            \n",
    "    elif v ==\"L\":\n",
    "        if d == 1:\n",
    "            j+=1\n",
    "            d=3\n",
    "        if d == 2:\n",
    "            i-=1\n",
    "            d=0\n",
    "            \n",
    "    elif v ==\"J\":\n",
    "        if d == 1:\n",
    "            j-=1\n",
    "            d=2\n",
    "        if d == 3:\n",
    "            i-=1\n",
    "            d=0\n",
    "    \n",
    "    elif v ==\"7\":\n",
    "        if d == 0:\n",
    "            j-=1\n",
    "            d=2\n",
    "        if d == 3:\n",
    "            i+=1\n",
    "            d=1\n",
    "            \n",
    "    elif v ==\"F\":\n",
    "        if d == 0:\n",
    "            j+=1\n",
    "            d=3\n",
    "        if d == 2:\n",
    "            i+=1\n",
    "            d=1\n",
    "\n",
    "    v2= s[i2][j2]\n",
    "    if i == i2 and j == j2:\n",
    "        break\n",
    "    if v2 ==\"|\":\n",
    "        if d2 == 0:\n",
    "            i2-=1\n",
    "        if d2 == 1:\n",
    "            i2+=1\n",
    "            \n",
    "    elif v2 ==\"-\":\n",
    "        if d2 == 2:\n",
    "            j2-=1\n",
    "        if d2 == 3:\n",
    "            j2+=1\n",
    "            \n",
    "    elif v2 ==\"L\":\n",
    "        if d2 == 1:\n",
    "            j2+=1\n",
    "            d2=3\n",
    "        if d2 == 2:\n",
    "            i2-=1\n",
    "            d2=0\n",
    "            \n",
    "    elif v2 ==\"J\":\n",
    "        if d2 == 1:\n",
    "            j2-=1\n",
    "            d2=2\n",
    "        if d2 == 3:\n",
    "            i2-=1\n",
    "            d2=0\n",
    "    \n",
    "    elif v2 ==\"7\":\n",
    "        if d2 == 0:\n",
    "            j2-=1\n",
    "            d2=2\n",
    "        if d2 == 3:\n",
    "            i2+=1\n",
    "            d2=1\n",
    "            \n",
    "    elif v2 ==\"F\":\n",
    "        if d2 == 0:\n",
    "            j2+=1\n",
    "            d2=3\n",
    "        if d2 == 2:\n",
    "            i2+=1\n",
    "            d2=1    \n",
    "\n",
    "    n+=1    "
   ]
  },
  {
   "cell_type": "code",
   "execution_count": 93,
   "metadata": {},
   "outputs": [
    {
     "data": {
      "text/plain": [
       "6860"
      ]
     },
     "execution_count": 93,
     "metadata": {},
     "output_type": "execute_result"
    }
   ],
   "source": [
    "n+1"
   ]
  },
  {
   "cell_type": "code",
   "execution_count": 94,
   "metadata": {},
   "outputs": [],
   "source": [
    "# Method 2 (easier)\n",
    "\n",
    "i = 30\n",
    "\n",
    "j = 118\n",
    "\n",
    "d=2\n",
    "t = {(30,118), (30,119)}\n",
    "n=0\n",
    "while v != 'S':\n",
    "    v= s[i][j]\n",
    "    t.add((i,j))\n",
    "    if v ==\"|\":\n",
    "        if d == 0:\n",
    "            i-=1\n",
    "        if d == 1:\n",
    "            i+=1\n",
    "            \n",
    "    elif v ==\"-\":\n",
    "        if d == 2:\n",
    "            j-=1\n",
    "        if d == 3:\n",
    "            j+=1\n",
    "            \n",
    "    elif v ==\"L\":\n",
    "        if d == 1:\n",
    "            j+=1\n",
    "            d=3\n",
    "        if d == 2:\n",
    "            i-=1\n",
    "            d=0\n",
    "            \n",
    "    elif v ==\"J\":\n",
    "        if d == 1:\n",
    "            j-=1\n",
    "            d=2\n",
    "        if d == 3:\n",
    "            i-=1\n",
    "            d=0\n",
    "    \n",
    "    elif v ==\"7\":\n",
    "        if d == 0:\n",
    "            j-=1\n",
    "            d=2\n",
    "        if d == 3:\n",
    "            i+=1\n",
    "            d=1\n",
    "            \n",
    "    elif v ==\"F\":\n",
    "        if d == 0:\n",
    "            j+=1\n",
    "            d=3\n",
    "        if d == 2:\n",
    "            i+=1\n",
    "            d=1\n",
    "\n",
    "    n+=1    "
   ]
  },
  {
   "cell_type": "code",
   "execution_count": 95,
   "metadata": {},
   "outputs": [
    {
     "data": {
      "text/plain": [
       "6860.0"
      ]
     },
     "execution_count": 95,
     "metadata": {},
     "output_type": "execute_result"
    }
   ],
   "source": [
    "n/2"
   ]
  },
  {
   "cell_type": "markdown",
   "metadata": {},
   "source": [
    "____\n",
    "____\n",
    "____"
   ]
  },
  {
   "cell_type": "markdown",
   "metadata": {},
   "source": [
    "# Part 2"
   ]
  },
  {
   "cell_type": "code",
   "execution_count": 323,
   "metadata": {},
   "outputs": [],
   "source": [
    "# Part 2 \n",
    "\n",
    "s = []\n",
    "\n",
    "with open('./input.txt', 'r') as file:\n",
    "    file_content = file.read().strip()  \n",
    "\n",
    "for i, individual_str in enumerate(individual_strings, 1):\n",
    "    word = [*individual_str]\n",
    "    s.append(word)"
   ]
  },
  {
   "cell_type": "code",
   "execution_count": 324,
   "metadata": {},
   "outputs": [
    {
     "data": {
      "text/plain": [
       "140"
      ]
     },
     "execution_count": 324,
     "metadata": {},
     "output_type": "execute_result"
    }
   ],
   "source": [
    "len(s)"
   ]
  },
  {
   "cell_type": "code",
   "execution_count": 325,
   "metadata": {},
   "outputs": [
    {
     "data": {
      "text/plain": [
       "279"
      ]
     },
     "execution_count": 325,
     "metadata": {},
     "output_type": "execute_result"
    }
   ],
   "source": [
    "# Add columns of # to represent 'squeezing'\n",
    "for i in range(140 - 1, -1, -1):\n",
    "    for j in range(140-1, 0, -1):\n",
    "        s[i].insert(j , '#')\n",
    "        \n",
    "len(s[0])"
   ]
  },
  {
   "cell_type": "code",
   "execution_count": 326,
   "metadata": {},
   "outputs": [],
   "source": [
    "# Same for rows \n",
    "empRow= []\n",
    "for k in range(0,279):\n",
    "    empRow.append(\"#\")\n",
    "\n",
    "for i in range(  140-1, -1, -1):\n",
    "    s.insert(i , empRow)\n",
    "    \n"
   ]
  },
  {
   "cell_type": "code",
   "execution_count": 327,
   "metadata": {},
   "outputs": [
    {
     "data": {
      "text/plain": [
       "279"
      ]
     },
     "execution_count": 327,
     "metadata": {},
     "output_type": "execute_result"
    }
   ],
   "source": [
    "len(empRow)"
   ]
  },
  {
   "cell_type": "code",
   "execution_count": 328,
   "metadata": {},
   "outputs": [
    {
     "data": {
      "text/plain": [
       "280"
      ]
     },
     "execution_count": 328,
     "metadata": {},
     "output_type": "execute_result"
    }
   ],
   "source": [
    "len(s)"
   ]
  },
  {
   "cell_type": "code",
   "execution_count": 329,
   "metadata": {},
   "outputs": [
    {
     "data": {
      "text/plain": [
       "279"
      ]
     },
     "execution_count": 329,
     "metadata": {},
     "output_type": "execute_result"
    }
   ],
   "source": [
    "len(s[0])"
   ]
  },
  {
   "cell_type": "code",
   "execution_count": 330,
   "metadata": {},
   "outputs": [
    {
     "name": "stdout",
     "output_type": "stream",
     "text": [
      "# # # # # # # # # # 0\n",
      ". # L # 7 # F # - # 1\n",
      "# # # # # # # # # # 2\n",
      "J # F # - # | # . # 3\n",
      "# # # # # # # # # # 4\n",
      "L # L # J # F # 7 # 5\n",
      "# # # # # # # # # # 6\n",
      "L # | # - # | # J # 7\n",
      "# # # # # # # # # # 8\n",
      "7 # . # L # J # . # 9\n",
      "# # # # # # # # # # 10\n",
      "L # 7 # . # | # - # 11\n",
      "# # # # # # # # # # 12\n",
      "L # L # - # 7 # 7 # 13\n",
      "# # # # # # # # # # 14\n",
      "L # L # - # 7 # - # 15\n",
      "# # # # # # # # # # 16\n",
      ". # . # L # L # . # 17\n",
      "# # # # # # # # # # 18\n",
      "F # | # . # | # F # 19\n",
      "# # # # # # # # # # 20\n",
      "- # F # J # 7 # 7 # 21\n",
      "# # # # # # # # # # 22\n",
      "L # | # J # L # | # 23\n",
      "# # # # # # # # # # 24\n",
      "7 # - # 7 # - # 7 # 25\n",
      "# # # # # # # # # # 26\n",
      "| # L # 7 # - # L # 27\n",
      "# # # # # # # # # # 28\n",
      "F # L # . # . # | # 29\n",
      "# # # # # # # # # # 30\n",
      "7 # . # F # J # | # 31\n",
      "# # # # # # # # # # 32\n",
      "- # | # - # - # F # 33\n",
      "# # # # # # # # # # 34\n",
      "L # 7 # | # F # J # 35\n",
      "# # # # # # # # # # 36\n",
      ". # . # | # L # | # 37\n",
      "# # # # # # # # # # 38\n",
      "F # F # 7 # - # 7 # 39\n",
      "# # # # # # # # # # 40\n",
      "J # . # | # . # | # 41\n",
      "# # # # # # # # # # 42\n",
      ". # F # F # 7 # L # 43\n",
      "# # # # # # # # # # 44\n",
      ". # | # L # 7 # F # 45\n",
      "# # # # # # # # # # 46\n",
      "| # J # F # 7 # J # 47\n",
      "# # # # # # # # # # 48\n",
      "L # . # | # | # | # 49\n",
      "# # # # # # # # # # 50\n",
      "L # F # L # | # - # 51\n",
      "# # # # # # # # # # 52\n",
      ". # F # . # L # F # 53\n",
      "# # # # # # # # # # 54\n",
      "J # J # 7 # L # L # 55\n",
      "# # # # # # # # # # 56\n",
      "F # L # L # . # L # 57\n",
      "# # # # # # # # # # 58\n",
      "J # J # L # - # | # 59\n",
      "# # # # # # # # # # 60\n",
      "| # . # - # . # F # 61\n",
      "# # # # # # # # # # 62\n",
      "F # 7 # . # 7 # . # 63\n",
      "# # # # # # # # # # 64\n",
      "L # F # - # L # - # 65\n",
      "# # # # # # # # # # 66\n",
      "L # | # 7 # . # F # 67\n",
      "# # # # # # # # # # 68\n",
      "F # F # J # 7 # | # 69\n",
      "# # # # # # # # # # 70\n",
      "L # L # F # J # J # 71\n",
      "# # # # # # # # # # 72\n",
      ". # L # J # J # F # 73\n",
      "# # # # # # # # # # 74\n",
      "F # F # . # J # - # 75\n",
      "# # # # # # # # # # 76\n",
      "F # F # 7 # J # . # 77\n",
      "# # # # # # # # # # 78\n",
      "L # L # F # - # - # 79\n",
      "# # # # # # # # # # 80\n",
      "F # F # | # | # | # 81\n",
      "# # # # # # # # # # 82\n",
      "L # | # 7 # L # J # 83\n",
      "# # # # # # # # # # 84\n",
      "| # . # L # J # . # 85\n",
      "# # # # # # # # # # 86\n",
      "| # . # | # F # - # 87\n",
      "# # # # # # # # # # 88\n",
      "L # F # . # L # | # 89\n",
      "# # # # # # # # # # 90\n",
      ". # | # L # - # - # 91\n",
      "# # # # # # # # # # 92\n",
      "F # F # 7 # F # 7 # 93\n",
      "# # # # # # # # # # 94\n",
      "7 # . # L # J # F # 95\n",
      "# # # # # # # # # # 96\n",
      "| # 7 # - # F # F # 97\n",
      "# # # # # # # # # # 98\n",
      "- # - # - # - # J # 99\n",
      "# # # # # # # # # # 100\n",
      "| # | # - # | # 7 # 101\n",
      "# # # # # # # # # # 102\n",
      "| # 7 # . # F # 7 # 103\n",
      "# # # # # # # # # # 104\n",
      "| # | # - # J # 7 # 105\n",
      "# # # # # # # # # # 106\n",
      "| # F # 7 # - # J # 107\n",
      "# # # # # # # # # # 108\n",
      "F # - # J # 7 # | # 109\n",
      "# # # # # # # # # # 110\n",
      "| # J # - # - # F # 111\n",
      "# # # # # # # # # # 112\n",
      "| # F # 7 # J # L # 113\n",
      "# # # # # # # # # # 114\n",
      ". # L # F # 7 # L # 115\n",
      "# # # # # # # # # # 116\n",
      ". # L # | # L # . # 117\n",
      "# # # # # # # # # # 118\n",
      "F # F # - # J # F # 119\n",
      "# # # # # # # # # # 120\n",
      "L # - # 7 # L # 7 # 121\n",
      "# # # # # # # # # # 122\n",
      "7 # 7 # F # F # - # 123\n",
      "# # # # # # # # # # 124\n",
      "| # L # - # - # . # 125\n",
      "# # # # # # # # # # 126\n",
      "7 # F # | # J # . # 127\n",
      "# # # # # # # # # # 128\n",
      "F # - # . # | # F # 129\n",
      "# # # # # # # # # # 130\n",
      "| # . # F # F # - # 131\n",
      "# # # # # # # # # # 132\n",
      "L # F # L # . # | # 133\n",
      "# # # # # # # # # # 134\n",
      "| # | # L # . # - # 135\n",
      "# # # # # # # # # # 136\n",
      ". # | # 7 # L # J # 137\n",
      "# # # # # # # # # # 138\n",
      "L # - # | # | # . # 139\n",
      "# # # # # # # # # # 140\n",
      "| # 7 # L # - # 7 # 141\n",
      "# # # # # # # # # # 142\n",
      "L # J # J # - # - # 143\n",
      "# # # # # # # # # # 144\n",
      "| # 7 # - # F # . # 145\n",
      "# # # # # # # # # # 146\n",
      "| # 7 # - # J # - # 147\n",
      "# # # # # # # # # # 148\n",
      "F # J # L # J # . # 149\n",
      "# # # # # # # # # # 150\n",
      "L # 7 # L # F # 7 # 151\n",
      "# # # # # # # # # # 152\n",
      "L # L # J # . # L # 153\n",
      "# # # # # # # # # # 154\n",
      "7 # 7 # F # J # . # 155\n",
      "# # # # # # # # # # 156\n",
      "L # | # J # J # F # 157\n",
      "# # # # # # # # # # 158\n",
      ". # | # | # . # 7 # 159\n",
      "# # # # # # # # # # 160\n",
      "- # | # 7 # - # F # 161\n",
      "# # # # # # # # # # 162\n",
      ". # . # | # L # L # 163\n",
      "# # # # # # # # # # 164\n",
      "| # F # L # - # J # 165\n",
      "# # # # # # # # # # 166\n",
      "- # L # - # 7 # F # 167\n",
      "# # # # # # # # # # 168\n",
      "L # L # L # - # 7 # 169\n",
      "# # # # # # # # # # 170\n",
      "| # | # J # L # 7 # 171\n",
      "# # # # # # # # # # 172\n",
      "F # 7 # - # - # - # 173\n",
      "# # # # # # # # # # 174\n",
      "| # | # F # - # | # 175\n",
      "# # # # # # # # # # 176\n",
      "L # L # J # L # | # 177\n",
      "# # # # # # # # # # 178\n",
      "L # | # - # . # F # 179\n",
      "# # # # # # # # # # 180\n",
      "F # | # | # . # L # 181\n",
      "# # # # # # # # # # 182\n",
      "F # J # F # F # 7 # 183\n",
      "# # # # # # # # # # 184\n",
      "| # . # | # | # 7 # 185\n",
      "# # # # # # # # # # 186\n",
      "F # L # L # L # F # 187\n",
      "# # # # # # # # # # 188\n",
      "J # J # L # | # L # 189\n",
      "# # # # # # # # # # 190\n",
      "| # 7 # 7 # | # J # 191\n",
      "# # # # # # # # # # 192\n",
      "- # 7 # - # J # | # 193\n",
      "# # # # # # # # # # 194\n",
      ". # 7 # L # | # - # 195\n",
      "# # # # # # # # # # 196\n",
      "7 # L # F # J # - # 197\n",
      "# # # # # # # # # # 198\n",
      "| # F # J # 7 # L # 199\n",
      "# # # # # # # # # # 200\n",
      "7 # 7 # L # F # . # 201\n",
      "# # # # # # # # # # 202\n",
      "L # J # F # | # 7 # 203\n",
      "# # # # # # # # # # 204\n",
      "- # | # - # L # . # 205\n",
      "# # # # # # # # # # 206\n",
      ". # | # F # | # . # 207\n",
      "# # # # # # # # # # 208\n",
      "F # 7 # - # | # 7 # 209\n",
      "# # # # # # # # # # 210\n",
      "J # - # - # 7 # 7 # 211\n",
      "# # # # # # # # # # 212\n",
      "F # J # - # F # L # 213\n",
      "# # # # # # # # # # 214\n",
      "J # J # F # - # J # 215\n",
      "# # # # # # # # # # 216\n",
      "L # F # 7 # - # - # 217\n",
      "# # # # # # # # # # 218\n",
      ". # | # J # 7 # | # 219\n",
      "# # # # # # # # # # 220\n",
      "F # | # | # | # L # 221\n",
      "# # # # # # # # # # 222\n",
      "- # - # L # J # L # 223\n",
      "# # # # # # # # # # 224\n",
      "F # | # F # J # | # 225\n",
      "# # # # # # # # # # 226\n",
      "F # L # J # 7 # F # 227\n",
      "# # # # # # # # # # 228\n",
      "| # F # | # F # F # 229\n",
      "# # # # # # # # # # 230\n",
      "L # 7 # - # F # - # 231\n",
      "# # # # # # # # # # 232\n",
      "| # | # 7 # J # | # 233\n",
      "# # # # # # # # # # 234\n",
      "- # L # J # - # F # 235\n",
      "# # # # # # # # # # 236\n",
      "F # J # J # | # . # 237\n",
      "# # # # # # # # # # 238\n",
      "7 # . # . # | # - # 239\n",
      "# # # # # # # # # # 240\n",
      "F # . # F # | # L # 241\n",
      "# # # # # # # # # # 242\n",
      "J # F # L # . # | # 243\n",
      "# # # # # # # # # # 244\n",
      ". # 7 # | # F # L # 245\n",
      "# # # # # # # # # # 246\n",
      ". # L # - # F # J # 247\n",
      "# # # # # # # # # # 248\n",
      "7 # - # | # . # . # 249\n",
      "# # # # # # # # # # 250\n",
      "L # - # 7 # - # | # 251\n",
      "# # # # # # # # # # 252\n",
      "L # | # L # | # L # 253\n",
      "# # # # # # # # # # 254\n",
      "F # - # - # F # L # 255\n",
      "# # # # # # # # # # 256\n",
      "L # L # 7 # J # J # 257\n",
      "# # # # # # # # # # 258\n",
      ". # . # L # J # L # 259\n",
      "# # # # # # # # # # 260\n",
      "7 # . # | # - # | # 261\n",
      "# # # # # # # # # # 262\n",
      "F # 7 # 7 # - # 7 # 263\n",
      "# # # # # # # # # # 264\n",
      "L # L # J # - # | # 265\n",
      "# # # # # # # # # # 266\n",
      "7 # F # 7 # F # L # 267\n",
      "# # # # # # # # # # 268\n",
      "L # J # J # 7 # J # 269\n",
      "# # # # # # # # # # 270\n",
      "L # . # J # 7 # | # 271\n",
      "# # # # # # # # # # 272\n",
      "| # - # | # - # L # 273\n",
      "# # # # # # # # # # 274\n",
      "| # - # F # 7 # - # 275\n",
      "# # # # # # # # # # 276\n",
      "7 # 7 # | # J # . # 277\n",
      "# # # # # # # # # # 278\n",
      "L # 7 # J # L # L # 279\n"
     ]
    }
   ],
   "source": [
    "i=-1\n",
    "for row in s:\n",
    "    i+=1\n",
    "    print(\" \".join(map(str, row[:10])),i)"
   ]
  },
  {
   "cell_type": "code",
   "execution_count": 331,
   "metadata": {},
   "outputs": [
    {
     "name": "stdout",
     "output_type": "stream",
     "text": [
      "61 238\n"
     ]
    }
   ],
   "source": [
    "# locate s\n",
    "\n",
    "for i in range (len(s)):\n",
    "    for j in range (len(s[i])):\n",
    "        if 'S' in s[i][j]:\n",
    "            print (i,j)\n",
    "            \n",
    "  "
   ]
  },
  {
   "cell_type": "code",
   "execution_count": 402,
   "metadata": {},
   "outputs": [],
   "source": [
    "# Jump over added squares and add them to the loop set \n",
    "\n",
    "i = 61\n",
    "\n",
    "j = 236\n",
    "v=s[i][j]\n",
    "d=2\n",
    "t = {(61, 238),(61,236),(61,237)}\n",
    "n=0\n",
    "while v != 'S':\n",
    "\n",
    "    v= s[i][j]\n",
    "    \n",
    "    t.add((i,j))\n",
    "    if v ==\"|\":\n",
    "        if d == 0:\n",
    "            t.add((i-1, j))\n",
    "            i-=2\n",
    "            \n",
    "        if d == 1:\n",
    "            t.add((i+1, j))\n",
    "            i+=2\n",
    "            \n",
    "    elif v ==\"-\":\n",
    "        if d == 2:\n",
    "            t.add((i, j-1))\n",
    "            j-=2\n",
    "            \n",
    "        if d == 3:\n",
    "            t.add((i, j+1))\n",
    "            j+=2\n",
    "            \n",
    "    elif v ==\"L\":\n",
    "        if d == 1:\n",
    "            t.add((i, j+1))\n",
    "            j+=2\n",
    "            d=3\n",
    "        if d == 2:\n",
    "            t.add((i-1, j))\n",
    "            i-=2\n",
    "            d=0\n",
    "            \n",
    "    elif v ==\"J\":\n",
    "        if d == 1:\n",
    "            t.add((i, j-1))\n",
    "            j-=2\n",
    "            d=2\n",
    "        if d == 3:\n",
    "            t.add((i-1, j))\n",
    "            i-=2\n",
    "            d=0\n",
    "    \n",
    "    elif v ==\"7\":\n",
    "        if d == 0:\n",
    "            t.add((i, j-1))\n",
    "            j-=2\n",
    "            d=2\n",
    "        if d == 3:\n",
    "            t.add((i+1, j))\n",
    "            i+=2\n",
    "            d=1\n",
    "            \n",
    "    elif v ==\"F\":\n",
    "        if d == 0:\n",
    "            t.add((i, j+1))\n",
    "            j+=2\n",
    "            d=3\n",
    "        if d == 2:\n",
    "            t.add((i+1, j))\n",
    "            i+=2\n",
    "            d=1\n",
    "    \n",
    "    n+=1    "
   ]
  },
  {
   "cell_type": "code",
   "execution_count": 403,
   "metadata": {},
   "outputs": [
    {
     "data": {
      "text/plain": [
       "6860.0"
      ]
     },
     "execution_count": 403,
     "metadata": {},
     "output_type": "execute_result"
    }
   ],
   "source": [
    "n/2\n"
   ]
  },
  {
   "cell_type": "code",
   "execution_count": 406,
   "metadata": {},
   "outputs": [
    {
     "data": {
      "text/plain": [
       "True"
      ]
     },
     "execution_count": 406,
     "metadata": {},
     "output_type": "execute_result"
    }
   ],
   "source": [
    "(61,237) in t"
   ]
  },
  {
   "cell_type": "code",
   "execution_count": 408,
   "metadata": {},
   "outputs": [
    {
     "data": {
      "text/plain": [
       "27440"
      ]
     },
     "execution_count": 408,
     "metadata": {},
     "output_type": "execute_result"
    }
   ],
   "source": [
    "len(t)"
   ]
  },
  {
   "cell_type": "code",
   "execution_count": 419,
   "metadata": {},
   "outputs": [
    {
     "data": {
      "image/png": "[encoded data removed]",
      "text/plain": [
       "<Figure size 640x480 with 1 Axes>"
      ]
     },
     "metadata": {},
     "output_type": "display_data"
    }
   ],
   "source": [
    "# Visualisation to find middle space to start fill on \n",
    "def plot_set(set1):\n",
    "    \n",
    "    x_values, y_values = zip(*set1)\n",
    "\n",
    "   \n",
    "    plt.scatter(x_values, y_values, marker='o', label='Loop')\n",
    "    \n",
    "    \n",
    "    plt.xlabel('X-axis')\n",
    "    plt.ylabel('Y-axis')\n",
    "    plt.title('Set of Tuples')\n",
    "\n",
    "    \n",
    "    plt.legend()\n",
    "\n",
    "   \n",
    "    plt.grid(True)\n",
    "    plt.show()\n",
    "\n",
    "\n",
    "\n",
    "plot_set(t)"
   ]
  },
  {
   "cell_type": "code",
   "execution_count": 412,
   "metadata": {},
   "outputs": [],
   "source": [
    "#Fill function \n",
    "fill_set= {(140,140)}\n",
    "\n",
    "def ffill(i,j):\n",
    "    if (i < 0 or i >= 279 or j < 0 or j >= 278):\n",
    "        return\n",
    "    \n",
    "    if (i, j) in t:\n",
    "        \n",
    "        return\n",
    "    \n",
    "    if i<279:\n",
    "        if((i+1,j) not in t and (i+1,j) not in fill_set):\n",
    "            fill_set.add((i+1,j))\n",
    "            ffill(i+1,j)\n",
    "            \n",
    "    if j<278 :\n",
    "        if( (i,j+1) not in t and (i,j+1) not in fill_set):\n",
    "            fill_set.add((i,j+1))\n",
    "            ffill(i,j+1)\n",
    "    if i>0:\n",
    "        if( (i-1,j) not in t and (i-1,j) not in fill_set):\n",
    "            fill_set.add((i-1,j))\n",
    "            ffill(i-1,j)\n",
    "    if j>0 :\n",
    "        if( (i,j-1) not in t and (i,j-1) not in fill_set):\n",
    "            fill_set.add((i,j-1))\n",
    "            ffill(i,j-1)\n",
    "    else:\n",
    "        return "
   ]
  },
  {
   "cell_type": "code",
   "execution_count": 413,
   "metadata": {
    "scrolled": true
   },
   "outputs": [],
   "source": [
    "\n",
    "ffill(140,140)"
   ]
  },
  {
   "cell_type": "code",
   "execution_count": 414,
   "metadata": {},
   "outputs": [
    {
     "data": {
      "text/plain": [
       "15089"
      ]
     },
     "execution_count": 414,
     "metadata": {},
     "output_type": "execute_result"
    }
   ],
   "source": [
    "# Length of middle space\n",
    "len(fill_set) "
   ]
  },
  {
   "cell_type": "code",
   "execution_count": 415,
   "metadata": {},
   "outputs": [
    {
     "data": {
      "text/plain": [
       "343"
      ]
     },
     "execution_count": 415,
     "metadata": {},
     "output_type": "execute_result"
    }
   ],
   "source": [
    "# Remove added rows and columns from the set\n",
    "for i in range (len(s)):\n",
    "    for j in range (len(s[0])):\n",
    "        if (i,j) in fill_set:\n",
    "            if '#' in s[i][j]:\n",
    "                fill_set.remove((i,j))\n",
    "                \n",
    "# Get the number of spaces\n",
    "len(fill_set)"
   ]
  },
  {
   "cell_type": "code",
   "execution_count": 417,
   "metadata": {},
   "outputs": [
    {
     "data": {
      "image/png": "[encoded data removed]",
      "text/plain": [
       "<Figure size 640x480 with 1 Axes>"
      ]
     },
     "metadata": {},
     "output_type": "display_data"
    }
   ],
   "source": [
    "#Visualisation\n",
    "\n",
    "import matplotlib.pyplot as plt\n",
    "\n",
    "def plot_set(set1, set2):\n",
    "    \n",
    "    x_values, y_values = zip(*set1)\n",
    "    x1_values, y1_values = zip(*set2)\n",
    "   \n",
    "    plt.scatter(x_values, y_values, marker='o', label='Loop')\n",
    "    plt.scatter(x1_values, y1_values, marker='o', c='red', label='Outside')\n",
    "    \n",
    "    plt.xlabel('X-axis')\n",
    "    plt.ylabel('Y-axis')\n",
    "    plt.title('Set of Tuples')\n",
    "\n",
    "    \n",
    "    plt.legend()\n",
    "\n",
    "   \n",
    "    plt.grid(True)\n",
    "    plt.show()\n",
    "\n",
    "\n",
    "\n",
    "plot_set(t, fill_set)\n"
   ]
  },
  {
   "cell_type": "code",
   "execution_count": null,
   "metadata": {},
   "outputs": [],
   "source": []
  }
 ],
 "metadata": {
  "kernelspec": {
   "display_name": "Python 3 (ipykernel)",
   "language": "python",
   "name": "python3"
  },
  "language_info": {
   "codemirror_mode": {
    "name": "ipython",
    "version": 3
   },
   "file_extension": ".py",
   "mimetype": "text/x-python",
   "name": "python",
   "nbconvert_exporter": "python",
   "pygments_lexer": "ipython3",
   "version": "3.11.5"
  }
 },
 "nbformat": 4,
 "nbformat_minor": 4
}
