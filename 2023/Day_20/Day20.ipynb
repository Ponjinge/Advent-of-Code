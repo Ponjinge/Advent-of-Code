{
 "cells": [
  {
   "cell_type": "code",
   "execution_count": 293,
   "id": "0d152f88",
   "metadata": {},
   "outputs": [],
   "source": [
    "class Module: \n",
    "    def __init__(self, name, module_type=None, state=0, val=[], p=[], children=[]):\n",
    "        self.name = name\n",
    "        self.module_type = module_type\n",
    "        self.state = state\n",
    "        self.p = p\n",
    "        self.children = children\n",
    "        self.val = val \n",
    "        \n",
    "    def receive_signal(self, signal_type, sender, tasks):\n",
    "        if signal_type == 'L':\n",
    "            if self.module_type == ['&']:\n",
    "                k=0\n",
    "                while self.p[k]!=sender:\n",
    "                    #print(self.p[k], k, sender)\n",
    "                    k=k+1\n",
    "                    \n",
    "                self.val[k]= 0 \n",
    "                \n",
    "                tasks.append(('H', self.children,self))\n",
    "                #print('H', self.children,self.name)\n",
    "                    \n",
    "            elif self.module_type ==['%']:\n",
    "                if self.state == 0:\n",
    "                    self.state = 1\n",
    "                    tasks.append(('H', self.children, self))\n",
    "                \n",
    "                else:\n",
    "                    self.state = 0\n",
    "                    tasks.append(('L', self.children, self))\n",
    "       \n",
    "        else:\n",
    "            \n",
    "            if self.module_type == ['&']:\n",
    "                k=0\n",
    "                while self.p[k] !=sender:\n",
    "                    #print(self.p[k], k, sender)\n",
    "                    k=k+1\n",
    "                \n",
    "                self.val[k]= 1  \n",
    "                #print(self.val)\n",
    "                \n",
    "                if all(parn==1 for parn in self.val):\n",
    "                    #print('good')\n",
    "                    tasks.append(('L', self.children,self))\n",
    "                    #print('L', self.children,self.name)\n",
    "                else:\n",
    "                    tasks.append(('H', self.children,self))\n",
    "                    #print('H', self.children,self.name)\n",
    "                    \n",
    "                    \n",
    "    def add_parent(self, p):\n",
    "        self.p=p\n",
    "    \n",
    "    def add_val(self, v):\n",
    "        self.val = v\n",
    "        \n",
    "    "
   ]
  },
  {
   "cell_type": "code",
   "execution_count": 294,
   "id": "8a0ff9c9",
   "metadata": {},
   "outputs": [],
   "source": [
    "broad = Module(name = 'broad')"
   ]
  },
  {
   "cell_type": "code",
   "execution_count": 309,
   "id": "add04d11",
   "metadata": {},
   "outputs": [],
   "source": [
    "def button_press(r,low_counter, high_counter):\n",
    "    \n",
    "    tasks = []\n",
    "    tasks.append(('L', ['sr', 'ch', 'hd', 'bx'] ,broad))\n",
    "    while tasks:\n",
    "        \n",
    "        for i in range (len(tasks[0][1])):\n",
    "            if tasks[0][1][i]!= 'rx':\n",
    "            \n",
    "                #print (tasks[0][1][i],tasks[0][0],tasks[0][2].name)\n",
    "                globals()[tasks[0][1][i]].receive_signal(tasks[0][0],tasks[0][2].name,tasks)\n",
    "                \n",
    "                # Change for each & module connected to &th\n",
    "                if tasks[0][2].name=='xf' and tasks[0][0]=='H'and tasks[0][1][i]=='th':\n",
    "                    r=1\n",
    "            \n",
    "                    \n",
    "            if tasks[0][0]=='L':\n",
    "                low_counter+=1\n",
    "            else:\n",
    "                high_counter+=1\n",
    "                \n",
    "        tasks.pop(0)\n",
    "        \n",
    "    return (r,low_counter,high_counter)"
   ]
  },
  {
   "cell_type": "code",
   "execution_count": 296,
   "id": "1c88eb7a",
   "metadata": {},
   "outputs": [],
   "source": [
    "# Get Strings of letters\n",
    "import re\n",
    "names = []\n",
    "with open('./input.txt', 'r') as file:\n",
    "     file_content = file.read().strip()  \n",
    "individual_strings = file_content.split('\\n')\n",
    "\n",
    "for i, line in enumerate(individual_strings, 1):\n",
    "        letters = re.findall(r'[a-zA-Z]+', line)\n",
    "        names.append(letters)\n",
    "        \n",
    "with open('./input.txt', 'r') as file:\n",
    "    lines = file.readlines()\n",
    "\n",
    "typed = [[char for char in line if char in ('%', '&')] for line in lines]"
   ]
  },
  {
   "cell_type": "code",
   "execution_count": 297,
   "id": "8303ee4d",
   "metadata": {},
   "outputs": [],
   "source": [
    "for k in range (len(names)):\n",
    "    globals()[names[k][0]]= Module(name = names[k][0], module_type = typed[k], children= names[k][1:])"
   ]
  },
  {
   "cell_type": "code",
   "execution_count": 298,
   "id": "9a9e3162",
   "metadata": {},
   "outputs": [],
   "source": [
    "watchers = []            \n",
    "for k in range(0, len(typed)):\n",
    "    \n",
    "    if typed[k]==['&']:\n",
    "        \n",
    "        watchers.append(names[k][0])\n",
    "\n",
    "for i in range(len(watchers)):\n",
    "    pp=[]\n",
    "    pval = []\n",
    "    for k in range (len(names)):\n",
    "        for j in range(1,len(names[k])):\n",
    "            if names[k][j]==watchers[i]:\n",
    "                pp.append(names[k][0])\n",
    "                pval.append(0)\n",
    "    globals()[watchers[i]].add_parent(pp)\n",
    "    globals()[watchers[i]].add_val(pval)"
   ]
  },
  {
   "cell_type": "code",
   "execution_count": 299,
   "id": "5bdad8ca",
   "metadata": {},
   "outputs": [
    {
     "data": {
      "text/plain": [
       "['xn', 'qn', 'xf', 'qx', 'zl', 'db', 'th', 'vc', 'gf']"
      ]
     },
     "execution_count": 299,
     "metadata": {},
     "output_type": "execute_result"
    }
   ],
   "source": [
    "watchers"
   ]
  },
  {
   "cell_type": "code",
   "execution_count": 300,
   "id": "1c2d513a",
   "metadata": {},
   "outputs": [
    {
     "data": {
      "text/plain": [
       "['pl', 'xm', 'nn', 'qj', 'mc', 'jz', 'ch', 'bp']"
      ]
     },
     "execution_count": 300,
     "metadata": {},
     "output_type": "execute_result"
    }
   ],
   "source": [
    "db.p"
   ]
  },
  {
   "cell_type": "code",
   "execution_count": 301,
   "id": "923afc39",
   "metadata": {},
   "outputs": [],
   "source": [
    "low_counter= 0\n",
    "high_counter = 0\n",
    "r=0\n",
    "res = 0\n",
    "for i in range (100000000000):\n",
    "    r,low_counter, high_counter = button_press(r,low_counter, high_counter)\n",
    "    if r==1:\n",
    "        res = i+1\n",
    "        break\n",
    "    #print(low_counter, high_counter)"
   ]
  },
  {
   "cell_type": "code",
   "execution_count": 302,
   "id": "8618070d",
   "metadata": {},
   "outputs": [
    {
     "data": {
      "text/plain": [
       "3923"
      ]
     },
     "execution_count": 302,
     "metadata": {},
     "output_type": "execute_result"
    }
   ],
   "source": [
    "res"
   ]
  },
  {
   "cell_type": "code",
   "execution_count": 303,
   "id": "3679157c",
   "metadata": {},
   "outputs": [
    {
     "data": {
      "text/plain": [
       "224046542165867"
      ]
     },
     "execution_count": 303,
     "metadata": {},
     "output_type": "execute_result"
    }
   ],
   "source": [
    "from math import lcm  \n",
    "lcm(4027,3923,3739,3793)"
   ]
  },
  {
   "cell_type": "code",
   "execution_count": 304,
   "id": "48988438",
   "metadata": {},
   "outputs": [
    {
     "data": {
      "text/plain": [
       "67338"
      ]
     },
     "execution_count": 304,
     "metadata": {},
     "output_type": "execute_result"
    }
   ],
   "source": [
    "low_counter"
   ]
  },
  {
   "cell_type": "code",
   "execution_count": 305,
   "id": "f85aec38",
   "metadata": {},
   "outputs": [
    {
     "data": {
      "text/plain": [
       "186111"
      ]
     },
     "execution_count": 305,
     "metadata": {},
     "output_type": "execute_result"
    }
   ],
   "source": [
    "high_counter"
   ]
  },
  {
   "cell_type": "code",
   "execution_count": 306,
   "id": "0c284a16",
   "metadata": {},
   "outputs": [
    {
     "data": {
      "text/plain": [
       "12718453518"
      ]
     },
     "execution_count": 306,
     "metadata": {},
     "output_type": "execute_result"
    }
   ],
   "source": [
    "(low_counter+1000)*(high_counter)"
   ]
  }
 ],
 "metadata": {
  "kernelspec": {
   "display_name": "Python 3 (ipykernel)",
   "language": "python",
   "name": "python3"
  },
  "language_info": {
   "codemirror_mode": {
    "name": "ipython",
    "version": 3
   },
   "file_extension": ".py",
   "mimetype": "text/x-python",
   "name": "python",
   "nbconvert_exporter": "python",
   "pygments_lexer": "ipython3",
   "version": "3.11.5"
  }
 },
 "nbformat": 4,
 "nbformat_minor": 5
}
