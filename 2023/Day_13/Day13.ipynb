{
 "cells": [
  {
   "cell_type": "code",
   "execution_count": 51,
   "metadata": {},
   "outputs": [],
   "source": [
    "#Boilerplate 1 \n",
    "import re \n",
    "s = []\n",
    "n = []\n",
    "with open('./input.txt', 'r') as file:\n",
    "    file_content = file.read().strip()  \n",
    "individual_strings = file_content.split('\\n\\n')\n",
    "#individual_strings = file_content.split('\\n')\n",
    "for i, individual_str in enumerate(individual_strings, 1):\n",
    "    word = [line for line in individual_str.split('\\n')]\n",
    "    s.append(word)\n",
    "for i, individual_str in enumerate(individual_strings, 1):\n",
    "    word2 = [[*line] for line in individual_str.split('\\n')] \n",
    "    n.append(word2)"
   ]
  },
  {
   "cell_type": "code",
   "execution_count": 74,
   "metadata": {},
   "outputs": [],
   "source": [
    "hsols = []\n",
    "for i in range (len(s)):\n",
    "    for j in range(1,len(s[i])):\n",
    "        c= 0\n",
    "        f= 0\n",
    "        while 0<=(j-c-1) and (j+c)<len(s[i]) :\n",
    "            if s[i][j-1-c] != s[i][j+c]:\n",
    "                f = 1\n",
    "            c+=1\n",
    "        if f ==0:\n",
    "            hsols.append((j*100))\n",
    "            break"
   ]
  },
  {
   "cell_type": "code",
   "execution_count": 75,
   "metadata": {},
   "outputs": [
    {
     "data": {
      "text/plain": [
       "58"
      ]
     },
     "execution_count": 75,
     "metadata": {},
     "output_type": "execute_result"
    }
   ],
   "source": [
    "len(hsols)"
   ]
  },
  {
   "cell_type": "code",
   "execution_count": 76,
   "metadata": {},
   "outputs": [],
   "source": [
    "vsols = []\n",
    "for i in range (len(n)):\n",
    "    for j in range(1,len(n[i][0])):\n",
    "        c= 0\n",
    "        f= 0\n",
    "        while 0<=(j-c-1) and (j+c)<len(n[i][0]) :\n",
    "            for k in range(0,len(n[i])):\n",
    "                \n",
    "                if n[i][k][j-1-c] != s[i][k][j+c]:\n",
    "                    f = 1\n",
    "            c+=1\n",
    "        if f ==0:\n",
    "            vsols.append(j)"
   ]
  },
  {
   "cell_type": "code",
   "execution_count": 82,
   "metadata": {},
   "outputs": [
    {
     "data": {
      "text/plain": [
       "42"
      ]
     },
     "execution_count": 82,
     "metadata": {},
     "output_type": "execute_result"
    }
   ],
   "source": [
    "len(vsols)"
   ]
  },
  {
   "cell_type": "code",
   "execution_count": 91,
   "metadata": {},
   "outputs": [
    {
     "data": {
      "text/plain": [
       "30842"
      ]
     },
     "execution_count": 91,
     "metadata": {},
     "output_type": "execute_result"
    }
   ],
   "source": [
    "sum(vsols)+sum(hsols)"
   ]
  },
  {
   "cell_type": "markdown",
   "metadata": {},
   "source": [
    "# Part 2"
   ]
  },
  {
   "cell_type": "code",
   "execution_count": 87,
   "metadata": {},
   "outputs": [],
   "source": [
    "hsols = []\n",
    "for i in range (len(n)):\n",
    "    for j in range(1,len(n[i])):\n",
    "        c= 0\n",
    "        f= 0\n",
    "        while 0<=(j-c-1) and (j+c)<len(n[i]) :\n",
    "            for k in range(0,len(n[i][0])):\n",
    "                \n",
    "                if n[i][j-1-c][k] != s[i][j+c][k]:\n",
    "                    f += 1\n",
    "            c+=1\n",
    "        if f ==1:\n",
    "            hsols.append((100*j))"
   ]
  },
  {
   "cell_type": "code",
   "execution_count": 88,
   "metadata": {},
   "outputs": [],
   "source": [
    "vsols = []\n",
    "for i in range (len(n)):\n",
    "    for j in range(1,len(n[i][0])):\n",
    "        c= 0\n",
    "        f= 0\n",
    "        while 0<=(j-c-1) and (j+c)<len(n[i][0]) :\n",
    "            for k in range(0,len(n[i])):\n",
    "                \n",
    "                if n[i][k][j-1-c] != s[i][k][j+c]:\n",
    "                    f += 1\n",
    "            c+=1\n",
    "        if f ==1:\n",
    "            vsols.append(j)"
   ]
  },
  {
   "cell_type": "code",
   "execution_count": 89,
   "metadata": {},
   "outputs": [
    {
     "data": {
      "text/plain": [
       "50"
      ]
     },
     "execution_count": 89,
     "metadata": {},
     "output_type": "execute_result"
    }
   ],
   "source": [
    "len(vsols)"
   ]
  },
  {
   "cell_type": "code",
   "execution_count": 90,
   "metadata": {},
   "outputs": [
    {
     "data": {
      "text/plain": [
       "50"
      ]
     },
     "execution_count": 90,
     "metadata": {},
     "output_type": "execute_result"
    }
   ],
   "source": [
    "len(hsols)"
   ]
  },
  {
   "cell_type": "code",
   "execution_count": null,
   "metadata": {},
   "outputs": [],
   "source": []
  }
 ],
 "metadata": {
  "kernelspec": {
   "display_name": "Python 3 (ipykernel)",
   "language": "python",
   "name": "python3"
  },
  "language_info": {
   "codemirror_mode": {
    "name": "ipython",
    "version": 3
   },
   "file_extension": ".py",
   "mimetype": "text/x-python",
   "name": "python",
   "nbconvert_exporter": "python",
   "pygments_lexer": "ipython3",
   "version": "3.11.5"
  }
 },
 "nbformat": 4,
 "nbformat_minor": 4
}
