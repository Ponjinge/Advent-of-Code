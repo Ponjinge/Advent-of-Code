{
 "cells": [
  {
   "cell_type": "code",
   "execution_count": null,
   "metadata": {},
   "outputs": [],
   "source": [
    "#Boilerplate 1 \n",
    "import re\n",
    "s = []\n",
    "\n",
    "with open('./input.txt', 'r') as file:\n",
    "    file_content = file.read().strip()  \n",
    "individual_strings = file_content.split('\\n\\n')\n",
    "\n",
    "for i, individual_str in enumerate(individual_strings, 1):\n",
    "    word = [int(num) for num in re.findall(r'\\d+', individual_str)]\n",
    "    s.append(word)"
   ]
  },
  {
   "cell_type": "code",
   "execution_count": null,
   "metadata": {},
   "outputs": [],
   "source": [
    "vs = []\n",
    "for i in range(len(s[0])):\n",
    "    v=int(s[0][i]) \n",
    "    for j in range(1, len(s)):\n",
    "        for m in range(0, len(s[j]),3):\n",
    "            if m<len(s[j]) :\n",
    "                if v>=s[j][m+1]:\n",
    "                    if v<= (s[j][m+1])+(s[j][m+2]):\n",
    "                        v = s[j][m] + (v -s[j][m+1])\n",
    "                        break\n",
    "    vs.append(v)\n",
    "min(vs)"
   ]
  },
  {
   "cell_type": "code",
   "execution_count": null,
   "metadata": {},
   "outputs": [],
   "source": [
    "vs = []\n",
    "#DONT RUN THIS\n",
    "#for i in range(0,len(s[0]), 2):\n",
    "for w in range(s[0][10], (s[0][10]+s[0][11])):\n",
    "    v = w\n",
    "    for j in range(1, len(s)):\n",
    "        for m in range(0, len(s[j]), 3):\n",
    "            if v >= int(s[j][m+1]) and v <= s[j][m+1] + s[j][m+2]:\n",
    "                v = s[j][m] + (v - s[j][m+1])\n",
    "                break\n",
    "    vs.append(v)\n",
    "\n",
    "min(vs)\n"
   ]
  },
  {
   "cell_type": "code",
   "execution_count": null,
   "metadata": {},
   "outputs": [],
   "source": [
    "min(vs)"
   ]
  },
  {
   "cell_type": "code",
   "execution_count": null,
   "metadata": {},
   "outputs": [],
   "source": [
    "import numpy as \n",
    "import pandas as pd\n",
    "df s[0]"
   ]
  },
  {
   "cell_type": "code",
   "execution_count": null,
   "metadata": {},
   "outputs": [],
   "source": [
    "vs = []\n",
    "ws = []\n",
    "for w in \n",
    "    \n",
    "    for j in range(len(s)-1, 0, -1):\n",
    "        for m in range(0, len(s[j]), 3):\n",
    "            if v >= int(s[j][m]) and  <= s[j][m] + s[j][m+2]:\n",
    "                v = s[j][m+1] + (v - s[j][m])\n",
    "                break\n",
    "        for n in range(0, len(s[j]), 3):\n",
    "            if v >= int(s[j][n]) and  <= s[j][n] + s[j][n+2]:\n",
    "                v = s[j][n+1] + (v - s[j][n])\n",
    "                break\n",
    "    vs.append(v)\n",
    "    ws.append(w)\n",
    "\n"
   ]
  },
  {
   "cell_type": "code",
   "execution_count": null,
   "metadata": {},
   "outputs": [],
   "source": [
    "c = []\n",
    "for j in range(len(ws)):\n",
    "    for i in range(0,len(s[0]),2):\n",
    "        if s[0][i]>=vs[j]: #>=(s[0][i]+s[0][i+1]):\n",
    "            c.append(ws[j])\n",
    "            print(i)\n",
    "            break\n",
    "        "
   ]
  },
  {
   "cell_type": "code",
   "execution_count": null,
   "metadata": {},
   "outputs": [],
   "source": [
    "s[0][6]\n"
   ]
  },
  {
   "cell_type": "code",
   "execution_count": null,
   "metadata": {},
   "outputs": [],
   "source": [
    "s"
   ]
  },
  {
   "cell_type": "code",
   "execution_count": null,
   "metadata": {},
   "outputs": [],
   "source": [
    "\n",
    "for i in range (1, len(s)):\n",
    "    for j in range(0,len(s[i]),3):\n",
    "        if s[i][j+1]<= num <=s[i][j+2]+s[i][j+1]:\n",
    "            print (f\" range {i}: {(j/3)+1}\")\n",
    "            "
   ]
  },
  {
   "cell_type": "code",
   "execution_count": null,
   "metadata": {},
   "outputs": [],
   "source": [
    "280123413 3244927"
   ]
  },
  {
   "cell_type": "code",
   "execution_count": null,
   "metadata": {},
   "outputs": [],
   "source": [
    "280123413+3244927"
   ]
  },
  {
   "cell_type": "code",
   "execution_count": null,
   "metadata": {},
   "outputs": [],
   "source": [
    "for i in range(0,len(s[6]),3):\n",
    "    for j in range(s[6][i],(s[6][i]+s[6][i+2])):\n",
    "        if 280123413<= j <=283368340:\n",
    "            print(i/3)\n",
    "\n",
    "\n"
   ]
  },
  {
   "cell_type": "code",
   "execution_count": null,
   "metadata": {},
   "outputs": [],
   "source": [
    "for i in range(1,len(s[0]),2):\n",
    "    s[0][i]=s[0][i]+s[0][i-1]\n",
    "for i in range(0,len(s[0]),2):\n",
    "    print((s[0][i], s[0][i+1]))"
   ]
  },
  {
   "cell_type": "code",
   "execution_count": null,
   "metadata": {},
   "outputs": [],
   "source": [
    "vs = []\n",
    "for i in range(len(s[0])): \n",
    "    v=int(s[0][i]) \n",
    "    for j in range(1, len(s)):\n",
    "        for m in range(0, len(s[j]),3):\n",
    "            if m<len(s[j]) :\n",
    "                if v>=s[j][m+1]:\n",
    "                    if v<= (s[j][m+1])+(s[j][m+2]):\n",
    "                        v = s[j][m] + (v -s[j][m+1])\n",
    "                        break\n",
    "    vs.append(v)\n",
    "min(vs)"
   ]
  },
  {
   "cell_type": "code",
   "execution_count": null,
   "metadata": {},
   "outputs": [],
   "source": [
    "with open('./input.txt', 'r') as file:\n",
    "    input = file.read()"
   ]
  },
  {
   "cell_type": "code",
   "execution_count": null,
   "metadata": {},
   "outputs": [],
   "source": [
    "from functools import reduce\n",
    "from pydantic import BaseModel"
   ]
  },
  {
   "cell_type": "code",
   "execution_count": 1,
   "metadata": {},
   "outputs": [
    {
     "name": "stdout",
     "output_type": "stream",
     "text": [
      "Day 05:\n"
     ]
    },
    {
     "ename": "TypeError",
     "evalue": "'type' object is not subscriptable",
     "output_type": "error",
     "traceback": [
      "\u001b[1;31m---------------------------------------------------------------------------\u001b[0m",
      "\u001b[1;31mTypeError\u001b[0m                                 Traceback (most recent call last)",
      "Cell \u001b[1;32mIn[1], line 6\u001b[0m\n\u001b[0;32m      3\u001b[0m \u001b[38;5;28mprint\u001b[39m(\u001b[38;5;124m\"\u001b[39m\u001b[38;5;124mDay 05:\u001b[39m\u001b[38;5;124m\"\u001b[39m)\n\u001b[0;32m      4\u001b[0m FILE \u001b[38;5;241m=\u001b[39m \u001b[38;5;124m\"\u001b[39m\u001b[38;5;124minput.txt\u001b[39m\u001b[38;5;124m\"\u001b[39m\n\u001b[1;32m----> 6\u001b[0m seed_ranges:\u001b[38;5;28mlist\u001b[39m[\u001b[38;5;28;43mtuple\u001b[39;49m\u001b[43m[\u001b[49m\u001b[38;5;28;43mint\u001b[39;49m\u001b[43m,\u001b[49m\u001b[43m \u001b[49m\u001b[38;5;28;43mint\u001b[39;49m\u001b[43m]\u001b[49m] \u001b[38;5;241m=\u001b[39m [] \u001b[38;5;66;03m# part 2\u001b[39;00m\n\u001b[0;32m      8\u001b[0m \u001b[38;5;66;03m# dict<(element 1, element 2): list[(dest, source, len)]>\u001b[39;00m\n\u001b[0;32m      9\u001b[0m element_map:\u001b[38;5;28mdict\u001b[39m[\u001b[38;5;28mtuple\u001b[39m[\u001b[38;5;28mint\u001b[39m, \u001b[38;5;28mint\u001b[39m], \u001b[38;5;28mlist\u001b[39m[\u001b[38;5;28mtuple\u001b[39m[\u001b[38;5;28mint\u001b[39m, \u001b[38;5;28mint\u001b[39m, \u001b[38;5;28mint\u001b[39m]]] \u001b[38;5;241m=\u001b[39m defaultdict(\u001b[38;5;28mlist\u001b[39m)\n",
      "\u001b[1;31mTypeError\u001b[0m: 'type' object is not subscriptable"
     ]
    }
   ],
   "source": [
    "from collections import defaultdict\n",
    "\n",
    "print(\"Day 05:\")\n",
    "FILE = \"input.txt\"\n",
    "\n",
    "seed_ranges:list[tuple[int, int]] = [] # part 2\n",
    "\n",
    "# dict<(element 1, element 2): list[(dest, source, len)]>\n",
    "element_map:dict[tuple[int, int], list[tuple[int, int, int]]] = defaultdict(list)\n",
    "ele_index = -1\n",
    "\n",
    "with open(FILE) as f:\n",
    "    for i, line in enumerate(f.read().splitlines()):\n",
    "        if i == 0:\n",
    "            nums_list = line.lstrip(\"seeds: \").split(\" \")\n",
    "            seeds = [int(n) for n in nums_list]\n",
    "            for i in range(len(nums_list)//2):\n",
    "                seed_ranges.append( (int(nums_list[i*2]), int(nums_list[i*2+1])) )\n",
    "            continue\n",
    "        if not line:\n",
    "            ele_index += 1\n",
    "            continue\n",
    "        if line.endswith(\"map:\"):\n",
    "            continue\n",
    "        dest, source, length = map(int, line.split(\" \"))\n",
    "        element_map[(ele_index, ele_index+1)].append((dest, source, length))\n",
    "\n",
    "for i in range(ele_index+1):\n",
    "    # part 2\n",
    "    checked = set()\n",
    "    for destg, sourceg, leng in element_map[(i, i+1)]:\n",
    "        diff = destg - sourceg\n",
    "        for j in range(len(seed_ranges)):\n",
    "            if j in checked: continue\n",
    "            start, len_s = seed_ranges[j]\n",
    "            if start >= sourceg and start+len_s <= sourceg+leng:\n",
    "                checked.add(j)\n",
    "                seed_ranges[j] = (diff+start, len_s)\n",
    "            elif start < sourceg and start+len_s <= sourceg+leng and start+len_s >= sourceg:\n",
    "                checked.add(j)\n",
    "                seed_ranges[j] = (diff+sourceg, len_s+start-sourceg)\n",
    "                seed_ranges.append( (start, sourceg-start) )\n",
    "            elif start >= sourceg and start+len_s > sourceg+leng and start <= sourceg+leng:\n",
    "                checked.add(j)\n",
    "                seed_ranges[j] = (diff+start, -start+sourceg+leng)\n",
    "                seed_ranges.append( (sourceg+leng, start+len_s-sourceg-leng) )\n",
    "            elif start < sourceg and start+len_s > sourceg+leng:\n",
    "                checked.add(j)\n",
    "                seed_ranges[j] = (diff+sourceg, -start-start+leng)\n",
    "                seed_ranges.append( (sourceg+leng, start+len_s-sourceg-leng) )\n",
    "                seed_ranges.append( (start, start-sourceg) )\n",
    "            if len(checked) == len(seed_ranges): break\n",
    "        # print(seed_ranges)\n",
    "        if len(checked) == len(seed_ranges): break\n",
    "    # print(\"\\n\\n\")\n",
    "\n",
    "min_location2 = min(seed_ranges, key=lambda v:v[0])\n",
    "\n",
    "# print(seed_ranges)\n",
    "# for k, v in element_map.items():\n",
    "#     print(k, v)\n",
    "\n",
    "print(\"Part 2:\", min_location2[0])"
   ]
  },
  {
   "cell_type": "code",
   "execution_count": null,
   "metadata": {},
   "outputs": [],
   "source": []
  }
 ],
 "metadata": {
  "kernelspec": {
   "display_name": "Python 3 (ipykernel)",
   "language": "python",
   "name": "python3"
  },
  "language_info": {
   "codemirror_mode": {
    "name": "ipython",
    "version": 3
   },
   "file_extension": ".py",
   "mimetype": "text/x-python",
   "name": "python",
   "nbconvert_exporter": "python",
   "pygments_lexer": "ipython3",
   "version": "3.8.3"
  }
 },
 "nbformat": 4,
 "nbformat_minor": 4
}
