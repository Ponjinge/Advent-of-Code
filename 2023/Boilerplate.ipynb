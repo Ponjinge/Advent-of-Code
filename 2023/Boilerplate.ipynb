{
 "cells": [
  {
   "cell_type": "code",
   "execution_count": null,
   "metadata": {},
   "outputs": [],
   "source": [
    "#Boilerplate 1 \n",
    "\n",
    "individuals = []\n",
    "\n",
    "with open('./input.txt', 'r') as file:\n",
    "    file_content = file.read().strip()  \n",
    "individual_strings = file_content.split('\\n\\n')\n",
    "for i, individual_str in enumerate(individual_strings, 1):\n",
    "    word = [[*line] for line in individual_str.split('\\n')]\n",
    "    individuals.append(word)"
   ]
  },
  {
   "cell_type": "code",
   "execution_count": null,
   "metadata": {},
   "outputs": [],
   "source": [
    "#Boilerplate 2 \n",
    "\n",
    "individuals = []\n",
    "\n",
    "with open('./input.txt', 'r') as file:\n",
    "    file_content = file.read().strip()  # Read the file content and remove leading/trailing whitespaces\n",
    "\n",
    "# Split the content based on empty lines\n",
    "individual_strings = file_content.split('\\n\\n')\n",
    "\n",
    "# Process each individual\n",
    "for i, individual_str in enumerate(individual_strings, 1):\n",
    "    # Convert lines to integers and add them to the individuals list\n",
    "    individual = [int(line) for line in individual_str.split('\\n')]\n",
    "    individuals.append(individual)\n",
    "    print(f\"Individual {i}: {individual}\")\n",
    "\n",
    "# Example: Print all individuals\n",
    "print(\"All Individuals:\")\n",
    "for i, individual in enumerate(individuals, 1):\n",
    "    print(f\"Individual {i}: {individual}\")"
   ]
  },
  {
   "cell_type": "code",
   "execution_count": null,
   "metadata": {},
   "outputs": [],
   "source": []
  },
  {
   "cell_type": "code",
   "execution_count": null,
   "metadata": {},
   "outputs": [],
   "source": []
  }
 ],
 "metadata": {
  "kernelspec": {
   "display_name": "Python 3 (ipykernel)",
   "language": "python",
   "name": "python3"
  },
  "language_info": {
   "codemirror_mode": {
    "name": "ipython",
    "version": 3
   },
   "file_extension": ".py",
   "mimetype": "text/x-python",
   "name": "python",
   "nbconvert_exporter": "python",
   "pygments_lexer": "ipython3",
   "version": "3.8.3"
  }
 },
 "nbformat": 4,
 "nbformat_minor": 4
}
