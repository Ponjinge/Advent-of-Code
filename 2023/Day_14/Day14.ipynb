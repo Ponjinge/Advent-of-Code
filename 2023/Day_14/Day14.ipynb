{
 "cells": [
  {
   "cell_type": "markdown",
   "metadata": {},
   "source": [
    "# Day 14 Part 2 "
   ]
  },
  {
   "cell_type": "code",
   "execution_count": 437,
   "metadata": {},
   "outputs": [],
   "source": [
    "\n",
    "import re \n",
    "s = []\n",
    "g = []\n",
    "with open('./input.txt', 'r') as file:\n",
    "    file_content = file.read().strip()  \n",
    "for i, line in enumerate(file_content,1):\n",
    "    word2 = line\n",
    "    \n",
    "    s.append(word2)\n",
    "    "
   ]
  },
  {
   "cell_type": "code",
   "execution_count": 438,
   "metadata": {},
   "outputs": [
    {
     "data": {
      "text/plain": [
       "10000"
      ]
     },
     "execution_count": 438,
     "metadata": {},
     "output_type": "execute_result"
    }
   ],
   "source": [
    "for i in range(len(s)-1,-1,-1):\n",
    "    if '\\n' in s[i]:\n",
    "        s.pop(i)\n",
    "    \n",
    "len(s)"
   ]
  },
  {
   "cell_type": "code",
   "execution_count": 439,
   "metadata": {},
   "outputs": [],
   "source": [
    "from functools import lru_cache "
   ]
  },
  {
   "cell_type": "code",
   "execution_count": 440,
   "metadata": {},
   "outputs": [],
   "source": [
    "n=tuple(s)\n",
    "\n",
    "x=tuple(s)\n",
    "y=tuple(s)\n",
    "w=tuple(s)\n",
    "del s"
   ]
  },
  {
   "cell_type": "code",
   "execution_count": 441,
   "metadata": {},
   "outputs": [],
   "source": [
    "@lru_cache(maxsize = None) \n",
    "def cycle(n):\n",
    "    s=list(n)\n",
    "    for k in range (0,100):\n",
    "        for i in range(100,10000,100):\n",
    "            for j in range(100):\n",
    "                if s[i+j-100] in '.' and s[i+j] in 'O':\n",
    "                    s[i+j-100]='O'\n",
    "                    s[i+j]='.'\n",
    "                    \n",
    "    for k in range (0,100):\n",
    "        for i in range(0, 10000,100):\n",
    "            for j in range(1, 100):\n",
    "                if s[i+j-1] == '.' and s[i+j] == 'O':\n",
    "                    s[i+j-1]='O'\n",
    "                    s[i+j]='.'\n",
    "    \n",
    "    \n",
    "    for k in range (0,100):\n",
    "        for i in range(9800,-1,-100):\n",
    "            for j in range(100):\n",
    "                if s[i+j+100] == '.' and s[i+j] == 'O':\n",
    "                    s[i+j+100]='O'\n",
    "                    s[i+j]='.'\n",
    "    \n",
    "    \n",
    "    for k in range (0,100):\n",
    "        for i in range(0,10000,100):\n",
    "            for j in range(100-2,-1,-1):\n",
    "                if s[i+1+j] == '.' and s[i+j] == 'O':\n",
    "                    s[i+1+j]='O'\n",
    "                    s[i+j]='.'\n",
    "    del n\n",
    "    return tuple(s)"
   ]
  },
  {
   "cell_type": "code",
   "execution_count": 442,
   "metadata": {},
   "outputs": [],
   "source": [
    "cycle_res = []\n"
   ]
  },
  {
   "cell_type": "code",
   "execution_count": 443,
   "metadata": {},
   "outputs": [],
   "source": [
    "q=0\n",
    "while w not in cycle_res:\n",
    "    cycle_res.append(w)\n",
    "    q +=1\n",
    "    w = cycle(w)"
   ]
  },
  {
   "cell_type": "code",
   "execution_count": 444,
   "metadata": {},
   "outputs": [
    {
     "name": "stdout",
     "output_type": "stream",
     "text": [
      "191\n"
     ]
    }
   ],
   "source": [
    "for i in range (len(cycle_res)):\n",
    "            if w == cycle_res[i]:\n",
    "                p=i\n",
    "print(q)"
   ]
  },
  {
   "cell_type": "code",
   "execution_count": 445,
   "metadata": {},
   "outputs": [
    {
     "data": {
      "text/plain": [
       "11"
      ]
     },
     "execution_count": 445,
     "metadata": {},
     "output_type": "execute_result"
    }
   ],
   "source": [
    "modu=(1000000000 - p)%(q-p)\n",
    "modu"
   ]
  },
  {
   "cell_type": "code",
   "execution_count": 446,
   "metadata": {},
   "outputs": [],
   "source": [
    "for i in range (0,p):\n",
    "    x = cycle(x)"
   ]
  },
  {
   "cell_type": "code",
   "execution_count": 447,
   "metadata": {},
   "outputs": [],
   "source": [
    "for i in range (0,q):\n",
    "    y = cycle(y)"
   ]
  },
  {
   "cell_type": "code",
   "execution_count": 448,
   "metadata": {},
   "outputs": [
    {
     "data": {
      "text/plain": [
       "True"
      ]
     },
     "execution_count": 448,
     "metadata": {},
     "output_type": "execute_result"
    }
   ],
   "source": [
    "x==y"
   ]
  },
  {
   "cell_type": "code",
   "execution_count": 449,
   "metadata": {},
   "outputs": [],
   "source": [
    "for i in range (0,p+modu):\n",
    "    n = cycle(n)"
   ]
  },
  {
   "cell_type": "code",
   "execution_count": 450,
   "metadata": {},
   "outputs": [],
   "source": [
    "c = 1\n",
    "sumo = 0\n",
    "for i in range(9900,-1,-100):\n",
    "    for j in range(100):\n",
    "        if n[i+j] == 'O':\n",
    "            #print(i+j, c)\n",
    "            sumo = sumo + c\n",
    "    c+=1"
   ]
  },
  {
   "cell_type": "code",
   "execution_count": 451,
   "metadata": {},
   "outputs": [
    {
     "data": {
      "text/plain": [
       "103861"
      ]
     },
     "execution_count": 451,
     "metadata": {},
     "output_type": "execute_result"
    }
   ],
   "source": [
    "sumo"
   ]
  },
  {
   "cell_type": "code",
   "execution_count": null,
   "metadata": {},
   "outputs": [],
   "source": []
  }
 ],
 "metadata": {
  "kernelspec": {
   "display_name": "Python 3 (ipykernel)",
   "language": "python",
   "name": "python3"
  },
  "language_info": {
   "codemirror_mode": {
    "name": "ipython",
    "version": 3
   },
   "file_extension": ".py",
   "mimetype": "text/x-python",
   "name": "python",
   "nbconvert_exporter": "python",
   "pygments_lexer": "ipython3",
   "version": "3.11.5"
  }
 },
 "nbformat": 4,
 "nbformat_minor": 4
}
