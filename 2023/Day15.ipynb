{
 "cells": [
  {
   "cell_type": "code",
   "execution_count": 18,
   "metadata": {},
   "outputs": [],
   "source": [
    "# Template\n",
    "import re\n",
    "s = []\n",
    "\n",
    "with open('./input.txt', 'r') as file:\n",
    "    file_content = file.read().strip()  \n",
    "individual_strings = file_content.split('\\n')\n",
    "\n",
    "for i, individual_str in enumerate(individual_strings, 1):\n",
    "    word = [[*line] for line in re.split(\",\", individual_str)]\n",
    "    s.append(word)"
   ]
  },
  {
   "cell_type": "code",
   "execution_count": 22,
   "metadata": {},
   "outputs": [],
   "source": [
    "codes = []\n",
    "for i in range (len(s[0])):\n",
    "    adder= 0 \n",
    "    for j in range(len(s[0][i])): \n",
    "        adder = ((ord(s[0][i][j])+adder)*17)%256\n",
    "    codes.append(adder)"
   ]
  },
  {
   "cell_type": "code",
   "execution_count": 23,
   "metadata": {},
   "outputs": [
    {
     "data": {
      "text/plain": [
       "515210"
      ]
     },
     "execution_count": 23,
     "metadata": {},
     "output_type": "execute_result"
    }
   ],
   "source": [
    "sum(codes)"
   ]
  },
  {
   "cell_type": "markdown",
   "metadata": {},
   "source": [
    "# Part 2"
   ]
  },
  {
   "cell_type": "code",
   "execution_count": 37,
   "metadata": {},
   "outputs": [],
   "source": [
    "# Separate by line and spaces and turn into integer\n",
    "import re\n",
    "s = []\n",
    "\n",
    "with open('./input.txt', 'r') as file:\n",
    "    file_content = file.read().strip()  \n",
    "individual_strings = file_content.split('\\n')\n",
    "\n",
    "for i, individual_str in enumerate(individual_strings, 1):\n",
    "    word = [[*line] for line in re.split(\",\", individual_str)]\n",
    "    s.append(word)"
   ]
  },
  {
   "cell_type": "code",
   "execution_count": 35,
   "metadata": {},
   "outputs": [],
   "source": [
    "# Get Strings of letters\n",
    "import re\n",
    "l = []\n",
    "\n",
    "with open('./input.txt', 'r') as file:\n",
    "    for line in file:\n",
    "        letters = re.findall(r'[a-zA-Z]+', line)\n",
    "        l.append(letters)\n",
    "       "
   ]
  },
  {
   "cell_type": "code",
   "execution_count": 36,
   "metadata": {},
   "outputs": [
    {
     "data": {
      "text/plain": [
       "1980"
      ]
     },
     "execution_count": 36,
     "metadata": {},
     "output_type": "execute_result"
    }
   ],
   "source": [
    "len(o[0])"
   ]
  },
  {
   "cell_type": "code",
   "execution_count": 32,
   "metadata": {},
   "outputs": [
    {
     "data": {
      "text/plain": [
       "4000"
      ]
     },
     "execution_count": 32,
     "metadata": {},
     "output_type": "execute_result"
    }
   ],
   "source": [
    "len(l[0])"
   ]
  },
  {
   "cell_type": "code",
   "execution_count": 58,
   "metadata": {},
   "outputs": [],
   "source": [
    "codes2 = []\n",
    "box = [[] for _ in range(256)]\n",
    "\n",
    "for i in range (len(s[0])):\n",
    "    adder= 0 \n",
    "    for j in range(len(s[0][i])): \n",
    "        if '-' in s[0][i][j]:\n",
    "            if l[0][i]in box[adder]:\n",
    "                #print(box[adder], l[0][i])\n",
    "                indx = box[adder].index(l[0][i])\n",
    "                box[adder].pop(indx)\n",
    "                box[adder].pop(indx)\n",
    "                #print(box[adder])\n",
    "            break\n",
    "        elif '=' in s[0][i][j]:\n",
    "            if l[0][i]in box[adder]:\n",
    "                #print(box[adder], l[0][i], s[0][i][j+1])\n",
    "                indx = box[adder].index(l[0][i])\n",
    "                box[adder][indx+1]= s[0][i][j+1]\n",
    "                #print(box[adder])\n",
    "            else:\n",
    "                box[adder].append(l[0][i])\n",
    "                box[adder].append(s[0][i][j+1])\n",
    "            break\n",
    "        else:\n",
    "            adder = ((ord(s[0][i][j])+adder)*17)%256\n",
    "    codes2.append(adder)"
   ]
  },
  {
   "cell_type": "code",
   "execution_count": 56,
   "metadata": {},
   "outputs": [],
   "source": [
    "sumb =0\n",
    "for i in range (len(box)):\n",
    "    if len(box[i])>0:\n",
    "        boxn=i+1\n",
    "        for j in range(0,len(box[i]),2):\n",
    "            sumb = sumb + boxn*((j//2)+1)*int(box[i][j+1])"
   ]
  },
  {
   "cell_type": "code",
   "execution_count": 57,
   "metadata": {},
   "outputs": [
    {
     "data": {
      "text/plain": [
       "246762"
      ]
     },
     "execution_count": 57,
     "metadata": {},
     "output_type": "execute_result"
    }
   ],
   "source": [
    "sumb"
   ]
  },
  {
   "cell_type": "code",
   "execution_count": null,
   "metadata": {},
   "outputs": [],
   "source": []
  }
 ],
 "metadata": {
  "kernelspec": {
   "display_name": "Python 3 (ipykernel)",
   "language": "python",
   "name": "python3"
  },
  "language_info": {
   "codemirror_mode": {
    "name": "ipython",
    "version": 3
   },
   "file_extension": ".py",
   "mimetype": "text/x-python",
   "name": "python",
   "nbconvert_exporter": "python",
   "pygments_lexer": "ipython3",
   "version": "3.11.5"
  }
 },
 "nbformat": 4,
 "nbformat_minor": 4
}
