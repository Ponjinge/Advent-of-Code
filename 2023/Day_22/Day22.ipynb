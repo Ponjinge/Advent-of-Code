{
 "cells": [
  {
   "cell_type": "code",
   "execution_count": 25,
   "id": "3761c683",
   "metadata": {},
   "outputs": [],
   "source": [
    "# Get Positive INT\n",
    "import re\n",
    "s = []\n",
    "\n",
    "with open('./input.txt', 'r') as file:\n",
    "    file_content = file.read().strip()  \n",
    "individual_strings = file_content.split('\\n')\n",
    "\n",
    "for i, individual_str in enumerate(individual_strings, 1):\n",
    "    word = [int(num) for num in re.findall(r'\\d+', individual_str)]\n",
    "    s.append(word)"
   ]
  },
  {
   "cell_type": "code",
   "execution_count": 26,
   "id": "92b58295",
   "metadata": {},
   "outputs": [
    {
     "name": "stdout",
     "output_type": "stream",
     "text": [
      "298\n"
     ]
    }
   ],
   "source": [
    "max_z= 0\n",
    "for i in range(len(s)):\n",
    "    if s[i][5]>max_z:\n",
    "        max_z = s[i][5]\n",
    "print(max_z)"
   ]
  },
  {
   "cell_type": "code",
   "execution_count": 27,
   "id": "03801180",
   "metadata": {},
   "outputs": [
    {
     "data": {
      "text/plain": [
       "1283"
      ]
     },
     "execution_count": 27,
     "metadata": {},
     "output_type": "execute_result"
    }
   ],
   "source": [
    "len(s)"
   ]
  },
  {
   "cell_type": "code",
   "execution_count": 28,
   "id": "d31ec986",
   "metadata": {},
   "outputs": [],
   "source": [
    "def fall(s):\n",
    "    falldown = 1 #Check at least once to see if anything is falling down \n",
    "    while falldown >0 : #Until there is one pass without any movement\n",
    "        falldown = 0 # Init with no movement\n",
    "        \n",
    "        #Look at heights to 300\n",
    "        for z in range (2,300,1): \n",
    "            #print(f\"Level {z}\")\n",
    "            # For each element in s\n",
    "            for k in range(0, len(s)): \n",
    "                \n",
    "                # If this element starts at the observed height \n",
    "                if s[k][2]==z:\n",
    "                    #print(f\"{k} is on this level\")\n",
    "                    #print(f'{s[k]} curr coords')\n",
    "                    supported = 0\n",
    "                    \n",
    "                    \n",
    "                    # For each element in s \n",
    "                    for u in range (len(s)):\n",
    "                        # If there is another block beneath it\n",
    "                        if  s[u][5] == z-1:\n",
    "                            #print(u,k)\n",
    "                           \n",
    "                            \n",
    "                            # If that block does not support the current block at all\n",
    "                            if (s[u][0]<s[k][0] and s[u][3]<s[k][0]) or (s[u][0]>s[k][3] and s[u][3]>s[k][3]) or (s[u][1]<s[k][1] and s[u][4]<s[k][1]) or (s[u][1]>s[k][4] and s[u][4]>s[k][4]):\n",
    "                                useless = 1\n",
    "                            else :\n",
    "                                supported = 1\n",
    "                            \n",
    "                    # If there is no block under supporting, we fall down a level\n",
    "                    if supported == 0:\n",
    "                        s[k][2]-=1\n",
    "                        s[k][5]-=1\n",
    "                        falldown+=1\n",
    "                        #print(f'{k} has fallen down, it was floating')\n",
    "                        #print(f'{s[k]} new coords')\n",
    "    return s"
   ]
  },
  {
   "cell_type": "code",
   "execution_count": null,
   "id": "80e87a8e",
   "metadata": {},
   "outputs": [],
   "source": [
    "fall(s)"
   ]
  },
  {
   "cell_type": "code",
   "execution_count": 30,
   "id": "53b77786",
   "metadata": {},
   "outputs": [],
   "source": [
    "def is_fall(s):\n",
    "    falldown = 1 #Check at least once to see if anything is falling down \n",
    "    while falldown >0 : #Until there is one pass without any movement\n",
    "        falldown = 0 # Init with no movement\n",
    "        \n",
    "        #Look at heights to 300\n",
    "        for z in range (2,300,1): \n",
    "            #print(f\"Level {z}\")\n",
    "            # For each element in s\n",
    "            for k in range(0, len(s)): \n",
    "                \n",
    "                # If this element starts at the observed height \n",
    "                if s[k][2]==z:\n",
    "                    #print(f\"{k} is on this level\")\n",
    "                    #print(f'{s[k]} curr coords')\n",
    "                    supported = 0\n",
    "                    \n",
    "                    \n",
    "                    # For each element in s \n",
    "                    for u in range (len(s)):\n",
    "                        # If there is another block beneath it\n",
    "                        if  s[u][5] == z-1:\n",
    "                            #print(u,k)\n",
    "                           \n",
    "                            \n",
    "                            # If that block does not support the current block at all\n",
    "                            if (s[u][0]<s[k][0] and s[u][3]<s[k][0]) or (s[u][0]>s[k][3] and s[u][3]>s[k][3]) or (s[u][1]<s[k][1] and s[u][4]<s[k][1]) or (s[u][1]>s[k][4] and s[u][4]>s[k][4]):\n",
    "                                useless = 1\n",
    "                            else :\n",
    "                                supported = 1\n",
    "                            \n",
    "                    # If there is no block under supporting, we fall down a level\n",
    "                    if supported == 0:\n",
    "                        return True\n",
    "    return False"
   ]
  },
  {
   "cell_type": "code",
   "execution_count": 31,
   "id": "d80c5057",
   "metadata": {},
   "outputs": [
    {
     "data": {
      "text/plain": [
       "False"
      ]
     },
     "execution_count": 31,
     "metadata": {},
     "output_type": "execute_result"
    }
   ],
   "source": [
    "is_fall(s)"
   ]
  },
  {
   "cell_type": "code",
   "execution_count": 32,
   "id": "6cb03f4e",
   "metadata": {},
   "outputs": [
    {
     "data": {
      "text/plain": [
       "1283"
      ]
     },
     "execution_count": 32,
     "metadata": {},
     "output_type": "execute_result"
    }
   ],
   "source": [
    "len(s)"
   ]
  },
  {
   "cell_type": "code",
   "execution_count": 33,
   "id": "62d82fe1",
   "metadata": {},
   "outputs": [],
   "source": [
    "# Temporary pop function \n",
    "def tempop(l, i):\n",
    "    return(l[:i] + l[i+1 :])"
   ]
  },
  {
   "cell_type": "code",
   "execution_count": 35,
   "id": "9909cd56",
   "metadata": {},
   "outputs": [
    {
     "name": "stdout",
     "output_type": "stream",
     "text": [
      "424\n"
     ]
    }
   ],
   "source": [
    "# Count the number of pieces that can be removed without the stack falling \n",
    "\n",
    "c=0\n",
    "for i in range (len(s)):\n",
    "    if is_fall(tempop(s,i))==False:\n",
    "        c+=1\n",
    "print(c)"
   ]
  },
  {
   "cell_type": "markdown",
   "id": "3f4e84b1",
   "metadata": {},
   "source": [
    "424 "
   ]
  },
  {
   "cell_type": "markdown",
   "id": "b0a4db39",
   "metadata": {},
   "source": [
    "## Part 2 "
   ]
  },
  {
   "cell_type": "code",
   "execution_count": 34,
   "id": "cfa15aa5",
   "metadata": {},
   "outputs": [
    {
     "name": "stdout",
     "output_type": "stream",
     "text": [
      "55483\n"
     ]
    }
   ],
   "source": [
    "# Brute force, check all cases where blocks fall and count the number of differences \n",
    "\n",
    "c=0\n",
    "for i in range (len(s)):\n",
    "    g = copy.deepcopy(s)\n",
    "    d = copy.deepcopy(s)\n",
    "    if is_fall(tempop(s,i))==True:\n",
    "        sublist_fall = fall(tempop(g,i))\n",
    "        sublist = tempop(d,i)\n",
    "        for j in range(len(sublist)):\n",
    "            if sublist[j] != sublist_fall[j]:\n",
    "                c+=1\n",
    "print(c)"
   ]
  },
  {
   "cell_type": "markdown",
   "id": "54b0abd4",
   "metadata": {},
   "source": [
    "55483"
   ]
  }
 ],
 "metadata": {
  "kernelspec": {
   "display_name": "Python 3 (ipykernel)",
   "language": "python",
   "name": "python3"
  },
  "language_info": {
   "codemirror_mode": {
    "name": "ipython",
    "version": 3
   },
   "file_extension": ".py",
   "mimetype": "text/x-python",
   "name": "python",
   "nbconvert_exporter": "python",
   "pygments_lexer": "ipython3",
   "version": "3.11.5"
  }
 },
 "nbformat": 4,
 "nbformat_minor": 5
}
