{
 "cells": [
  {
   "cell_type": "code",
   "execution_count": 315,
   "id": "43d9f380",
   "metadata": {},
   "outputs": [],
   "source": [
    "# Get Positive INT\n",
    "import re\n",
    "n = []\n",
    "\n",
    "with open('./input.txt', 'r') as file:\n",
    "    file_content = file.read().strip()  \n",
    "individual_strings = file_content.split('\\n')\n",
    "\n",
    "for i, individual_str in enumerate(individual_strings, 1):\n",
    "    nums = [int(num) for num in re.findall(r'\\d+', individual_str)]\n",
    "    n.append(nums)"
   ]
  },
  {
   "cell_type": "code",
   "execution_count": 316,
   "id": "870ae75c",
   "metadata": {},
   "outputs": [],
   "source": [
    "# Get Strings of letters\n",
    "import re\n",
    "cond = []\n",
    "with open('./input.txt', 'r') as file:\n",
    "     file_content = file.read().strip()  \n",
    "individual_strings = file_content.split('\\n')\n",
    "\n",
    "for i, line in enumerate(individual_strings, 1):\n",
    "        letters = re.findall(r'[a-zA-Z]+', line)\n",
    "        cond.append(letters)"
   ]
  },
  {
   "cell_type": "code",
   "execution_count": 317,
   "id": "51ab50ae",
   "metadata": {},
   "outputs": [],
   "source": [
    "for i in range (len(n)-1,-1,-1):\n",
    "    if len(n[i])==0:\n",
    "        num = n[i+1:]\n",
    "        ncond = n[:i]\n",
    "        cond_name = []\n",
    "        cond_vars = []\n",
    "        cond_none = []\n",
    "        for j in range (i):\n",
    "           \n",
    "            cond_name.append(cond[j][0])\n",
    "            cond_vars.append(cond[j][1:-1])\n",
    "            cond_none.append(cond[j][-1])\n",
    "        "
   ]
  },
  {
   "cell_type": "code",
   "execution_count": 318,
   "id": "6158cf3f",
   "metadata": {},
   "outputs": [],
   "source": [
    "with open('input.txt', 'r') as file:\n",
    "    lines = file.readlines()\n",
    "\n",
    "cond_eq = [[char for char in line if char in ('>', '<')] for line in lines]"
   ]
  },
  {
   "cell_type": "code",
   "execution_count": 319,
   "id": "ffcd16db",
   "metadata": {},
   "outputs": [],
   "source": [
    "def check(num, name):\n",
    "    i=0\n",
    "    while name != cond_name[i]:\n",
    "        i+=1\n",
    "    \n",
    "    for k in range(0,len(cond_vars[i])-1,2):\n",
    "        if cond_vars[i][k]=='x':\n",
    "            j=0\n",
    "        if cond_vars[i][k]=='m':\n",
    "            j=1\n",
    "        if cond_vars[i][k]=='a':\n",
    "            j=2\n",
    "        if cond_vars[i][k]=='s':\n",
    "            j=3\n",
    "            \n",
    "            \n",
    "        if cond_eq[i][k//2]=='>':\n",
    "            if num[j]>ncond[i][k//2]:\n",
    "                if cond_vars[i][k+1]== 'A':\n",
    "                    accepted.append(num)\n",
    "                    return ('accepted')\n",
    "                elif cond_vars[i][k+1]== 'R':\n",
    "                    rejected.append(num)\n",
    "                    return('rejected')\n",
    "                else:\n",
    "                    check(num, cond_vars[i][k+1])\n",
    "                    return('next step')          \n",
    "        if cond_eq[i][k//2]=='<':\n",
    "            if num[j]<ncond[i][k//2]:\n",
    "                if cond_vars[i][k+1]== 'A':\n",
    "                    accepted.append(num)\n",
    "                    return ('accepted')\n",
    "                elif cond_vars[i][k+1]== 'R':\n",
    "                    rejected.append(num)\n",
    "                    return('rejected')\n",
    "                else:\n",
    "                    check(num, cond_vars[i][k+1])\n",
    "                    return('next step')           \n",
    "                            \n",
    "    if cond_none[i]== 'A':\n",
    "        accepted.append(num)\n",
    "        return ('accepted')\n",
    "    elif cond_none[i]== 'R':\n",
    "        rejected.append(num)\n",
    "        return('rejected')\n",
    "    else:\n",
    "        check(num, cond_none[i])\n",
    "        return('next step')"
   ]
  },
  {
   "cell_type": "code",
   "execution_count": 320,
   "id": "7a2b78ca",
   "metadata": {},
   "outputs": [],
   "source": [
    "accepted = []\n",
    "rejected = []\n",
    "\n",
    "for i in range(len(num)):\n",
    "    check(num[i],'in')"
   ]
  },
  {
   "cell_type": "code",
   "execution_count": 321,
   "id": "9d2dccbb",
   "metadata": {},
   "outputs": [
    {
     "data": {
      "text/plain": [
       "115"
      ]
     },
     "execution_count": 321,
     "metadata": {},
     "output_type": "execute_result"
    }
   ],
   "source": [
    "len(accepted)"
   ]
  },
  {
   "cell_type": "code",
   "execution_count": 322,
   "id": "267405c2",
   "metadata": {},
   "outputs": [
    {
     "data": {
      "text/plain": [
       "85"
      ]
     },
     "execution_count": 322,
     "metadata": {},
     "output_type": "execute_result"
    }
   ],
   "source": [
    "len(rejected)"
   ]
  },
  {
   "cell_type": "code",
   "execution_count": 323,
   "id": "93981dc3",
   "metadata": {},
   "outputs": [
    {
     "data": {
      "text/plain": [
       "200"
      ]
     },
     "execution_count": 323,
     "metadata": {},
     "output_type": "execute_result"
    }
   ],
   "source": [
    "len(num)"
   ]
  },
  {
   "cell_type": "code",
   "execution_count": 324,
   "id": "c01620a4",
   "metadata": {},
   "outputs": [],
   "source": [
    "sumo = 0\n",
    "for k in range(len(accepted)):\n",
    "    for q in range(len(accepted[k])):\n",
    "        sumo = sumo + int(accepted[k][q])"
   ]
  },
  {
   "cell_type": "code",
   "execution_count": 325,
   "id": "c7e7b89b",
   "metadata": {},
   "outputs": [
    {
     "data": {
      "text/plain": [
       "425811"
      ]
     },
     "execution_count": 325,
     "metadata": {},
     "output_type": "execute_result"
    }
   ],
   "source": [
    "sumo"
   ]
  },
  {
   "cell_type": "markdown",
   "id": "f4a99e12",
   "metadata": {},
   "source": [
    "## Part 2"
   ]
  },
  {
   "cell_type": "code",
   "execution_count": 332,
   "id": "564a9b74",
   "metadata": {},
   "outputs": [],
   "source": [
    "import copy\n",
    "def check(num,name):\n",
    "    \n",
    "    i=0\n",
    "    while name != cond_name[i]:\n",
    "        i+=1\n",
    "    #print(name,cond_name[i])\n",
    "    #works\n",
    "    \n",
    "    for k in range(0,len(cond_vars[i]),2):\n",
    "        if cond_vars[i][k]=='x':\n",
    "            j=0\n",
    "        if cond_vars[i][k]=='m':\n",
    "            j=1\n",
    "        if cond_vars[i][k]=='a':\n",
    "            j=2\n",
    "        if cond_vars[i][k]=='s':\n",
    "            j=3\n",
    "        #print(cond_vars[i][k], j)\n",
    "        #works\n",
    "        #print(cond_name[i])    \n",
    "        if cond_eq[i][k//2]=='>':\n",
    "            \n",
    "            num2= num[:]\n",
    "            \n",
    "            \n",
    "            if num[j][1]>ncond[i][k//2] and num[j][0]<=ncond[i][k//2]:\n",
    "                \n",
    "                num2[j]=[ncond[i][k//2]+1,num2[j][1]]\n",
    "                num[j][1]=ncond[i][k//2]\n",
    "                newnum = num2[:]\n",
    "                if cond_vars[i][k+1]== 'A':\n",
    "                    #print(newnum)\n",
    "                    accepted.append(copy.deepcopy(newnum))\n",
    "                    \n",
    "                elif cond_vars[i][k+1]== 'R':\n",
    "                    rejected.append(copy.deepcopy(newnum))\n",
    "                \n",
    "                else:\n",
    "                    \n",
    "                    check(copy.deepcopy(newnum), cond_vars[i][k+1])\n",
    "                    \n",
    "            else:\n",
    "                if num[j][1]>ncond[i][k//2] and num[j][0]>ncond[i][k//2] :\n",
    "                    newnum = num[:]\n",
    "                    print(\"everything validates\", newnum, cond_name[i])\n",
    "                    if cond_vars[i][k+1]== 'A':\n",
    "                        #print(newnum)\n",
    "                        accepted.append(copy.deepcopy(newnum))\n",
    "                        \n",
    "                    elif cond_vars[i][k+1]== 'R':\n",
    "                        rejected.append(copy.deepcopy(newnum))\n",
    "                \n",
    "                    else:\n",
    "                        check(copy.deepcopy(newnum), cond_vars[i][k+1])\n",
    "                \n",
    "                    \n",
    "                    \n",
    "               \n",
    "            \n",
    "        if cond_eq[i][k//2]=='<':\n",
    "            \n",
    "            num2= num[:]\n",
    "            \n",
    "            \n",
    "            if num[j][1]>=ncond[i][k//2] and num[j][0]<ncond[i][k//2]:\n",
    "                \n",
    "                num2[j]=[num2[j][0],ncond[i][k//2]-1]\n",
    "                num[j][0]=ncond[i][k//2]\n",
    "                newnum = num2[:]\n",
    "                if cond_vars[i][k+1]== 'A':\n",
    "                    accepted.append(copy.deepcopy(newnum))\n",
    "                    #print(num2)\n",
    "                elif cond_vars[i][k+1]== 'R':\n",
    "                    rejected.append(copy.deepcopy(newnum))\n",
    "                \n",
    "                else:\n",
    "                    check(copy.deepcopy(newnum), cond_vars[i][k+1])\n",
    "                    \n",
    "            else:\n",
    "                if num[j][1]<ncond[i][k//2] and num[j][0]<ncond[i][k//2] :\n",
    "                    newnum = num[:]\n",
    "                    print(\"everything validates\", newnum, cond_name[i])\n",
    "                    if cond_vars[i][k+1]== 'A':\n",
    "                        accepted.append(copy.deepcopy(newnum))\n",
    "                        #print(newnum)\n",
    "                    elif cond_vars[i][k+1]== 'R':\n",
    "                        rejected.append(copy.deepcopy(newnum))\n",
    "                \n",
    "                    else:\n",
    "                        check(copy.deepcopy(newnum), cond_vars[i][k+1])\n",
    "                \n",
    "                    \n",
    "                    \n",
    "               \n",
    "            \n",
    "    if cond_none[i]== 'A':\n",
    "        accepted.append(copy.deepcopy(num))\n",
    "        #print(num)\n",
    "    elif cond_none[i]== 'R':\n",
    "        rejected.append(copy.deepcopy(num))\n",
    "        \n",
    "    else:\n",
    "        check(copy.deepcopy(num), cond_none[i])\n",
    "    "
   ]
  },
  {
   "cell_type": "code",
   "execution_count": 333,
   "id": "34d6f26a",
   "metadata": {},
   "outputs": [],
   "source": [
    "ranges = [[1,4000],[1,4000],[1,4000],[1,4000]]"
   ]
  },
  {
   "cell_type": "code",
   "execution_count": 334,
   "id": "1c65e030",
   "metadata": {},
   "outputs": [],
   "source": [
    "accepted = []\n",
    "rejected = []\n",
    "check(ranges,'in')"
   ]
  },
  {
   "cell_type": "code",
   "execution_count": 337,
   "id": "def4b046",
   "metadata": {},
   "outputs": [],
   "source": [
    "comb = []\n",
    "sumo = 0\n",
    "for i in range(len(accepted)):\n",
    "    gap = 1 \n",
    "    for j in range(len(accepted[i])):\n",
    "        gap= gap * ((accepted[i][j][1]-accepted[i][j][0])+1)\n",
    "    comb.append(gap)\n",
    "    sumo = sumo+ comb[i]"
   ]
  },
  {
   "cell_type": "code",
   "execution_count": 338,
   "id": "30db26d7",
   "metadata": {},
   "outputs": [
    {
     "data": {
      "text/plain": [
       "131796824371749"
      ]
     },
     "execution_count": 338,
     "metadata": {},
     "output_type": "execute_result"
    }
   ],
   "source": [
    "sumo"
   ]
  },
  {
   "cell_type": "markdown",
   "id": "3ee65edd",
   "metadata": {},
   "source": [
    "167409079868000"
   ]
  },
  {
   "cell_type": "code",
   "execution_count": null,
   "id": "e706c785",
   "metadata": {},
   "outputs": [],
   "source": []
  }
 ],
 "metadata": {
  "kernelspec": {
   "display_name": "Python 3 (ipykernel)",
   "language": "python",
   "name": "python3"
  },
  "language_info": {
   "codemirror_mode": {
    "name": "ipython",
    "version": 3
   },
   "file_extension": ".py",
   "mimetype": "text/x-python",
   "name": "python",
   "nbconvert_exporter": "python",
   "pygments_lexer": "ipython3",
   "version": "3.11.5"
  }
 },
 "nbformat": 4,
 "nbformat_minor": 5
}
