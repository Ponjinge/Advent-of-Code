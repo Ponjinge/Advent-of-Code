{
 "cells": [
  {
   "cell_type": "code",
   "execution_count": 235,
   "id": "d05269de",
   "metadata": {},
   "outputs": [],
   "source": [
    "#Boilerplate 1 \n",
    "import re \n",
    "s = []\n",
    "\n",
    "with open('./test.txt', 'r') as file:\n",
    "    file_content = file.read().strip()  \n",
    "individual_strings = file_content.split('\\n')\n",
    "for i, line in enumerate(individual_strings, 1):\n",
    "    word = [*line]\n",
    "    \n",
    "    s.append(word)\n",
    "    "
   ]
  },
  {
   "cell_type": "code",
   "execution_count": 236,
   "id": "ec1cd622",
   "metadata": {},
   "outputs": [],
   "source": [
    "# Function to move around the grid\n",
    "# It has to lap back round to itself once it reaches an edge for part 2\n",
    "\n",
    "def dir(way,i,j):\n",
    "    if way =='U':\n",
    "        if i>0:\n",
    "            return((i-1,j))\n",
    "        else:\n",
    "            return((len(s)-1,j))\n",
    "        \n",
    "    if way =='D':\n",
    "        if i < len(s)-1:\n",
    "            return((i+1,j))\n",
    "        else:\n",
    "            return((0,j))\n",
    "        \n",
    "    if way =='L':\n",
    "        if j>0:\n",
    "            return((i,j-1))\n",
    "        else:\n",
    "            return((i, len(s[i])-1))\n",
    "        \n",
    "    if way =='R':\n",
    "        if j<len(s[i])-1:\n",
    "            return((i,j+1))\n",
    "        else:\n",
    "            return((i,0))"
   ]
  },
  {
   "cell_type": "code",
   "execution_count": 237,
   "id": "b62caefe",
   "metadata": {},
   "outputs": [],
   "source": [
    "def elf_steps(s, pos, steps):\n",
    "    \n",
    "    s[pos[0]][pos[1]]= 'O'\n",
    "    ol = [pos]\n",
    "    \n",
    "    cl = []\n",
    "    cool = [ [[]for _ in range(len(s))] for _ in range(len(s)) ]\n",
    "    cool[pos[0]][pos[1]] = 0\n",
    "    while ol:\n",
    "        active = ol[0]\n",
    "        cl.append(active)\n",
    "        ol.pop(0) \n",
    "    \n",
    "        i = active[0]\n",
    "        j= active[1]\n",
    "    \n",
    "    \n",
    "        # For each possible direction around that space\n",
    "    \n",
    "        directions = ['U','D','L','R']\n",
    "    \n",
    "    \n",
    "        for way in  directions :\n",
    "            \n",
    "            #print(way, i, j)\n",
    "            #print (s[dir(way,i,j)[0]][dir(way,i,j)[1]])\n",
    "            \n",
    "               \n",
    "                if dir(way,i,j) in ol:\n",
    "                    if cool[dir(way,i,j)[0]][dir(way,i,j)[1]] >= cool[i][j] + 1:\n",
    "                        cool[dir(way,i,j)[0]][dir(way,i,j)[1]] = 1 + cool[i][j]\n",
    "                        \n",
    "                        if cool[dir(way,i,j)[0]][dir(way,i,j)[1]] % 2 == 0:\n",
    "                            s[dir(way,i,j)[0]][dir(way,i,j)[1]] = 'O'\n",
    "            \n",
    "                elif dir(way,i,j) in cl:\n",
    "                     if cool[dir(way,i,j)[0]][dir(way,i,j)[1]] >= cool[i][j] + 1:\n",
    "                        cool[dir(way,i,j)[0]][dir(way,i,j)[1]] = 1 + cool[i][j]\n",
    "                        ol.append(dir(way,i,j))\n",
    "                        \n",
    "                        if cool[dir(way,i,j)[0]][dir(way,i,j)[1]] % 2 == 0:\n",
    "                            s[dir(way,i,j)[0]][dir(way,i,j)[1]] = 'O'\n",
    "                \n",
    "                \n",
    "                elif 0 <= dir(way,i,j)[0] < len(s) and 0 <= dir(way,i,j)[1] < len(s[0]):\n",
    "                    \n",
    "                    if cool[i][j]+1 <= steps and s[dir(way,i,j)[0]][dir(way,i,j)[1]] != '#':\n",
    "                        cool[dir(way,i,j)[0]][dir(way,i,j)[1]] = 1 + cool[i][j]\n",
    "                        ol.append(dir(way,i,j))\n",
    "                        \n",
    "                        if cool[dir(way,i,j)[0]][dir(way,i,j)[1]] % 2 == 0:\n",
    "                            s[dir(way,i,j)[0]][dir(way,i,j)[1]] = 'O'\n",
    "                \n",
    "                \n",
    "    return s"
   ]
  },
  {
   "cell_type": "code",
   "execution_count": 238,
   "id": "a40ad8a4",
   "metadata": {},
   "outputs": [
    {
     "data": {
      "text/plain": [
       "(5, 5)"
      ]
     },
     "execution_count": 238,
     "metadata": {},
     "output_type": "execute_result"
    }
   ],
   "source": [
    "for i in range (len(s)):\n",
    "    for j in range(len(s[i])):\n",
    "        if s[i][j]== 'S':\n",
    "            pos = (i,j)\n",
    "pos"
   ]
  },
  {
   "cell_type": "code",
   "execution_count": 239,
   "id": "8f5ea5ea",
   "metadata": {},
   "outputs": [
    {
     "data": {
      "text/plain": [
       "42"
      ]
     },
     "execution_count": 239,
     "metadata": {},
     "output_type": "execute_result"
    }
   ],
   "source": [
    "elf_steps(s, pos, 1001)\n",
    "c = 0 \n",
    "for i in range(len(s)):\n",
    "    for j in range(len(s[i])):\n",
    "        if s[i][j] == 'O':\n",
    "            c+=1\n",
    "c"
   ]
  },
  {
   "cell_type": "code",
   "execution_count": 240,
   "id": "18c1d5cd",
   "metadata": {},
   "outputs": [
    {
     "data": {
      "text/plain": [
       "[['O', 'O', '.', 'O', '.', 'O', 'O', '.', 'O', '.', 'O'],\n",
       " ['.', 'O', 'O', '.', 'O', '#', '#', '#', '.', '#', 'O'],\n",
       " ['O', '#', '#', '#', '.', '#', '#', '.', 'O', '#', '.'],\n",
       " ['.', 'O', '#', 'O', '#', 'O', '.', 'O', '#', 'O', 'O'],\n",
       " ['O', '.', 'O', '.', '#', '.', '#', '.', 'O', '.', '.'],\n",
       " ['.', '#', '#', 'O', '.', 'O', '#', '#', '#', '#', 'O'],\n",
       " ['O', '#', '#', '.', 'O', '#', 'O', '.', 'O', '#', '.'],\n",
       " ['.', 'O', '.', 'O', '.', 'O', '.', '#', '#', '.', 'O'],\n",
       " ['O', '#', '#', '.', '#', '.', '#', '#', '#', '#', '.'],\n",
       " ['.', '#', '#', 'O', '.', '#', '#', '.', '#', '#', 'O'],\n",
       " ['O', '.', 'O', '.', 'O', '.', 'O', 'O', '.', 'O', '.']]"
      ]
     },
     "execution_count": 240,
     "metadata": {},
     "output_type": "execute_result"
    }
   ],
   "source": [
    "s"
   ]
  },
  {
   "cell_type": "markdown",
   "id": "7d535da9",
   "metadata": {},
   "source": [
    "3598"
   ]
  },
  {
   "cell_type": "markdown",
   "id": "c16dac8f",
   "metadata": {},
   "source": [
    "## Part 2"
   ]
  },
  {
   "cell_type": "code",
   "execution_count": 242,
   "id": "2630a064",
   "metadata": {},
   "outputs": [],
   "source": [
    "num = (50-5)/len(s)"
   ]
  },
  {
   "cell_type": "code",
   "execution_count": 256,
   "id": "937cd448",
   "metadata": {},
   "outputs": [],
   "source": [
    "sumo = 9\n",
    "prev = 8\n",
    "for i in range(int(num)-1):\n",
    "    sumo +=  prev + 8 \n",
    "    prev += 8"
   ]
  },
  {
   "cell_type": "code",
   "execution_count": 257,
   "id": "07cd932a",
   "metadata": {},
   "outputs": [
    {
     "data": {
      "text/plain": [
       "81"
      ]
     },
     "execution_count": 257,
     "metadata": {},
     "output_type": "execute_result"
    }
   ],
   "source": [
    "sumo"
   ]
  },
  {
   "cell_type": "code",
   "execution_count": 258,
   "id": "b5c7ae8c",
   "metadata": {},
   "outputs": [
    {
     "data": {
      "text/plain": [
       "3402"
      ]
     },
     "execution_count": 258,
     "metadata": {},
     "output_type": "execute_result"
    }
   ],
   "source": [
    "42*81"
   ]
  },
  {
   "cell_type": "code",
   "execution_count": null,
   "id": "30b78885",
   "metadata": {},
   "outputs": [],
   "source": []
  }
 ],
 "metadata": {
  "kernelspec": {
   "display_name": "Python 3 (ipykernel)",
   "language": "python",
   "name": "python3"
  },
  "language_info": {
   "codemirror_mode": {
    "name": "ipython",
    "version": 3
   },
   "file_extension": ".py",
   "mimetype": "text/x-python",
   "name": "python",
   "nbconvert_exporter": "python",
   "pygments_lexer": "ipython3",
   "version": "3.11.5"
  }
 },
 "nbformat": 4,
 "nbformat_minor": 5
}
