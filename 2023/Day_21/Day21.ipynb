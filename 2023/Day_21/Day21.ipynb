{
 "cells": [
  {
   "cell_type": "code",
   "execution_count": 145,
   "id": "aa43ce20",
   "metadata": {},
   "outputs": [],
   "source": [
    "f =1 # Use test data or input data"
   ]
  },
  {
   "cell_type": "code",
   "execution_count": 146,
   "id": "3137f43e",
   "metadata": {},
   "outputs": [],
   "source": [
    "if f==0:\n",
    "    FILE = './test.txt'\n",
    "else: \n",
    "    FILE = './input.txt'"
   ]
  },
  {
   "cell_type": "code",
   "execution_count": 147,
   "id": "d05269de",
   "metadata": {},
   "outputs": [],
   "source": [
    "#Boilerplate 1 \n",
    "import re \n",
    "s = []\n",
    "\n",
    "with open(FILE, 'r') as file:\n",
    "    file_content = file.read().strip()  \n",
    "individual_strings = file_content.split('\\n')\n",
    "for i, line in enumerate(individual_strings, 1):\n",
    "    word = [*line]\n",
    "    \n",
    "    s.append(word)\n",
    "    "
   ]
  },
  {
   "cell_type": "code",
   "execution_count": 148,
   "id": "6b579968",
   "metadata": {},
   "outputs": [],
   "source": [
    "def dir(way,i,j, k=1):\n",
    "    if way =='U':\n",
    "        return((i-k,j)) \n",
    "    if way =='D':\n",
    "        return((i+k,j))\n",
    "    if way =='L':\n",
    "        return((i,j-k))\n",
    "    if way =='R':\n",
    "        return((i,j+k))"
   ]
  },
  {
   "cell_type": "code",
   "execution_count": 149,
   "id": "b62caefe",
   "metadata": {},
   "outputs": [],
   "source": [
    "def elf_steps(s, pos, steps):\n",
    "    c = 0 \n",
    "    c+=1\n",
    "    ol = [pos]\n",
    "    \n",
    "    cl = []\n",
    "    cool = [ [[]for _ in range(len(s))] for _ in range(len(s)) ]\n",
    "    cool[pos[0]][pos[1]] = 0\n",
    "    while ol:\n",
    "        active = ol[0]\n",
    "        cl.append(active)\n",
    "        ol.pop(0) \n",
    "    \n",
    "        i = active[0]\n",
    "        j= active[1]\n",
    "    \n",
    "    \n",
    "        # For each possible direction around that space\n",
    "    \n",
    "        directions = ['U','D','L','R']\n",
    "    \n",
    "    \n",
    "        for way in  directions :    \n",
    "                if dir(way,i,j) in ol:\n",
    "                    if cool[dir(way,i,j)[0]][dir(way,i,j)[1]] >= cool[i][j] + 1:\n",
    "                        cool[dir(way,i,j)[0]][dir(way,i,j)[1]] = 1 + cool[i][j]\n",
    "                        \n",
    "                elif dir(way,i,j) in cl:\n",
    "                     if cool[dir(way,i,j)[0]][dir(way,i,j)[1]] >= cool[i][j] + 1:\n",
    "                        cool[dir(way,i,j)[0]][dir(way,i,j)[1]] = 1 + cool[i][j]\n",
    "                        ol.append(dir(way,i,j))\n",
    "                \n",
    "                elif 0 <= dir(way,i,j)[0] < len(s) and 0 <= dir(way,i,j)[1] < len(s[0]):\n",
    "                    \n",
    "                    if cool[i][j]+1 <= steps and s[dir(way,i,j)[0]][dir(way,i,j)[1]] != '#':\n",
    "                        cool[dir(way,i,j)[0]][dir(way,i,j)[1]] = 1 + cool[i][j]\n",
    "                        ol.append(dir(way,i,j))\n",
    "                        \n",
    "                        if cool[dir(way,i,j)[0]][dir(way,i,j)[1]] % 2 == 0:\n",
    "                             c+=1\n",
    "    return (c)"
   ]
  },
  {
   "cell_type": "code",
   "execution_count": 150,
   "id": "a40ad8a4",
   "metadata": {},
   "outputs": [
    {
     "data": {
      "text/plain": [
       "(65, 65)"
      ]
     },
     "execution_count": 150,
     "metadata": {},
     "output_type": "execute_result"
    }
   ],
   "source": [
    "for i in range (len(s)):\n",
    "    for j in range(len(s[i])):\n",
    "        if s[i][j]== 'S':\n",
    "            pos = (i,j)\n",
    "pos"
   ]
  },
  {
   "cell_type": "code",
   "execution_count": 151,
   "id": "8f5ea5ea",
   "metadata": {},
   "outputs": [
    {
     "data": {
      "text/plain": [
       "3598"
      ]
     },
     "execution_count": 151,
     "metadata": {},
     "output_type": "execute_result"
    }
   ],
   "source": [
    "elf_steps(s, pos, 64)\n"
   ]
  },
  {
   "cell_type": "markdown",
   "id": "7d535da9",
   "metadata": {},
   "source": [
    "3598"
   ]
  },
  {
   "cell_type": "markdown",
   "id": "c16dac8f",
   "metadata": {},
   "source": [
    "## Part 2"
   ]
  },
  {
   "cell_type": "code",
   "execution_count": 152,
   "id": "30b78885",
   "metadata": {},
   "outputs": [
    {
     "data": {
      "text/plain": [
       "0"
      ]
     },
     "execution_count": 152,
     "metadata": {},
     "output_type": "execute_result"
    }
   ],
   "source": [
    "# We need to travel 26501365 steps \n",
    "(26501365-65)%len(s)\n",
    "\n",
    "# (number of steps - what we need to get to an edge) / the length of our data set in a single direction"
   ]
  },
  {
   "cell_type": "markdown",
   "id": "3f8e2fb6",
   "metadata": {},
   "source": [
    "We can observe that we get a division with no remainder, meaning that in each direction we will cover exactly: "
   ]
  },
  {
   "cell_type": "code",
   "execution_count": 153,
   "id": "05e75dc1",
   "metadata": {},
   "outputs": [],
   "source": [
    "grids_traversed = (26501365-65)//len(s) "
   ]
  },
  {
   "cell_type": "code",
   "execution_count": 154,
   "id": "2db2ab69",
   "metadata": {},
   "outputs": [
    {
     "data": {
      "text/plain": [
       "202300"
      ]
     },
     "execution_count": 154,
     "metadata": {},
     "output_type": "execute_result"
    }
   ],
   "source": [
    "grids_traversed"
   ]
  },
  {
   "cell_type": "code",
   "execution_count": 155,
   "id": "5749db8e",
   "metadata": {},
   "outputs": [
    {
     "name": "stdout",
     "output_type": "stream",
     "text": [
      "131 131\n"
     ]
    }
   ],
   "source": [
    "print(len(s), len(s[0]))"
   ]
  },
  {
   "cell_type": "code",
   "execution_count": 156,
   "id": "ddd788cf",
   "metadata": {},
   "outputs": [
    {
     "data": {
      "text/plain": [
       "(65, 65)"
      ]
     },
     "execution_count": 156,
     "metadata": {},
     "output_type": "execute_result"
    }
   ],
   "source": [
    "pos"
   ]
  },
  {
   "cell_type": "markdown",
   "id": "e7a65bd5",
   "metadata": {},
   "source": [
    "So we completely fill the first square : 7367 spaces\n"
   ]
  },
  {
   "cell_type": "code",
   "execution_count": 157,
   "id": "eda98ddd",
   "metadata": {},
   "outputs": [
    {
     "name": "stdout",
     "output_type": "stream",
     "text": [
      ". . . .\n"
     ]
    }
   ],
   "source": [
    "print(s[0][65], s[130][65], s[65][0], s[65][130]) \n",
    "#All dots so the first square on the adjacent grid will be a circle\n"
   ]
  },
  {
   "cell_type": "code",
   "execution_count": 162,
   "id": "01ab9a89",
   "metadata": {},
   "outputs": [],
   "source": [
    "positions = [(0,0),(0,130),(130,0),(130,130), (0,65),(130,65),(65,0),(65,130)]"
   ]
  },
  {
   "cell_type": "code",
   "execution_count": 163,
   "id": "eaf83304",
   "metadata": {},
   "outputs": [
    {
     "name": "stdout",
     "output_type": "stream",
     "text": [
      "7367\n",
      "7367\n",
      "7367\n",
      "7367\n",
      "7329\n",
      "7329\n",
      "7329\n",
      "7329\n"
     ]
    }
   ],
   "source": [
    "for position in positions:\n",
    "    print(elf_steps(s, position, 1000))"
   ]
  },
  {
   "cell_type": "markdown",
   "id": "723dc1ce",
   "metadata": {},
   "source": [
    "This means that we have 2 diff full fills , 7367 and 7329\n"
   ]
  },
  {
   "cell_type": "code",
   "execution_count": 166,
   "id": "cfcea120",
   "metadata": {},
   "outputs": [],
   "source": [
    "#Our pattern will resemble: \n",
    " \n",
    "#   O\n",
    "#  OXO\n",
    "# OXOXO... N times \n",
    "#  OXO\n",
    "#   O"
   ]
  },
  {
   "cell_type": "markdown",
   "id": "870ab4a3",
   "metadata": {},
   "source": [
    "Now for the corner pieces, we need it so that we don't go past a distance of 65 from the corner"
   ]
  },
  {
   "cell_type": "code",
   "execution_count": 170,
   "id": "361fa0ae",
   "metadata": {},
   "outputs": [
    {
     "name": "stdout",
     "output_type": "stream",
     "text": [
      "949\n",
      "941\n",
      "951\n",
      "928\n"
     ]
    }
   ],
   "source": [
    "positions = [(0,0),(0,130),(130,0),(130,130)]\n",
    "for position in positions:\n",
    "    print(elf_steps(s, position, 65))"
   ]
  },
  {
   "cell_type": "code",
   "execution_count": 174,
   "id": "9ddca20a",
   "metadata": {},
   "outputs": [
    {
     "name": "stdout",
     "output_type": "stream",
     "text": [
      "5541\n",
      "5526\n",
      "5530\n",
      "5537\n",
      "3740\n",
      "3729\n",
      "3746\n",
      "3728\n"
     ]
    }
   ],
   "source": [
    "positions = [(0,65),(130,65),(65,0),(65,130)]\n",
    "for position in positions:\n",
    "    print(elf_steps(s, position, 130))\n",
    "\n",
    "positions = [(0,65),(130,65),(65,0),(65,130)]\n",
    "for position in positions:\n",
    "    print(elf_steps(s, position, ))\n"
   ]
  },
  {
   "cell_type": "code",
   "execution_count": 183,
   "id": "c8fbda09",
   "metadata": {},
   "outputs": [
    {
     "data": {
      "text/plain": [
       "6416"
      ]
     },
     "execution_count": 183,
     "metadata": {},
     "output_type": "execute_result"
    }
   ],
   "source": [
    "7367- 949\n",
    "7367-941\n",
    "7367-928\n",
    "7367-951\n"
   ]
  },
  {
   "cell_type": "code",
   "execution_count": null,
   "id": "8ef8f424",
   "metadata": {},
   "outputs": [],
   "source": [
    "# If we are representing a grid we will get \n",
    "    928,  5526,  951,  \n",
    "928, 6412, 7367, 6443, 951\n",
    "5537, 7367, 7329, 7367, 5530\n",
    "941, 6454, 7367, 6416, 949\n",
    "    941 , 5541,  949\n",
    "\n",
    "\n",
    "\n"
   ]
  },
  {
   "cell_type": "code",
   "execution_count": 173,
   "id": "6551a07e",
   "metadata": {},
   "outputs": [
    {
     "data": {
      "text/plain": [
       "762490834"
      ]
     },
     "execution_count": 173,
     "metadata": {},
     "output_type": "execute_result"
    }
   ],
   "source": [
    "(949 + 941 + 928 + 951)*202300 + 5530 + 5537 + 5541 + 5526 "
   ]
  },
  {
   "cell_type": "code",
   "execution_count": 179,
   "id": "cfbdc384",
   "metadata": {},
   "outputs": [
    {
     "data": {
      "text/plain": [
       "601441063166538"
      ]
     },
     "execution_count": 179,
     "metadata": {},
     "output_type": "execute_result"
    }
   ],
   "source": []
  },
  {
   "cell_type": "markdown",
   "id": "ff7ae1f4",
   "metadata": {},
   "source": [
    "Spaces =   601441063166538"
   ]
  },
  {
   "cell_type": "code",
   "execution_count": null,
   "id": "18218789",
   "metadata": {},
   "outputs": [],
   "source": []
  }
 ],
 "metadata": {
  "kernelspec": {
   "display_name": "Python 3 (ipykernel)",
   "language": "python",
   "name": "python3"
  },
  "language_info": {
   "codemirror_mode": {
    "name": "ipython",
    "version": 3
   },
   "file_extension": ".py",
   "mimetype": "text/x-python",
   "name": "python",
   "nbconvert_exporter": "python",
   "pygments_lexer": "ipython3",
   "version": "3.11.5"
  }
 },
 "nbformat": 4,
 "nbformat_minor": 5
}
