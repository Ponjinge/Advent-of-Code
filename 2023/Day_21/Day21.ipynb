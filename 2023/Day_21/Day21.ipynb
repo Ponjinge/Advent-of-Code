{
 "cells": [
  {
   "cell_type": "code",
   "execution_count": 152,
   "id": "d05269de",
   "metadata": {},
   "outputs": [],
   "source": [
    "#Boilerplate 1 \n",
    "import re \n",
    "s = []\n",
    "\n",
    "with open('./input.txt', 'r') as file:\n",
    "    file_content = file.read().strip()  \n",
    "individual_strings = file_content.split('\\n')\n",
    "for i, line in enumerate(individual_strings, 1):\n",
    "    word = [*line]\n",
    "    \n",
    "    s.append(word)\n",
    "    "
   ]
  },
  {
   "cell_type": "code",
   "execution_count": 153,
   "id": "ec1cd622",
   "metadata": {},
   "outputs": [],
   "source": [
    "# Function to move around the grid\n",
    "\n",
    "def dir(way,i,j):\n",
    "    if way =='U':\n",
    "        return((i-1,j)) \n",
    "    if way =='D':\n",
    "        return((i+1,j))\n",
    "    if way =='L':\n",
    "        return((i,j-1))      \n",
    "    if way =='R':\n",
    "        return((i,j+1))"
   ]
  },
  {
   "cell_type": "code",
   "execution_count": 154,
   "id": "6d20e295",
   "metadata": {},
   "outputs": [],
   "source": [
    "def elf_steps(s, pos, steps):\n",
    "    \n",
    "    s[pos[0]][pos[1]]= 'O'\n",
    "    ol = [pos]\n",
    "    \n",
    "    cl = []\n",
    "    cool = [ [[]for _ in range(len(s))] for _ in range(len(s)) ]\n",
    "    cool[pos[0]][pos[1]] = 0\n",
    "    while ol:\n",
    "        active = ol[0]\n",
    "        cl.append(active)\n",
    "        ol.pop(0) \n",
    "    \n",
    "        i = active[0]\n",
    "        j= active[1]\n",
    "    \n",
    "    \n",
    "        # For each possible direction around that space\n",
    "    \n",
    "        directions = ['U','D','L','R']\n",
    "    \n",
    "    \n",
    "        for way in  directions :\n",
    "            \n",
    "            #print(way, i, j)\n",
    "            #print (s[dir(way,i,j)[0]][dir(way,i,j)[1]])\n",
    "            \n",
    "               \n",
    "                if dir(way,i,j) in ol:\n",
    "                    if cool[dir(way,i,j)[0]][dir(way,i,j)[1]] >= cool[i][j] + 1:\n",
    "                        cool[dir(way,i,j)[0]][dir(way,i,j)[1]] = 1 + cool[i][j]\n",
    "                        \n",
    "                        if cool[dir(way,i,j)[0]][dir(way,i,j)[1]] % 2 == 0:\n",
    "                            s[dir(way,i,j)[0]][dir(way,i,j)[1]] = 'O'\n",
    "            \n",
    "                elif dir(way,i,j) in cl:\n",
    "                     if cool[dir(way,i,j)[0]][dir(way,i,j)[1]] >= cool[i][j] + 1:\n",
    "                        cool[dir(way,i,j)[0]][dir(way,i,j)[1]] = 1 + cool[i][j]\n",
    "                        ol.append(dir(way,i,j))\n",
    "                        \n",
    "                        if cool[dir(way,i,j)[0]][dir(way,i,j)[1]] % 2 == 0:\n",
    "                            s[dir(way,i,j)[0]][dir(way,i,j)[1]] = 'O'\n",
    "                \n",
    "                \n",
    "                elif 0 <= dir(way,i,j)[0] < len(s) and 0 <= dir(way,i,j)[1] < len(s[0]):\n",
    "                    \n",
    "                    if cool[i][j]+1 <= steps and s[dir(way,i,j)[0]][dir(way,i,j)[1]] != '#':\n",
    "                        cool[dir(way,i,j)[0]][dir(way,i,j)[1]] = 1 + cool[i][j]\n",
    "                        ol.append(dir(way,i,j))\n",
    "                        \n",
    "                        if cool[dir(way,i,j)[0]][dir(way,i,j)[1]] % 2 == 0:\n",
    "                            s[dir(way,i,j)[0]][dir(way,i,j)[1]] = 'O'\n",
    "                \n",
    "                \n",
    "    return s"
   ]
  },
  {
   "cell_type": "code",
   "execution_count": 155,
   "id": "a40ad8a4",
   "metadata": {},
   "outputs": [
    {
     "data": {
      "text/plain": [
       "'S'"
      ]
     },
     "execution_count": 155,
     "metadata": {},
     "output_type": "execute_result"
    }
   ],
   "source": [
    "s[65][65]"
   ]
  },
  {
   "cell_type": "code",
   "execution_count": 158,
   "id": "8f5ea5ea",
   "metadata": {},
   "outputs": [
    {
     "data": {
      "text/plain": [
       "3598"
      ]
     },
     "execution_count": 158,
     "metadata": {},
     "output_type": "execute_result"
    }
   ],
   "source": [
    "elf_steps(s, (65,65), 64)\n",
    "c = 0 \n",
    "for i in range(len(s)):\n",
    "    for j in range(len(s[i])):\n",
    "        if s[i][j] == 'O':\n",
    "            c+=1\n",
    "c"
   ]
  },
  {
   "cell_type": "markdown",
   "id": "aa39e741",
   "metadata": {},
   "source": [
    "3598"
   ]
  },
  {
   "cell_type": "markdown",
   "id": "6add8944",
   "metadata": {},
   "source": [
    "## Part 2"
   ]
  },
  {
   "cell_type": "code",
   "execution_count": null,
   "id": "737dd319",
   "metadata": {},
   "outputs": [],
   "source": []
  }
 ],
 "metadata": {
  "kernelspec": {
   "display_name": "Python 3 (ipykernel)",
   "language": "python",
   "name": "python3"
  },
  "language_info": {
   "codemirror_mode": {
    "name": "ipython",
    "version": 3
   },
   "file_extension": ".py",
   "mimetype": "text/x-python",
   "name": "python",
   "nbconvert_exporter": "python",
   "pygments_lexer": "ipython3",
   "version": "3.11.5"
  }
 },
 "nbformat": 4,
 "nbformat_minor": 5
}
