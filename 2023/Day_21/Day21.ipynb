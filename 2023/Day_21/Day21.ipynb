{
 "cells": [
  {
   "cell_type": "code",
   "execution_count": 98,
   "id": "d05269de",
   "metadata": {},
   "outputs": [],
   "source": [
    "#Boilerplate 1 \n",
    "import re \n",
    "s = []\n",
    "\n",
    "with open('./test.txt', 'r') as file:\n",
    "    file_content = file.read().strip()  \n",
    "individual_strings = file_content.split('\\n')\n",
    "for i, line in enumerate(individual_strings, 1):\n",
    "    word = [*line]\n",
    "    \n",
    "    s.append(word)\n",
    "    "
   ]
  },
  {
   "cell_type": "code",
   "execution_count": 99,
   "id": "ec1cd622",
   "metadata": {},
   "outputs": [],
   "source": [
    "def dir(way,i,j):\n",
    "    if way =='U':\n",
    "        if i>0:\n",
    "            return((i-1,j)) \n",
    "    if way =='D':\n",
    "        if i < len(s)-1:\n",
    "            return((i+1,j))\n",
    "    if way =='L':\n",
    "        if j>0:\n",
    "            return((i,j-1))\n",
    "        \n",
    "    if way =='R':\n",
    "        if j<len(s[i])-1:\n",
    "            return((i,j+1))"
   ]
  },
  {
   "cell_type": "code",
   "execution_count": 100,
   "id": "2a318fce",
   "metadata": {
    "scrolled": true
   },
   "outputs": [],
   "source": [
    "#from functools import lru_cache\n",
    "#@lru_cache(maxsize = None) \n",
    "def moving(i,j,c,sett):\n",
    "    if c<64: \n",
    "        for k in ['U','D','L','R']:\n",
    "            if (s[dir(k,i,j)[0]][dir(k,i,j)[1]] == '.' or s[dir(k,i,j)[0]][dir(k,i,j)[1]]=='S'):\n",
    "                ccop = c\n",
    "                ccop+=1\n",
    "                sett = moving(dir(k,i,j)[0], dir(k,i,j,)[1],ccop,sett)\n",
    "                \n",
    "                \n",
    "    else:            \n",
    "        sa = set(sett)\n",
    "        sa.add((i,j))            \n",
    "        sett = tuple(sa)\n",
    "        \n",
    "    return sett"
   ]
  },
  {
   "cell_type": "code",
   "execution_count": 101,
   "id": "8a2eb7d7",
   "metadata": {},
   "outputs": [
    {
     "data": {
      "text/plain": [
       "0"
      ]
     },
     "execution_count": 101,
     "metadata": {},
     "output_type": "execute_result"
    }
   ],
   "source": [
    "anw=0\n",
    "for i in range(len(s)):\n",
    "    for j in range(len(s[i])):\n",
    "        if s[i][j]=='O':\n",
    "            anw+=1\n",
    "anw"
   ]
  },
  {
   "cell_type": "code",
   "execution_count": 102,
   "id": "a40ad8a4",
   "metadata": {},
   "outputs": [
    {
     "data": {
      "text/plain": [
       "'S'"
      ]
     },
     "execution_count": 102,
     "metadata": {},
     "output_type": "execute_result"
    }
   ],
   "source": [
    "s[5][5]"
   ]
  },
  {
   "cell_type": "code",
   "execution_count": 103,
   "id": "0d57c8fb",
   "metadata": {},
   "outputs": [],
   "source": [
    "def moving(i,j,c,sett):\n",
    "    \n",
    "    if c % 2 == 0:\n",
    "        s[i][j] = 'O'\n",
    "\n",
    "    \n",
    "    if c<6: \n",
    "       \n",
    "                    \n",
    "        for k in ['U','D','L','R']:\n",
    "            if (s[dir(k,i,j)[0]][dir(k,i,j)[1]] == '.' or s[dir(k,i,j)[0]][dir(k,i,j)[1]]=='S'):\n",
    "                if c % 2 == 0:\n",
    "                    s[dir(k,i,j)[0]][dir(k,i,j)[1]] = 'O'\n",
    "                ccop = c\n",
    "                ccop+=1\n",
    "                sett = moving(dir(k,i,j)[0], dir(k,i,j,)[1],ccop,sett)\n",
    "               \n",
    "                \n",
    "    else:            \n",
    "        sa = set(sett)\n",
    "        sa.add((i,j))            \n",
    "        sett = tuple(sa)\n",
    "        \n",
    "    return sett"
   ]
  },
  {
   "cell_type": "code",
   "execution_count": 104,
   "id": "7e6d352e",
   "metadata": {},
   "outputs": [
    {
     "data": {
      "text/plain": [
       "6"
      ]
     },
     "execution_count": 104,
     "metadata": {},
     "output_type": "execute_result"
    }
   ],
   "source": [
    "c=0\n",
    "ert = []\n",
    "sap = set()\n",
    "sett=tuple(sap)\n",
    "solution = moving(5,5,0,sett)\n",
    "len(solution)"
   ]
  },
  {
   "cell_type": "code",
   "execution_count": 105,
   "id": "1bc95024",
   "metadata": {},
   "outputs": [
    {
     "data": {
      "text/plain": [
       "[['.', '.', '.', '.', '.', '.', '.', '.', '.', '.', '.'],\n",
       " ['.', '.', '.', '.', '.', '#', '#', '#', '.', '#', '.'],\n",
       " ['.', '#', '#', '#', '.', '#', '#', 'O', 'O', '#', '.'],\n",
       " ['.', '.', '#', '.', '#', 'O', 'O', 'O', '#', '.', '.'],\n",
       " ['.', '.', '.', '.', '#', 'O', '#', 'O', 'O', '.', '.'],\n",
       " ['.', '#', '#', 'O', 'O', 'O', '#', '#', '#', '#', '.'],\n",
       " ['.', '#', '#', 'O', 'O', '#', 'O', '.', '.', '#', '.'],\n",
       " ['.', 'O', 'O', 'O', 'O', 'O', 'O', '#', '#', '.', '.'],\n",
       " ['.', '#', '#', 'O', '#', 'O', '#', '#', '#', '#', '.'],\n",
       " ['.', '#', '#', 'O', '.', '#', '#', '.', '#', '#', '.'],\n",
       " ['.', '.', '.', '.', '.', '.', '.', '.', '.', '.', '.']]"
      ]
     },
     "execution_count": 105,
     "metadata": {},
     "output_type": "execute_result"
    }
   ],
   "source": [
    "s"
   ]
  },
  {
   "cell_type": "code",
   "execution_count": 88,
   "id": "c3fe0f20",
   "metadata": {},
   "outputs": [
    {
     "data": {
      "text/plain": [
       "266"
      ]
     },
     "execution_count": 88,
     "metadata": {},
     "output_type": "execute_result"
    }
   ],
   "source": [
    "len(ert)"
   ]
  },
  {
   "cell_type": "code",
   "execution_count": null,
   "id": "8f5ea5ea",
   "metadata": {},
   "outputs": [],
   "source": []
  }
 ],
 "metadata": {
  "kernelspec": {
   "display_name": "Python 3 (ipykernel)",
   "language": "python",
   "name": "python3"
  },
  "language_info": {
   "codemirror_mode": {
    "name": "ipython",
    "version": 3
   },
   "file_extension": ".py",
   "mimetype": "text/x-python",
   "name": "python",
   "nbconvert_exporter": "python",
   "pygments_lexer": "ipython3",
   "version": "3.11.5"
  }
 },
 "nbformat": 4,
 "nbformat_minor": 5
}
