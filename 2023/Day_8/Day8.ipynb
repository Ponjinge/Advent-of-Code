{
 "cells": [
  {
   "cell_type": "markdown",
   "metadata": {},
   "source": [
    "# --- Day 8: Haunted Wasteland ---\n",
    "You're still riding a camel across Desert Island when you spot a sandstorm quickly approaching. When you turn to warn the Elf, she disappears before your eyes! To be fair, she had just finished warning you about ghosts a few minutes ago.\n",
    "\n",
    "One of the camel's pouches is labeled \"maps\" - sure enough, it's full of documents (your puzzle input) about how to navigate the desert. At least, you're pretty sure that's what they are; one of the documents contains a list of left/right instructions, and the rest of the documents seem to describe some kind of network of labeled nodes.\n",
    "\n",
    "It seems like you're meant to use the left/right instructions to navigate the network. Perhaps if you have the camel follow the same instructions, you can escape the haunted wasteland!\n",
    "\n",
    "After examining the maps for a bit, two nodes stick out: AAA and ZZZ. You feel like AAA is where you are now, and you have to follow the left/right instructions until you reach ZZZ.\n",
    "\n",
    "This format defines each node of the network individually. For example:\n",
    "\n",
    "RL\n",
    "\n",
    "AAA = (BBB, CCC)\n",
    "BBB = (DDD, EEE)\n",
    "CCC = (ZZZ, GGG)\n",
    "DDD = (DDD, DDD)\n",
    "EEE = (EEE, EEE)\n",
    "GGG = (GGG, GGG)\n",
    "ZZZ = (ZZZ, ZZZ)\n",
    "Starting with AAA, you need to look up the next element based on the next left/right instruction in your input. In this example, start with AAA and go right (R) by choosing the right element of AAA, CCC. Then, L means to choose the left element of CCC, ZZZ. By following the left/right instructions, you reach ZZZ in 2 steps.\n",
    "\n",
    "Of course, you might not find ZZZ right away. If you run out of left/right instructions, repeat the whole sequence of instructions as necessary: RL really means RLRLRLRLRLRLRLRL... and so on. For example, here is a situation that takes 6 steps to reach ZZZ:\n",
    "\n",
    "LLR\n",
    "\n",
    "AAA = (BBB, BBB)\n",
    "BBB = (AAA, ZZZ)\n",
    "ZZZ = (ZZZ, ZZZ)\n",
    "Starting at AAA, follow the left/right instructions. How many steps are required to reach ZZZ?\n",
    "\n",
    "Your puzzle answer was 16579.\n",
    "\n"
   ]
  },
  {
   "cell_type": "code",
   "execution_count": null,
   "metadata": {},
   "outputs": [],
   "source": [
    "#Boilerplate 1 \n",
    "\n",
    "individuals = []\n",
    "\n",
    "with open('./input.txt', 'r') as file:\n",
    "    file_content = file.read().strip()  \n",
    "individual_strings = file_content.split('\\n\\n')\n",
    "for i, individual_str in enumerate(individual_strings, 1):\n",
    "    word = [[*line] for line in individual_str.split('\\n')]\n",
    "    individuals.append(word)"
   ]
  },
  {
   "cell_type": "code",
   "execution_count": null,
   "metadata": {},
   "outputs": [],
   "source": [
    "import re\n",
    "result = []\n",
    "with open('./input.txt', 'r') as file:\n",
    "    for line in file:\n",
    "        letters = re.findall(r'[a-zA-Z]+', line)\n",
    "        result.append(letters)"
   ]
  },
  {
   "cell_type": "code",
   "execution_count": null,
   "metadata": {},
   "outputs": [],
   "source": [
    "ins = str(s[0][0])"
   ]
  },
  {
   "cell_type": "code",
   "execution_count": null,
   "metadata": {
    "scrolled": true
   },
   "outputs": [],
   "source": [
    "instructs = []\n",
    "curr = 'AAA'\n",
    "i=0\n",
    "for k in range(2,len(s)):\n",
    "    if str(s[k][0])==curr:\n",
    "        c = k\n",
    "        #print(c)\n",
    "        break\n",
    "print(c)       \n",
    "        \n",
    "while curr != 'ZZZ':\n",
    "    if ins[i] == 'L':\n",
    "        p=1\n",
    "        #print('L')\n",
    "    else:\n",
    "        p=2\n",
    "        #print('R')\n",
    "        \n",
    "    t =str(s[c][p])\n",
    "    \n",
    "    #print(t)\n",
    "    for j in range(2,len(s)):\n",
    "        if str(s[j][0])== t:\n",
    "            instructs.append(s[j])\n",
    "            print (s[j], p)\n",
    "            c = j\n",
    "            curr = str(s[j][0])\n",
    "            break\n",
    "    if i==len(ins)-1:\n",
    "        i=0\n",
    "    else:\n",
    "        i=i+1\n",
    "    \n",
    "        "
   ]
  },
  {
   "cell_type": "code",
   "execution_count": null,
   "metadata": {},
   "outputs": [],
   "source": [
    "len(ins)"
   ]
  },
  {
   "cell_type": "code",
   "execution_count": null,
   "metadata": {},
   "outputs": [],
   "source": [
    "len(instructs)"
   ]
  },
  {
   "cell_type": "markdown",
   "metadata": {},
   "source": [
    "## --- Part Two ---\n",
    "The sandstorm is upon you and you aren't any closer to escaping the wasteland. You had the camel follow the instructions, but you've barely left your starting position. It's going to take significantly more steps to escape!\n",
    "\n",
    "What if the map isn't for people - what if the map is for ghosts? Are ghosts even bound by the laws of spacetime? Only one way to find out.\n",
    "\n",
    "After examining the maps a bit longer, your attention is drawn to a curious fact: the number of nodes with names ending in A is equal to the number ending in Z! If you were a ghost, you'd probably just start at every node that ends with A and follow all of the paths at the same time until they all simultaneously end up at nodes that end with Z.\n",
    "\n",
    "For example:\n",
    "\n",
    "LR\n",
    "\n",
    "11A = (11B, XXX)\n",
    "11B = (XXX, 11Z)\n",
    "11Z = (11B, XXX)\n",
    "22A = (22B, XXX)\n",
    "22B = (22C, 22C)\n",
    "22C = (22Z, 22Z)\n",
    "22Z = (22B, 22B)\n",
    "XXX = (XXX, XXX)\n",
    "Here, there are two starting nodes, 11A and 22A (because they both end with A). As you follow each left/right instruction, use that instruction to simultaneously navigate away from both nodes you're currently on. Repeat this process until all of the nodes you're currently on end with Z. (If only some of the nodes you're on end with Z, they act like any other node and you continue as normal.) In this example, you would proceed as follows:\n",
    "\n",
    "Step 0: You are at 11A and 22A.\n",
    "Step 1: You choose all of the left paths, leading you to 11B and 22B.\n",
    "Step 2: You choose all of the right paths, leading you to 11Z and 22C.\n",
    "Step 3: You choose all of the left paths, leading you to 11B and 22Z.\n",
    "Step 4: You choose all of the right paths, leading you to 11Z and 22B.\n",
    "Step 5: You choose all of the left paths, leading you to 11B and 22C.\n",
    "Step 6: You choose all of the right paths, leading you to 11Z and 22Z.\n",
    "So, in this example, you end up entirely on nodes that end in Z after 6 steps.\n",
    "\n",
    "Simultaneously start on every node that ends with A. How many steps does it take before you're only on nodes that end with Z?\n",
    "\n",
    "Your puzzle answer was 12927600769609.\n"
   ]
  },
  {
   "cell_type": "code",
   "execution_count": null,
   "metadata": {},
   "outputs": [],
   "source": [
    "instructs = []\n",
    "curr = []\n",
    "c = []\n",
    "i=0\n",
    "for k in range(2,len(s)):\n",
    "    if str(s[k][0]).endswith('A'):\n",
    "        c.append(k)\n",
    "        curr.append(s[k][0])\n",
    "        #print(c)\n",
    "        \n",
    "print(c)\n",
    "print(curr)\n"
   ]
  },
  {
   "cell_type": "markdown",
   "metadata": {},
   "source": [
    "Did this for each of the 6 starting positions (next time use a loop)"
   ]
  },
  {
   "cell_type": "code",
   "execution_count": null,
   "metadata": {},
   "outputs": [],
   "source": [
    "n=0\n",
    "curr = 'NFA'\n",
    "i=0\n",
    "zn0=[]\n",
    "zi0=[]\n",
    "for k in range(2,len(s)):\n",
    "    if str(s[k][0])==curr:\n",
    "        c = k\n",
    "        #print(c)\n",
    "        break\n",
    "print(c)       \n",
    "        \n",
    "while condition == False:\n",
    "    if ins[i] == 'L':\n",
    "        p=1\n",
    "        #print('L')\n",
    "    else:\n",
    "        p=2\n",
    "        #print('R')\n",
    "        \n",
    "    t =str(s[c][p])\n",
    "    \n",
    "    #print(t)\n",
    "    for j in range(2,len(s)):\n",
    "        if str(s[j][0])== t:\n",
    "            n=n+1\n",
    "            #print (s[j], p)\n",
    "            c = j\n",
    "            curr = str(s[j][0])\n",
    "            break\n",
    "    if i==len(ins)-1:\n",
    "        i=0\n",
    "    else:\n",
    "        i=i+1\n",
    "    if curr.endswith('Z'):\n",
    "        zn0.append(n)\n",
    "        zi0.append(i)\n",
    "    if (curr =='NFA' and i==0):\n",
    "        condition = True\n",
    "print(i)    "
   ]
  },
  {
   "cell_type": "code",
   "execution_count": null,
   "metadata": {},
   "outputs": [],
   "source": [
    "mod0= []\n",
    "for i in range(0,len(zn0)):\n",
    "    mod0.append(zn0[i]%597)"
   ]
  },
  {
   "cell_type": "code",
   "execution_count": null,
   "metadata": {},
   "outputs": [],
   "source": [
    "zn0[0]"
   ]
  },
  {
   "cell_type": "markdown",
   "metadata": {},
   "source": [
    "16579\n",
    "14893\n",
    "19951\n",
    "22199\n",
    "17141\n",
    "12083"
   ]
  },
  {
   "cell_type": "code",
   "execution_count": null,
   "metadata": {},
   "outputs": [],
   "source": [
    "from math import lcm  \n",
    "lcm(16579, 14893, 19951,22199,17141,12083)"
   ]
  },
  {
   "cell_type": "code",
   "execution_count": null,
   "metadata": {},
   "outputs": [],
   "source": [
    "lcm(22199,17141,12083)"
   ]
  },
  {
   "cell_type": "code",
   "execution_count": null,
   "metadata": {},
   "outputs": [],
   "source": [
    "KTA =310\n",
    "PLA =408 \n",
    "LJA = 530\n",
    "AAA = 597\n"
   ]
  }
 ],
 "metadata": {
  "kernelspec": {
   "display_name": "Python 3 (ipykernel)",
   "language": "python",
   "name": "python3"
  },
  "language_info": {
   "codemirror_mode": {
    "name": "ipython",
    "version": 3
   },
   "file_extension": ".py",
   "mimetype": "text/x-python",
   "name": "python",
   "nbconvert_exporter": "python",
   "pygments_lexer": "ipython3",
   "version": "3.11.5"
  }
 },
 "nbformat": 4,
 "nbformat_minor": 4
}
