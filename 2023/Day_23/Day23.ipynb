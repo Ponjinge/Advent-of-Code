{
 "cells": [
  {
   "cell_type": "markdown",
   "id": "714ae8a9",
   "metadata": {},
   "source": [
    "# Day 23"
   ]
  },
  {
   "cell_type": "markdown",
   "id": "74188c8a",
   "metadata": {},
   "source": [
    "## Part 1 "
   ]
  },
  {
   "cell_type": "code",
   "execution_count": 3,
   "id": "a4741bd7",
   "metadata": {},
   "outputs": [],
   "source": [
    "# Separate by line and spaces and turn into integer\n",
    "import re\n",
    "s = []\n",
    "\n",
    "with open('./input.txt', 'r') as file:\n",
    "    file_content = file.read().strip()  \n",
    "individual_strings = file_content.split('\\n')\n",
    "\n",
    "for i, individual_str in enumerate(individual_strings, 1):\n",
    "    word = [*individual_str]\n",
    "    s.append(word)"
   ]
  },
  {
   "cell_type": "code",
   "execution_count": 4,
   "id": "897bfdcc",
   "metadata": {},
   "outputs": [
    {
     "data": {
      "text/plain": [
       "'.'"
      ]
     },
     "execution_count": 4,
     "metadata": {},
     "output_type": "execute_result"
    }
   ],
   "source": [
    "s[0][1]"
   ]
  },
  {
   "cell_type": "code",
   "execution_count": 5,
   "id": "429fbbf7",
   "metadata": {
    "scrolled": true
   },
   "outputs": [
    {
     "data": {
      "text/plain": [
       "'.'"
      ]
     },
     "execution_count": 5,
     "metadata": {},
     "output_type": "execute_result"
    }
   ],
   "source": [
    "s[140][139]"
   ]
  },
  {
   "cell_type": "code",
   "execution_count": 6,
   "id": "738da411",
   "metadata": {},
   "outputs": [],
   "source": [
    "start = (0,1)\n",
    "end = (140,139)"
   ]
  },
  {
   "cell_type": "code",
   "execution_count": 7,
   "id": "991b58cb",
   "metadata": {},
   "outputs": [],
   "source": [
    "#s[22][21]"
   ]
  },
  {
   "cell_type": "code",
   "execution_count": 8,
   "id": "efc8a907",
   "metadata": {},
   "outputs": [],
   "source": [
    "#end = (22,21)"
   ]
  },
  {
   "cell_type": "code",
   "execution_count": 9,
   "id": "5030dddf",
   "metadata": {},
   "outputs": [],
   "source": [
    "def dir(way,i,j, k=1):\n",
    "    if way =='U':\n",
    "        return((i-k,j)) \n",
    "    if way =='D':\n",
    "        return((i+k,j))\n",
    "    if way =='L':\n",
    "        return((i,j-k))\n",
    "    if way =='R':\n",
    "        return((i,j+k))"
   ]
  },
  {
   "cell_type": "code",
   "execution_count": 10,
   "id": "a4f43046",
   "metadata": {},
   "outputs": [],
   "source": [
    "def move(i,j,c,lastdir):\n",
    "    canMove = 0\n",
    "    #print (i,j)\n",
    "    ways = ['U','D','L','R']\n",
    "    if lastdir =='U':\n",
    "        ways.remove('D')\n",
    "    if lastdir =='D':\n",
    "        ways.remove('U')\n",
    "    if lastdir =='R':\n",
    "        ways.remove('L')\n",
    "    if lastdir =='L':\n",
    "        ways.remove('R')\n",
    "    for way in ways:\n",
    "           \n",
    "        if dir(way,i,j)[0] == 140 and dir(way,i,j)[1] == 139:\n",
    "            cc= c+1\n",
    "            #print (cc)\n",
    "            paths.append(cc)\n",
    "            return cc\n",
    "            \n",
    "        elif(s[dir(way,i,j)[0]][dir(way,i,j)[1]]=='>' and way == 'R') or (s[dir(way,i,j)[0]][dir(way,i,j)[1]]=='<' and way == 'L') or (s[dir(way,i,j)[0]][dir(way,i,j)[1]]=='v' and way == 'D'):\n",
    "            cc = c+2\n",
    "            move(dir(way,i,j,2)[0],dir(way,i,j,2)[1],cc, way)\n",
    "                \n",
    "        elif s[dir(way,i,j)[0]][dir(way,i,j)[1]]=='.':\n",
    "            cc = c+1\n",
    "            move(dir(way,i,j)[0],dir(way,i,j)[1],cc, way)\n",
    "        \n",
    "        else:\n",
    "            canMove+=1\n",
    "    if canMove== 4:\n",
    "        return 0 "
   ]
  },
  {
   "cell_type": "code",
   "execution_count": null,
   "id": "63a181b8",
   "metadata": {},
   "outputs": [],
   "source": [
    "import sys\n",
    "\n",
    "# Set the recursion limit to a higher value (e.g., 5000)\n",
    "sys.setrecursionlimit(10000000)"
   ]
  },
  {
   "cell_type": "code",
   "execution_count": null,
   "id": "3050a557",
   "metadata": {
    "scrolled": true
   },
   "outputs": [],
   "source": [
    "paths = []\n",
    "move(0,1,0,'D')"
   ]
  },
  {
   "cell_type": "code",
   "execution_count": null,
   "id": "4cb71e7d",
   "metadata": {},
   "outputs": [],
   "source": [
    "max(paths)"
   ]
  },
  {
   "cell_type": "code",
   "execution_count": null,
   "id": "55cb4825",
   "metadata": {},
   "outputs": [],
   "source": [
    "def move(i,j,c,lastdir, sett):\n",
    "    \n",
    "    #print (i,j)\n",
    "    ways = ['U','D','L','R']\n",
    "    if lastdir =='U'or i== (len(s)-1):\n",
    "        ways.remove('D')\n",
    "    if lastdir =='D' or i == 0 :\n",
    "        ways.remove('U')\n",
    "    if lastdir =='R' or j == 0 :\n",
    "        ways.remove('L')\n",
    "    if lastdir =='L' or j == (len(s[0])-1):\n",
    "        ways.remove('R')\n",
    "    for way in ways:\n",
    "           \n",
    "        if dir(way,i,j)[0] == 140 and dir(way,i,j)[1] == 139:\n",
    "            cc= c+1\n",
    "            paths.append(cc)\n",
    "            return cc\n",
    "                \n",
    "        elif (s[dir(way,i,j)[0]][dir(way,i,j)[1]] =='.' or s[dir(way,i,j)[0]][dir(way,i,j)[1]] =='>'  or s[dir(way,i,j)[0]][dir(way,i,j)[1]] =='<'  or s[dir(way,i,j)[0]][dir(way,i,j)[1]] =='v') and dir(way,i,j) not in sett:\n",
    "            sets2 = sett.copy()\n",
    "            sets2.add(dir(way,i,j))\n",
    "            cc = c+1\n",
    "            move(dir(way,i,j)[0], dir(way,i,j)[1], cc, way, sets2)\n",
    "        \n",
    "    return 0 "
   ]
  },
  {
   "cell_type": "code",
   "execution_count": null,
   "id": "80731d9d",
   "metadata": {},
   "outputs": [],
   "source": [
    "paths = []\n",
    "sett ={(0,1)}\n",
    "\n",
    "move(0,1,0,'D', sett)"
   ]
  },
  {
   "cell_type": "code",
   "execution_count": null,
   "id": "9efae5df",
   "metadata": {},
   "outputs": [],
   "source": [
    "max(paths)"
   ]
  },
  {
   "cell_type": "code",
   "execution_count": null,
   "id": "33d20098",
   "metadata": {},
   "outputs": [],
   "source": [
    "len(paths)"
   ]
  },
  {
   "cell_type": "code",
   "execution_count": null,
   "id": "1b9c7947",
   "metadata": {},
   "outputs": [],
   "source": [
    "paths"
   ]
  },
  {
   "cell_type": "markdown",
   "id": "b936c218",
   "metadata": {},
   "source": [
    "5646"
   ]
  },
  {
   "cell_type": "code",
   "execution_count": null,
   "id": "9f61a181",
   "metadata": {},
   "outputs": [],
   "source": [
    "#Max recursion depth\n",
    "from functools import lru_cache \n",
    "\n",
    "@lru_cache(maxsize = None)\n",
    "def move(i,j, sett):\n",
    "    count = [0]\n",
    "    cond = 0\n",
    "    sets = set(sett)\n",
    "    #print (i,j)\n",
    "    ways = ['U','D','L','R']\n",
    "    \n",
    "    if i== (len(s)-1):\n",
    "        ways.remove('D')\n",
    "    \n",
    "    if i == 0 :\n",
    "        ways.remove('U')\n",
    "    \n",
    "    if j == 0 :\n",
    "        ways.remove('L')\n",
    "    \n",
    "    if j == (len(s[0])-1):\n",
    "        ways.remove('R')\n",
    "    for way in ways:\n",
    "           \n",
    "        if dir(way,i,j)[0] == 140 and dir(way,i,j)[1] == 139:\n",
    "            return(1,1)\n",
    "                \n",
    "        elif (s[dir(way,i,j)[0]][dir(way,i,j)[1]] =='.' or s[dir(way,i,j)[0]][dir(way,i,j)[1]] =='>'  or s[dir(way,i,j)[0]][dir(way,i,j)[1]] =='<'  or s[dir(way,i,j)[0]][dir(way,i,j)[1]] =='v') and dir(way,i,j) not in sett:\n",
    "            sets2 = sets.copy()\n",
    "            sets2.add(dir(way,i,j))\n",
    "            if move(dir(way,i,j)[0], dir(way,i,j)[1], tuple(sets2))[0] == 1:\n",
    "                count.append(1 + move(dir(way,i,j)[0], dir(way,i,j)[1], tuple(sets2))[1])\n",
    "                cond = 1 \n",
    "           \n",
    "        \n",
    "    return (cond, max(count))"
   ]
  },
  {
   "cell_type": "code",
   "execution_count": null,
   "id": "aeff6fd1",
   "metadata": {},
   "outputs": [],
   "source": [
    "paths = []\n",
    "settt ={(0,1)}\n",
    "sett = tuple(settt)\n",
    "move(0,1, sett)"
   ]
  },
  {
   "cell_type": "markdown",
   "id": "8dacf4fa",
   "metadata": {},
   "source": [
    "## Part 2"
   ]
  },
  {
   "cell_type": "code",
   "execution_count": 11,
   "id": "ce82beb9",
   "metadata": {},
   "outputs": [],
   "source": [
    "def path(s, pos):\n",
    "    \n",
    "    ol = [pos]\n",
    "    \n",
    "    cl = []\n",
    "    cool = [ [[]for _ in range(len(s))] for _ in range(len(s)) ]\n",
    "    cool[pos[0]][pos[1]] = 0\n",
    "    while ol:\n",
    "        active = ol[0]\n",
    "        cl.append(active)\n",
    "        ol.pop(0) \n",
    "    \n",
    "        i = active[0]\n",
    "        j= active[1]\n",
    "    \n",
    "    \n",
    "        # For each possible direction around that space\n",
    "    \n",
    "        directions = ['U','D','L','R']\n",
    "        \n",
    "        \n",
    "        for way in  directions :\n",
    "            \n",
    "            #print(way, i, j)\n",
    "            #print (s[dir(way,i,j)[0]][dir(way,i,j)[1]])\n",
    "            \n",
    "               \n",
    "                if dir(way,i,j) in ol:\n",
    "                    if cool[dir(way,i,j)[0]][dir(way,i,j)[1]] <= cool[i][j] + 1:\n",
    "                        cool[dir(way,i,j)[0]][dir(way,i,j)[1]] = 1 + cool[i][j]\n",
    "                          \n",
    "            \n",
    "                elif dir(way,i,j) in cl:\n",
    "                     if cool[dir(way,i,j)[0]][dir(way,i,j)[1]] <= cool[i][j] + 1:\n",
    "                        cool[dir(way,i,j)[0]][dir(way,i,j)[1]] = 1 + cool[i][j]\n",
    "                        ol.append(dir(way,i,j))\n",
    "                      \n",
    "                \n",
    "                elif 0 <= dir(way,i,j)[0] < len(s) and 0 <= dir(way,i,j)[1] < len(s[0]):\n",
    "                    \n",
    "                    if s[dir(way,i,j)[0]][dir(way,i,j)[1]] != '#':\n",
    "                        cool[dir(way,i,j)[0]][dir(way,i,j)[1]] = 1 + cool[i][j]\n",
    "                        ol.append(dir(way,i,j))\n",
    "                        \n",
    "                       \n",
    "                \n",
    "    return s"
   ]
  },
  {
   "cell_type": "code",
   "execution_count": 12,
   "id": "907cc75c",
   "metadata": {},
   "outputs": [
    {
     "ename": "KeyboardInterrupt",
     "evalue": "",
     "output_type": "error",
     "traceback": [
      "\u001b[1;31m---------------------------------------------------------------------------\u001b[0m",
      "\u001b[1;31mKeyboardInterrupt\u001b[0m                         Traceback (most recent call last)",
      "Cell \u001b[1;32mIn[12], line 1\u001b[0m\n\u001b[1;32m----> 1\u001b[0m path(s,(\u001b[38;5;241m0\u001b[39m,\u001b[38;5;241m1\u001b[39m))\n",
      "Cell \u001b[1;32mIn[11], line 39\u001b[0m, in \u001b[0;36mpath\u001b[1;34m(s, pos)\u001b[0m\n\u001b[0;32m     35\u001b[0m         cool[\u001b[38;5;28mdir\u001b[39m(way,i,j)[\u001b[38;5;241m0\u001b[39m]][\u001b[38;5;28mdir\u001b[39m(way,i,j)[\u001b[38;5;241m1\u001b[39m]] \u001b[38;5;241m=\u001b[39m \u001b[38;5;241m1\u001b[39m \u001b[38;5;241m+\u001b[39m cool[i][j]\n\u001b[0;32m     36\u001b[0m         ol\u001b[38;5;241m.\u001b[39mappend(\u001b[38;5;28mdir\u001b[39m(way,i,j))\n\u001b[1;32m---> 39\u001b[0m \u001b[38;5;28;01melif\u001b[39;00m \u001b[38;5;241m0\u001b[39m \u001b[38;5;241m<\u001b[39m\u001b[38;5;241m=\u001b[39m \u001b[38;5;28mdir\u001b[39m(way,i,j)[\u001b[38;5;241m0\u001b[39m] \u001b[38;5;241m<\u001b[39m \u001b[38;5;28mlen\u001b[39m(s) \u001b[38;5;129;01mand\u001b[39;00m \u001b[38;5;241m0\u001b[39m \u001b[38;5;241m<\u001b[39m\u001b[38;5;241m=\u001b[39m \u001b[38;5;28mdir\u001b[39m(way,i,j)[\u001b[38;5;241m1\u001b[39m] \u001b[38;5;241m<\u001b[39m \u001b[38;5;28mlen\u001b[39m(s[\u001b[38;5;241m0\u001b[39m]):\n\u001b[0;32m     41\u001b[0m     \u001b[38;5;28;01mif\u001b[39;00m s[\u001b[38;5;28mdir\u001b[39m(way,i,j)[\u001b[38;5;241m0\u001b[39m]][\u001b[38;5;28mdir\u001b[39m(way,i,j)[\u001b[38;5;241m1\u001b[39m]] \u001b[38;5;241m!=\u001b[39m \u001b[38;5;124m'\u001b[39m\u001b[38;5;124m#\u001b[39m\u001b[38;5;124m'\u001b[39m:\n\u001b[0;32m     42\u001b[0m         cool[\u001b[38;5;28mdir\u001b[39m(way,i,j)[\u001b[38;5;241m0\u001b[39m]][\u001b[38;5;28mdir\u001b[39m(way,i,j)[\u001b[38;5;241m1\u001b[39m]] \u001b[38;5;241m=\u001b[39m \u001b[38;5;241m1\u001b[39m \u001b[38;5;241m+\u001b[39m cool[i][j]\n",
      "Cell \u001b[1;32mIn[9], line 1\u001b[0m, in \u001b[0;36mdir\u001b[1;34m(way, i, j, k)\u001b[0m\n\u001b[1;32m----> 1\u001b[0m \u001b[38;5;28;01mdef\u001b[39;00m \u001b[38;5;21mdir\u001b[39m(way,i,j, k\u001b[38;5;241m=\u001b[39m\u001b[38;5;241m1\u001b[39m):\n\u001b[0;32m      2\u001b[0m     \u001b[38;5;28;01mif\u001b[39;00m way \u001b[38;5;241m==\u001b[39m\u001b[38;5;124m'\u001b[39m\u001b[38;5;124mU\u001b[39m\u001b[38;5;124m'\u001b[39m:\n\u001b[0;32m      3\u001b[0m         \u001b[38;5;28;01mreturn\u001b[39;00m((i\u001b[38;5;241m-\u001b[39mk,j)) \n",
      "\u001b[1;31mKeyboardInterrupt\u001b[0m: "
     ]
    }
   ],
   "source": [
    "path(s,(0,1))"
   ]
  },
  {
   "cell_type": "code",
   "execution_count": null,
   "id": "6b6985ca",
   "metadata": {},
   "outputs": [],
   "source": []
  }
 ],
 "metadata": {
  "kernelspec": {
   "display_name": "Python 3 (ipykernel)",
   "language": "python",
   "name": "python3"
  },
  "language_info": {
   "codemirror_mode": {
    "name": "ipython",
    "version": 3
   },
   "file_extension": ".py",
   "mimetype": "text/x-python",
   "name": "python",
   "nbconvert_exporter": "python",
   "pygments_lexer": "ipython3",
   "version": "3.11.5"
  }
 },
 "nbformat": 4,
 "nbformat_minor": 5
}
