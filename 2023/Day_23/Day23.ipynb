{
 "cells": [
  {
   "cell_type": "markdown",
   "id": "714ae8a9",
   "metadata": {},
   "source": [
    "# Day 23"
   ]
  },
  {
   "cell_type": "markdown",
   "id": "74188c8a",
   "metadata": {},
   "source": [
    "## Part 1 "
   ]
  },
  {
   "cell_type": "code",
   "execution_count": 1,
   "id": "a4741bd7",
   "metadata": {},
   "outputs": [],
   "source": [
    "# Separate by line and spaces and turn into integer\n",
    "import re\n",
    "s = []\n",
    "\n",
    "with open('./input.txt', 'r') as file:\n",
    "    file_content = file.read().strip()  \n",
    "individual_strings = file_content.split('\\n')\n",
    "\n",
    "for i, individual_str in enumerate(individual_strings, 1):\n",
    "    word = [*individual_str]\n",
    "    s.append(word)"
   ]
  },
  {
   "cell_type": "code",
   "execution_count": 2,
   "id": "897bfdcc",
   "metadata": {},
   "outputs": [
    {
     "data": {
      "text/plain": [
       "'.'"
      ]
     },
     "execution_count": 2,
     "metadata": {},
     "output_type": "execute_result"
    }
   ],
   "source": [
    "s[0][1]"
   ]
  },
  {
   "cell_type": "code",
   "execution_count": 3,
   "id": "429fbbf7",
   "metadata": {
    "scrolled": true
   },
   "outputs": [
    {
     "data": {
      "text/plain": [
       "'.'"
      ]
     },
     "execution_count": 3,
     "metadata": {},
     "output_type": "execute_result"
    }
   ],
   "source": [
    "s[140][139]"
   ]
  },
  {
   "cell_type": "code",
   "execution_count": 4,
   "id": "738da411",
   "metadata": {},
   "outputs": [],
   "source": [
    "start = (0,1)\n",
    "end = (140,139)"
   ]
  },
  {
   "cell_type": "code",
   "execution_count": 5,
   "id": "991b58cb",
   "metadata": {},
   "outputs": [],
   "source": [
    "#s[22][21]"
   ]
  },
  {
   "cell_type": "code",
   "execution_count": 6,
   "id": "efc8a907",
   "metadata": {},
   "outputs": [],
   "source": [
    "#end = (22,21)"
   ]
  },
  {
   "cell_type": "code",
   "execution_count": 7,
   "id": "5030dddf",
   "metadata": {},
   "outputs": [],
   "source": [
    "def dir(way,i,j, k=1):\n",
    "    if way =='U':\n",
    "        return((i-k,j)) \n",
    "    if way =='D':\n",
    "        return((i+k,j))\n",
    "    if way =='L':\n",
    "        return((i,j-k))\n",
    "    if way =='R':\n",
    "        return((i,j+k))"
   ]
  },
  {
   "cell_type": "code",
   "execution_count": 8,
   "id": "a4f43046",
   "metadata": {},
   "outputs": [],
   "source": [
    "def move(i,j,c,lastdir):\n",
    "    canMove = 0\n",
    "    #print (i,j)\n",
    "    ways = ['U','D','L','R']\n",
    "    if lastdir =='U':\n",
    "        ways.remove('D')\n",
    "    if lastdir =='D':\n",
    "        ways.remove('U')\n",
    "    if lastdir =='R':\n",
    "        ways.remove('L')\n",
    "    if lastdir =='L':\n",
    "        ways.remove('R')\n",
    "    for way in ways:\n",
    "           \n",
    "        if dir(way,i,j)[0] == 140 and dir(way,i,j)[1] == 139:\n",
    "            cc= c+1\n",
    "            #print (cc)\n",
    "            paths.append(cc)\n",
    "            return cc\n",
    "            \n",
    "        elif(s[dir(way,i,j)[0]][dir(way,i,j)[1]]=='>' and way == 'R') or (s[dir(way,i,j)[0]][dir(way,i,j)[1]]=='<' and way == 'L') or (s[dir(way,i,j)[0]][dir(way,i,j)[1]]=='v' and way == 'D'):\n",
    "            cc = c+2\n",
    "            move(dir(way,i,j,2)[0],dir(way,i,j,2)[1],cc, way)\n",
    "                \n",
    "        elif s[dir(way,i,j)[0]][dir(way,i,j)[1]]=='.':\n",
    "            cc = c+1\n",
    "            move(dir(way,i,j)[0],dir(way,i,j)[1],cc, way)\n",
    "        \n",
    "        else:\n",
    "            canMove+=1\n",
    "    if canMove== 4:\n",
    "        return 0 "
   ]
  },
  {
   "cell_type": "code",
   "execution_count": 9,
   "id": "63a181b8",
   "metadata": {},
   "outputs": [],
   "source": [
    "import sys\n",
    "\n",
    "# Set the recursion limit to a higher value (e.g., 5000)\n",
    "sys.setrecursionlimit(10000000)"
   ]
  },
  {
   "cell_type": "code",
   "execution_count": 10,
   "id": "3050a557",
   "metadata": {
    "scrolled": true
   },
   "outputs": [],
   "source": [
    "paths = []\n",
    "#move(0,1,0,'D')"
   ]
  },
  {
   "cell_type": "code",
   "execution_count": 11,
   "id": "4cb71e7d",
   "metadata": {},
   "outputs": [],
   "source": [
    "#max(paths)"
   ]
  },
  {
   "cell_type": "code",
   "execution_count": 32,
   "id": "55cb4825",
   "metadata": {},
   "outputs": [],
   "source": [
    "def move(i,j,c,lastdir, sett):\n",
    "    \n",
    "    #print (i,j)\n",
    "    ways = ['U','D','L','R']\n",
    "    if lastdir =='U'or i== (len(s)-1):\n",
    "        ways.remove('D')\n",
    "    if lastdir =='D' or i == 0 :\n",
    "        ways.remove('U')\n",
    "    if lastdir =='R' or j == 0 :\n",
    "        ways.remove('L')\n",
    "    if lastdir =='L' or j == (len(s[0])-1):\n",
    "        ways.remove('R')\n",
    "    for way in ways:\n",
    "           \n",
    "        if dir(way,i,j)[0] == 140 and dir(way,i,j)[1] == 139:\n",
    "            cc= c+1\n",
    "            paths.append(cc)\n",
    "            return cc\n",
    "                \n",
    "        elif (s[dir(way,i,j)[0]][dir(way,i,j)[1]] =='.' or s[dir(way,i,j)[0]][dir(way,i,j)[1]] =='>'  or s[dir(way,i,j)[0]][dir(way,i,j)[1]] =='<'  or s[dir(way,i,j)[0]][dir(way,i,j)[1]] =='v') and dir(way,i,j) not in sett:\n",
    "            sets2 = sett.copy()\n",
    "            sets2.add(dir(way,i,j))\n",
    "            cc = c+1\n",
    "            move(dir(way,i,j)[0], dir(way,i,j)[1], cc, way, sets2)\n",
    "        \n",
    "    return 0 "
   ]
  },
  {
   "cell_type": "code",
   "execution_count": null,
   "id": "80731d9d",
   "metadata": {},
   "outputs": [],
   "source": [
    "paths = []\n",
    "sett ={(0,1)}\n",
    "\n",
    "move(0,1,0,'D', sett)"
   ]
  },
  {
   "cell_type": "code",
   "execution_count": null,
   "id": "9efae5df",
   "metadata": {},
   "outputs": [],
   "source": [
    "max(paths)"
   ]
  },
  {
   "cell_type": "code",
   "execution_count": null,
   "id": "33d20098",
   "metadata": {},
   "outputs": [],
   "source": [
    "len(s[0])"
   ]
  },
  {
   "cell_type": "code",
   "execution_count": 17,
   "id": "1b9c7947",
   "metadata": {},
   "outputs": [
    {
     "data": {
      "text/plain": [
       "[1918]"
      ]
     },
     "execution_count": 17,
     "metadata": {},
     "output_type": "execute_result"
    }
   ],
   "source": [
    "paths"
   ]
  },
  {
   "cell_type": "markdown",
   "id": "b936c218",
   "metadata": {},
   "source": [
    "5646"
   ]
  },
  {
   "cell_type": "code",
   "execution_count": null,
   "id": "9f61a181",
   "metadata": {},
   "outputs": [],
   "source": [
    "def move(i,j, sett):\n",
    "    sets = set(sett)\n",
    "    #print (i,j)\n",
    "    ways = ['U','D','L','R']\n",
    "    \n",
    "    if i== (len(s)-1):\n",
    "        ways.remove('D')\n",
    "    \n",
    "    if i == 0 :\n",
    "        ways.remove('U')\n",
    "    \n",
    "    if j == 0 :\n",
    "        ways.remove('L')\n",
    "    \n",
    "    if j == (len(s[0])-1):\n",
    "        ways.remove('R')\n",
    "    for way in ways:\n",
    "           \n",
    "        if dir(way,i,j)[0] == 140 and dir(way,i,j)[1] == 139:\n",
    "            return 2\n",
    "                \n",
    "        elif (s[dir(way,i,j)[0]][dir(way,i,j)[1]] =='.' or s[dir(way,i,j)[0]][dir(way,i,j)[1]] =='>'  or s[dir(way,i,j)[0]][dir(way,i,j)[1]] =='<'  or s[dir(way,i,j)[0]][dir(way,i,j)[1]] =='v') and dir(way,i,j) not in sett:\n",
    "            sets2 = sets.copy()\n",
    "            sets2.add(dir(way,i,j))\n",
    "            count = 1 + move(dir(way,i,j)[0], dir(way,i,j)[1], tuple(sets2))\n",
    "            \n",
    "    return 1000000000000000000000000"
   ]
  }
 ],
 "metadata": {
  "kernelspec": {
   "display_name": "Python 3 (ipykernel)",
   "language": "python",
   "name": "python3"
  },
  "language_info": {
   "codemirror_mode": {
    "name": "ipython",
    "version": 3
   },
   "file_extension": ".py",
   "mimetype": "text/x-python",
   "name": "python",
   "nbconvert_exporter": "python",
   "pygments_lexer": "ipython3",
   "version": "3.11.5"
  }
 },
 "nbformat": 4,
 "nbformat_minor": 5
}
