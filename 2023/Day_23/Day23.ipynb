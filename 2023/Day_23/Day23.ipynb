{
 "cells": [
  {
   "cell_type": "markdown",
   "id": "714ae8a9",
   "metadata": {},
   "source": [
    "# Day 23"
   ]
  },
  {
   "cell_type": "markdown",
   "id": "74188c8a",
   "metadata": {},
   "source": [
    "## Part 1 "
   ]
  },
  {
   "cell_type": "code",
   "execution_count": null,
   "id": "a4741bd7",
   "metadata": {},
   "outputs": [],
   "source": [
    "# Separate by line and spaces and turn into integer\n",
    "import re\n",
    "s = []\n",
    "\n",
    "with open('./test.txt', 'r') as file:\n",
    "    file_content = file.read().strip()  \n",
    "individual_strings = file_content.split('\\n')\n",
    "\n",
    "for i, individual_str in enumerate(individual_strings, 1):\n",
    "    word = [*individual_str]\n",
    "    s.append(word)"
   ]
  },
  {
   "cell_type": "code",
   "execution_count": null,
   "id": "738da411",
   "metadata": {},
   "outputs": [],
   "source": [
    "start = (0,1)\n",
    "end = (140,139)"
   ]
  },
  {
   "cell_type": "code",
   "execution_count": null,
   "id": "991b58cb",
   "metadata": {},
   "outputs": [],
   "source": [
    "s[22][21]"
   ]
  },
  {
   "cell_type": "code",
   "execution_count": null,
   "id": "efc8a907",
   "metadata": {},
   "outputs": [],
   "source": [
    "#end = (22,21)"
   ]
  },
  {
   "cell_type": "code",
   "execution_count": null,
   "id": "5030dddf",
   "metadata": {},
   "outputs": [],
   "source": [
    "def dir(way,i,j, k=1):\n",
    "    if way =='U':\n",
    "        return((i-k,j)) \n",
    "    if way =='D':\n",
    "        return((i+k,j))\n",
    "    if way =='L':\n",
    "        return((i,j-k))\n",
    "    if way =='R':\n",
    "        return((i,j+k))"
   ]
  },
  {
   "cell_type": "code",
   "execution_count": null,
   "id": "a4f43046",
   "metadata": {},
   "outputs": [],
   "source": [
    "def move(i,j,c,lastdir):\n",
    "    canMove = 0\n",
    "    #print (i,j)\n",
    "    ways = ['U','D','L','R']\n",
    "    if lastdir =='U':\n",
    "        ways.remove('D')\n",
    "    if lastdir =='D':\n",
    "        ways.remove('U')\n",
    "    if lastdir =='R':\n",
    "        ways.remove('L')\n",
    "    if lastdir =='L':\n",
    "        ways.remove('R')\n",
    "    for way in ways:\n",
    "           \n",
    "        if dir(way,i,j)[0] == 22 and dir(way,i,j)[1] == 21:\n",
    "            cc= c+1\n",
    "            #print (cc)\n",
    "            paths.append(cc)\n",
    "            return cc\n",
    "            \n",
    "        elif(s[dir(way,i,j)[0]][dir(way,i,j)[1]]=='>' and way == 'R') or (s[dir(way,i,j)[0]][dir(way,i,j)[1]]=='<' and way == 'L') or (s[dir(way,i,j)[0]][dir(way,i,j)[1]]=='v' and way == 'D'):\n",
    "            cc = c+2\n",
    "            move(dir(way,i,j,2)[0],dir(way,i,j,2)[1],cc, way)\n",
    "                \n",
    "        elif s[dir(way,i,j)[0]][dir(way,i,j)[1]]=='.':\n",
    "            cc = c+1\n",
    "            move(dir(way,i,j)[0],dir(way,i,j)[1],cc, way)\n",
    "        \n",
    "        else:\n",
    "            canMove+=1\n",
    "    if canMove== 4:\n",
    "        return 0 "
   ]
  },
  {
   "cell_type": "code",
   "execution_count": null,
   "id": "63a181b8",
   "metadata": {},
   "outputs": [],
   "source": [
    "import sys\n",
    "\n",
    "# Set the recursion limit to a higher value (e.g., 5000)\n",
    "sys.setrecursionlimit(10000000)"
   ]
  },
  {
   "cell_type": "code",
   "execution_count": null,
   "id": "3050a557",
   "metadata": {
    "scrolled": true
   },
   "outputs": [],
   "source": [
    "paths = []\n",
    "move(0,1,0,'D')"
   ]
  },
  {
   "cell_type": "code",
   "execution_count": null,
   "id": "4cb71e7d",
   "metadata": {},
   "outputs": [],
   "source": [
    "max(paths)"
   ]
  },
  {
   "cell_type": "markdown",
   "id": "77e04f31",
   "metadata": {},
   "source": [
    "## Part 2"
   ]
  },
  {
   "cell_type": "markdown",
   "id": "b936c218",
   "metadata": {},
   "source": [
    "5646"
   ]
  },
  {
   "cell_type": "code",
   "execution_count": 25,
   "id": "bce883b9",
   "metadata": {},
   "outputs": [],
   "source": [
    "t = 1\n",
    "if t ==0:\n",
    "    FILE = './test.txt'\n",
    "    p_end = (22,21)\n",
    "else: \n",
    "    FILE = './input.txt'\n",
    "    p_end = (140,139)"
   ]
  },
  {
   "cell_type": "code",
   "execution_count": 26,
   "id": "6b6985ca",
   "metadata": {},
   "outputs": [],
   "source": [
    "# Separate by line and spaces and turn into integer\n",
    "import re\n",
    "s = []\n",
    "\n",
    "with open(FILE, 'r') as file:\n",
    "    file_content = file.read().strip()  \n",
    "individual_strings = file_content.split('\\n')\n",
    "\n",
    "for i, individual_str in enumerate(individual_strings, 1):\n",
    "    word = [*individual_str]\n",
    "    s.append(word)"
   ]
  },
  {
   "cell_type": "code",
   "execution_count": 27,
   "id": "56e0ffdd",
   "metadata": {},
   "outputs": [],
   "source": [
    "def dir(way,i,j):\n",
    "    if way =='U':\n",
    "        return((i-1,j)) \n",
    "    if way =='D':\n",
    "        return((i+1,j))\n",
    "    if way =='L':\n",
    "        return((i,j-1))\n",
    "    if way =='R':\n",
    "        return((i,j+1))"
   ]
  },
  {
   "cell_type": "code",
   "execution_count": 28,
   "id": "e996e478",
   "metadata": {},
   "outputs": [],
   "source": [
    "def path_runner(start):\n",
    "    \n",
    "    # (i,j) tuples for the ol\n",
    "    ol = []\n",
    "    ol.append(start)\n",
    "    crossroads = set()\n",
    "    \n",
    "    cl = set()\n",
    "    \n",
    "    while ol:\n",
    "        #print(ol)\n",
    "        i, j = ol[0]\n",
    "        ol.pop(0)\n",
    "        cl.add((i,j))\n",
    "        \n",
    "        directions = ['U','D','L','R']\n",
    "        #print(i,j)\n",
    "        possible_dirs = 0 \n",
    "        \n",
    "        if i== (len(s)-1):\n",
    "            directions.remove('D')\n",
    "            \n",
    "        if i == 0 :\n",
    "            directions.remove('U')\n",
    "            \n",
    "        if j == 0 :\n",
    "            directions.remove('L')\n",
    "            \n",
    "        if j == (len(s[0])-1):\n",
    "            directions.remove('R')\n",
    "        \n",
    "        \n",
    "        for way in directions:\n",
    "            \n",
    "            if s[dir(way,i,j)[0]][dir(way,i,j)[1]] != '#':\n",
    "                \n",
    "                possible_dirs +=1 \n",
    "                if dir(way,i,j) not in ol and dir(way,i,j) not in cl:\n",
    "                    ol.append(dir(way,i,j))\n",
    "                    \n",
    "            \n",
    "            if possible_dirs >2 :\n",
    "                #print(possible_dirs)\n",
    "                crossroads.add((i,j))\n",
    "                \n",
    "    return(crossroads)"
   ]
  },
  {
   "cell_type": "code",
   "execution_count": 29,
   "id": "2e9faf13",
   "metadata": {},
   "outputs": [],
   "source": [
    "crossroads = path_runner((0,1))"
   ]
  },
  {
   "cell_type": "code",
   "execution_count": 30,
   "id": "6527b65d",
   "metadata": {},
   "outputs": [],
   "source": [
    "def path_lengths(s, start, end):\n",
    "        \n",
    "    # (i,j) tuples for the ol\n",
    "    ol = []\n",
    "    ol.append((0,start,start, 'D'))\n",
    "    \n",
    "    # We call the previous function\n",
    "    crossroads = path_runner(start)\n",
    "    crossroads.add(end)\n",
    "\n",
    "    paths = {}\n",
    "    cl = set()\n",
    "    \n",
    "    while ol:\n",
    "        #print(ol)\n",
    "        cost, prev_crossroad, coords, lastdir = ol[-1]\n",
    "        i, j = coords\n",
    "        ol.pop(-1)\n",
    "        cl.add((i,j))\n",
    "        #print(ol) \n",
    "        #print(cl)\n",
    "        \n",
    "        directions = ['U','D','L','R']\n",
    "        #print(i,j)\n",
    "        \n",
    "        if lastdir =='U':\n",
    "            directions.remove('D')\n",
    "        if lastdir =='D':\n",
    "            directions.remove('U')\n",
    "        if lastdir =='R':\n",
    "            directions.remove('L')\n",
    "        if lastdir =='L' :\n",
    "            directions.remove('R')\n",
    "        #print(ol)\n",
    "        #print (directions)\n",
    "        for way in directions:\n",
    "            #print((prev_crossroad, dir(way,i,j)))\n",
    "            if 0<=dir(way,i,j)[0]<len(s)and 0<dir(way,i,j)[1]<len(s[0]) and s[dir(way,i,j)[0]][dir(way,i,j)[1]] != '#' :\n",
    "             \n",
    "                if dir(way,i,j) not in crossroads and dir(way,i,j) not in cl:\n",
    "                    ol.append((cost+1, prev_crossroad, dir(way,i,j), way))\n",
    "           \n",
    "                elif dir(way,i,j) in crossroads:\n",
    "                    paths[(prev_crossroad, dir(way,i,j))] = cost+1\n",
    "                    ol.append((0, dir(way,i,j), dir(way,i,j), way))\n",
    "            \n",
    "                \n",
    "    return(paths)\n",
    "           \n",
    "                \n",
    "    "
   ]
  },
  {
   "cell_type": "code",
   "execution_count": 31,
   "id": "7e676f4f",
   "metadata": {},
   "outputs": [],
   "source": [
    "pl = path_lengths(s, (0,1), p_end)"
   ]
  },
  {
   "cell_type": "code",
   "execution_count": 32,
   "id": "1d932c2b",
   "metadata": {},
   "outputs": [
    {
     "name": "stdout",
     "output_type": "stream",
     "text": [
      "{((0, 1), (7, 17)): 59, ((7, 17), (19, 35)): 162, ((19, 35), (5, 55)): 174, ((5, 55), (9, 77)): 138, ((9, 77), (17, 107)): 298, ((17, 107), (41, 137)): 426, ((41, 137), (31, 113)): 186, ((31, 113), (31, 75)): 226, ((31, 75), (29, 63)): 34, ((29, 63), (29, 35)): 224, ((29, 35), (43, 5)): 180, ((43, 5), (61, 9)): 102, ((61, 9), (67, 29)): 102, ((67, 29), (59, 67)): 286, ((59, 67), (67, 83)): 88, ((67, 83), (53, 105)): 160, ((53, 105), (55, 137)): 190, ((55, 137), (77, 133)): 126, ((77, 133), (89, 109)): 152, ((89, 109), (79, 89)): 122, ((79, 89), (81, 65)): 126, ((81, 65), (81, 33)): 216, ((81, 33), (75, 17)): 94, ((75, 17), (99, 7)): 138, ((99, 7), (113, 33)): 156, ((113, 33), (113, 59)): 186, ((113, 59), (111, 79)): 114, ((111, 79), (107, 103)): 140, ((107, 103), (105, 131)): 194, ((105, 131), (123, 133)): 104, ((123, 133), (133, 101)): 222, ((133, 101), (133, 75)): 174, ((133, 75), (135, 61)): 80, ((135, 61), (131, 33)): 172, ((131, 33), (99, 7)): 474, ((131, 33), (113, 33)): 78, ((113, 33), (81, 33)): 236, ((81, 33), (67, 29)): 74, ((67, 29), (29, 35)): 252, ((29, 35), (19, 35)): 34, ((135, 61), (113, 59)): 108, ((113, 59), (81, 65)): 166, ((81, 65), (59, 67)): 104, ((59, 67), (29, 63)): 178, ((29, 63), (5, 55)): 128, ((133, 75), (111, 79)): 106, ((111, 79), (79, 89)): 206, ((79, 89), (67, 83)): 70, ((67, 83), (31, 75)): 224, ((31, 75), (9, 77)): 72, ((133, 101), (107, 103)): 128, ((107, 103), (89, 109)): 116, ((89, 109), (53, 105)): 168, ((53, 105), (31, 113)): 114, ((31, 113), (17, 107)): 68, ((123, 133), (140, 139)): 131, ((105, 131), (77, 133)): 198, ((75, 17), (61, 9)): 138, ((55, 137), (41, 137)): 38, ((43, 5), (7, 17)): 228}\n"
     ]
    }
   ],
   "source": [
    "crossroads.add((0,1))\n",
    "print(pl)"
   ]
  },
  {
   "cell_type": "code",
   "execution_count": null,
   "id": "cb69c148",
   "metadata": {},
   "outputs": [],
   "source": [
    "import sys\n",
    "sys.setrecursionlimit(10000000)\n",
    "from copy import deepcopy\n",
    "\n",
    "def longest_path(paths, active, end, visited = set()):\n",
    "    if active == end:\n",
    "        return 0\n",
    "    \n",
    "   \n",
    "    visited.add(active)\n",
    "        \n",
    "    possible_routes = []\n",
    "    back_possible_routes = []\n",
    "        \n",
    "    for path in paths.keys():\n",
    "        if path[0] == active and path[1] not in visited :\n",
    "            possible_routes.append(path)\n",
    "        if path[1] == active and path[0] not in visited:\n",
    "            back_possible_routes.append(path)\n",
    "                \n",
    "    \n",
    "    costs= [-100000]\n",
    "    \n",
    "    for pos_r in possible_routes:\n",
    "        costs.append(paths[pos_r] + longest_path(paths, pos_r[1], end, deepcopy(visited)))\n",
    "        \n",
    "    for pos_r in back_possible_routes:\n",
    "        costs.append(paths[pos_r] + longest_path(paths, pos_r[0], end, deepcopy(visited)))\n",
    "     \n",
    "    return max(costs)\n",
    "\n",
    "longest_path(pl, (0, 1), (22, 21))\n"
   ]
  },
  {
   "cell_type": "code",
   "execution_count": 33,
   "id": "4e39d0d9",
   "metadata": {},
   "outputs": [],
   "source": [
    "from copy import deepcopy\n",
    "\n",
    "def longest_path(paths, start, end):\n",
    "    stack = [(start, set(), 0)]  # (current_position, visited_set, cost)\n",
    "    max_cost = -100000\n",
    "\n",
    "    while stack:\n",
    "        current, visited, cost = stack.pop()\n",
    "\n",
    "        if current == end:\n",
    "            max_cost = max(max_cost, cost)\n",
    "            continue\n",
    "\n",
    "        visited.add(current)\n",
    "        possible_routes = []\n",
    "        back_possible_routes = []\n",
    "        for path in paths.keys():\n",
    "            if path[0] == current and path[1] not in visited:\n",
    "                possible_routes.append(path)\n",
    "            if path[1] == current and path[0] not in visited:\n",
    "                back_possible_routes.append(path) \n",
    "\n",
    "        for pos_f in possible_routes:\n",
    "            new_cost = cost + paths[pos_f]\n",
    "            new_position = pos_f[1]\n",
    "            stack.append((new_position, deepcopy(visited), new_cost))\n",
    "\n",
    "        for pos_b in back_possible_routes:\n",
    "            new_cost = cost + paths[pos_b]\n",
    "            new_position = pos_b[0]\n",
    "            stack.append((new_position, deepcopy(visited), new_cost))\n",
    "\n",
    "    return max_cost\n",
    "\n",
    "\n",
    "\n"
   ]
  },
  {
   "cell_type": "code",
   "execution_count": 34,
   "id": "8d7ad878",
   "metadata": {},
   "outputs": [
    {
     "data": {
      "text/plain": [
       "6494"
      ]
     },
     "execution_count": 34,
     "metadata": {},
     "output_type": "execute_result"
    }
   ],
   "source": [
    "longest_path(pl, (0, 1), p_end)"
   ]
  },
  {
   "cell_type": "code",
   "execution_count": null,
   "id": "a1cc9a5a",
   "metadata": {},
   "outputs": [],
   "source": []
  }
 ],
 "metadata": {
  "kernelspec": {
   "display_name": "Python 3 (ipykernel)",
   "language": "python",
   "name": "python3"
  },
  "language_info": {
   "codemirror_mode": {
    "name": "ipython",
    "version": 3
   },
   "file_extension": ".py",
   "mimetype": "text/x-python",
   "name": "python",
   "nbconvert_exporter": "python",
   "pygments_lexer": "ipython3",
   "version": "3.11.5"
  }
 },
 "nbformat": 4,
 "nbformat_minor": 5
}
