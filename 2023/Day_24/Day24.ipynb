{
 "cells": [
  {
   "cell_type": "code",
   "execution_count": 1,
   "id": "09e35bed",
   "metadata": {},
   "outputs": [],
   "source": [
    "# Separate by line and spaces and turn into integer\n",
    "import re\n",
    "s = []\n",
    "\n",
    "with open('./input.txt', 'r') as file:\n",
    "    file_content = file.read().strip()  \n",
    "individual_strings = file_content.split('\\n')\n",
    "\n",
    "for i, individual_str in enumerate(individual_strings, 1):\n",
    "    word = [int(num) for num in re.split(\", | @ \", individual_str)]\n",
    "    s.append(word)"
   ]
  },
  {
   "cell_type": "code",
   "execution_count": 2,
   "id": "160e60e9",
   "metadata": {},
   "outputs": [
    {
     "data": {
      "text/plain": [
       "[206273907288897, 404536114337943, 197510451330134, -18, 6, 92]"
      ]
     },
     "execution_count": 2,
     "metadata": {},
     "output_type": "execute_result"
    }
   ],
   "source": [
    "s[0]"
   ]
  },
  {
   "cell_type": "code",
   "execution_count": 3,
   "id": "3e01dece",
   "metadata": {},
   "outputs": [],
   "source": [
    "def line_cross(s,i,j):\n",
    "    x1= s[i][0]\n",
    "    y1= s[i][1]\n",
    "    x2= s[i][0] + s[i][3]\n",
    "    y2= s[i][1] + s[i][4]\n",
    "\n",
    "    x3= s[j][0]\n",
    "    y3= s[j][1]\n",
    "    x4= s[j][0] + s[j][3]\n",
    "    y4= s[j][1] + s[j][4]\n",
    "    \n",
    "    if ((x1-x2)*(y3-y4)-(y1-y2)*(x3-x4))==0:\n",
    "        return(0,0)\n",
    "    \n",
    "    px = (((x1*y2 - y1*x2)*(x3-x4))-((x1-x2)*(x3*y4 - y3*x4)))/((x1-x2)*(y3-y4)-(y1-y2)*(x3-x4))\n",
    "    py = (((x1*y2 - y1*x2)*(y3-y4))-((y1-y2)*(x3*y4 - y3*x4)))/((x1-x2)*(y3-y4)-(y1-y2)*(x3-x4))\n",
    "    \n",
    "    \n",
    "    if px<x1<x2 or px<x3<x4 or py<y1<y2 or py<y3<y4:\n",
    "        return(0,0)\n",
    "    \n",
    "    if px>x1>x2 or px>x3>x4 or py>y1>y2 or py>y3>y4:\n",
    "        return(0,0)\n",
    "    \n",
    "    \n",
    "    return(px,py)"
   ]
  },
  {
   "cell_type": "code",
   "execution_count": 4,
   "id": "0b643081",
   "metadata": {},
   "outputs": [
    {
     "name": "stdout",
     "output_type": "stream",
     "text": [
      "12343\n"
     ]
    }
   ],
   "source": [
    "c=0\n",
    "for i in range (0,len(s)):\n",
    "    for j in range(i,len(s)):\n",
    "        if 200000000000000<=line_cross(s,i,j)[0]<=400000000000000 and 200000000000000<=line_cross(s,i,j)[1]<=400000000000000:\n",
    "            c+=1\n",
    "print (c)"
   ]
  },
  {
   "cell_type": "code",
   "execution_count": 5,
   "id": "364d1896",
   "metadata": {},
   "outputs": [],
   "source": [
    "def mini(s):\n",
    "    mini =  2700480721115200000000\n",
    "    mini_1 = 2700480721115200000000\n",
    "    for i in range(len(s)):\n",
    "        if s[i][2]<mini:\n",
    "            mini = s[i][2]\n",
    "            indexmin = i\n",
    "        if s[i][2]+s[i][5]<mini_1:\n",
    "            mini_1 = s[i][2]+s[i][5]\n",
    "            indexmin_1=i\n",
    "    return(indexmin, indexmin_1)\n",
    "\n",
    "def maxi(s):\n",
    "    maxi =  0\n",
    "    maxi_1 = 0\n",
    "    for i in range(len(s)):\n",
    "        if s[i][2]>maxi:\n",
    "            maxi = s[i][2]\n",
    "            indexmax = i\n",
    "        if s[i][2]+s[i][5]>maxi_1:\n",
    "            maxi_1 = s[i][2]+s[i][5]\n",
    "            indexmax_1=i\n",
    "    return(indexmax, indexmax_1)"
   ]
  },
  {
   "cell_type": "code",
   "execution_count": 7,
   "id": "0e801cc0",
   "metadata": {},
   "outputs": [
    {
     "data": {
      "text/plain": [
       "(123, 123)"
      ]
     },
     "execution_count": 7,
     "metadata": {},
     "output_type": "execute_result"
    }
   ],
   "source": [
    "maxi(s)"
   ]
  },
  {
   "cell_type": "code",
   "execution_count": 8,
   "id": "908797eb",
   "metadata": {},
   "outputs": [
    {
     "data": {
      "text/plain": [
       "(142, 142)"
      ]
     },
     "execution_count": 8,
     "metadata": {},
     "output_type": "execute_result"
    }
   ],
   "source": [
    "mini(s)"
   ]
  },
  {
   "cell_type": "code",
   "execution_count": 9,
   "id": "4dd09d5e",
   "metadata": {},
   "outputs": [],
   "source": [
    "min_coords = s[mini(s)[0]]"
   ]
  },
  {
   "cell_type": "code",
   "execution_count": 10,
   "id": "618232b9",
   "metadata": {},
   "outputs": [],
   "source": [
    "max_coords = s[maxi(s)[0]]"
   ]
  },
  {
   "cell_type": "code",
   "execution_count": 11,
   "id": "cdc3a2b6",
   "metadata": {},
   "outputs": [
    {
     "data": {
      "text/plain": [
       "[324357056265514, 228401540993875, 558209719304702, -50, 73, -726]"
      ]
     },
     "execution_count": 11,
     "metadata": {},
     "output_type": "execute_result"
    }
   ],
   "source": [
    "max_coords"
   ]
  },
  {
   "cell_type": "code",
   "execution_count": 12,
   "id": "701f589d",
   "metadata": {},
   "outputs": [
    {
     "data": {
      "text/plain": [
       "[171557716458792, 331108219930163, 11125812972389, 57, 50, 327]"
      ]
     },
     "execution_count": 12,
     "metadata": {},
     "output_type": "execute_result"
    }
   ],
   "source": [
    "s.pop(142)"
   ]
  },
  {
   "cell_type": "code",
   "execution_count": 13,
   "id": "9942f0f5",
   "metadata": {},
   "outputs": [
    {
     "data": {
      "text/plain": [
       "(261, 261)"
      ]
     },
     "execution_count": 13,
     "metadata": {},
     "output_type": "execute_result"
    }
   ],
   "source": [
    "mini(s)"
   ]
  },
  {
   "cell_type": "code",
   "execution_count": 14,
   "id": "07b7a4b7",
   "metadata": {},
   "outputs": [
    {
     "data": {
      "text/plain": [
       "[301185847170242, 448382388969775, 62500955631858, 67, -664, 586]"
      ]
     },
     "execution_count": 14,
     "metadata": {},
     "output_type": "execute_result"
    }
   ],
   "source": [
    "s[261]"
   ]
  },
  {
   "cell_type": "code",
   "execution_count": 15,
   "id": "3836333e",
   "metadata": {},
   "outputs": [
    {
     "data": {
      "text/plain": [
       "[171557716458792, 331108219930163, 11125812972389, 57, 50, 327]"
      ]
     },
     "execution_count": 15,
     "metadata": {},
     "output_type": "execute_result"
    }
   ],
   "source": [
    "min_coords"
   ]
  },
  {
   "cell_type": "code",
   "execution_count": 16,
   "id": "4e470b38",
   "metadata": {},
   "outputs": [],
   "source": [
    "xvelo = (s[261][2]+(s[261][5])*2)-(min_coords[2]+min_coords[5])\n",
    "yvelo = (s[261][1]+(s[261][4])*2)-(min_coords[1]+min_coords[4])\n",
    "zvelo = (s[261][0]+(s[261][3])*2)-(min_coords[0]+min_coords[3])"
   ]
  },
  {
   "cell_type": "code",
   "execution_count": 17,
   "id": "a3885309",
   "metadata": {},
   "outputs": [
    {
     "data": {
      "text/plain": [
       "-40249329687598"
      ]
     },
     "execution_count": 17,
     "metadata": {},
     "output_type": "execute_result"
    }
   ],
   "source": [
    "(min_coords[2]+min_coords[5]) - xvelo "
   ]
  },
  {
   "cell_type": "code",
   "execution_count": 18,
   "id": "e8a5011e",
   "metadata": {},
   "outputs": [
    {
     "data": {
      "text/plain": [
       "213834050891979"
      ]
     },
     "execution_count": 18,
     "metadata": {},
     "output_type": "execute_result"
    }
   ],
   "source": [
    "(min_coords[1]+min_coords[4]) - yvelo"
   ]
  },
  {
   "cell_type": "code",
   "execution_count": 19,
   "id": "559a0b20",
   "metadata": {},
   "outputs": [
    {
     "data": {
      "text/plain": [
       "41929585747322"
      ]
     },
     "execution_count": 19,
     "metadata": {},
     "output_type": "execute_result"
    }
   ],
   "source": [
    "(min_coords[0]+min_coords[3])-zvelo"
   ]
  },
  {
   "cell_type": "code",
   "execution_count": 20,
   "id": "9828339d",
   "metadata": {},
   "outputs": [
    {
     "data": {
      "text/plain": [
       "215514306951703"
      ]
     },
     "execution_count": 20,
     "metadata": {},
     "output_type": "execute_result"
    }
   ],
   "source": [
    "213834050891979+41929585747322-40249329687598"
   ]
  },
  {
   "cell_type": "code",
   "execution_count": null,
   "id": "765553a7",
   "metadata": {},
   "outputs": [],
   "source": []
  }
 ],
 "metadata": {
  "kernelspec": {
   "display_name": "Python 3 (ipykernel)",
   "language": "python",
   "name": "python3"
  },
  "language_info": {
   "codemirror_mode": {
    "name": "ipython",
    "version": 3
   },
   "file_extension": ".py",
   "mimetype": "text/x-python",
   "name": "python",
   "nbconvert_exporter": "python",
   "pygments_lexer": "ipython3",
   "version": "3.11.5"
  }
 },
 "nbformat": 4,
 "nbformat_minor": 5
}
