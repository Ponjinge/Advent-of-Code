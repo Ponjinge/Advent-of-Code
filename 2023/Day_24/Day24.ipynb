{
 "cells": [
  {
   "cell_type": "markdown",
   "id": "e4f902bc",
   "metadata": {},
   "source": [
    "# Day 24\n",
    "## Part 1"
   ]
  },
  {
   "cell_type": "code",
   "execution_count": 4,
   "id": "425ba0fc",
   "metadata": {},
   "outputs": [],
   "source": [
    "# Separate by line and spaces and turn into integer\n",
    "import re\n",
    "s = []\n",
    "\n",
    "with open('./test.txt', 'r') as file:\n",
    "    file_content = file.read().strip()  \n",
    "individual_strings = file_content.split('\\n')\n",
    "\n",
    "for i, individual_str in enumerate(individual_strings, 1):\n",
    "    word = [int(num) for num in re.split(\", | @ \", individual_str)]\n",
    "    s.append(word)"
   ]
  },
  {
   "cell_type": "code",
   "execution_count": 6,
   "id": "160e60e9",
   "metadata": {},
   "outputs": [
    {
     "data": {
      "text/plain": [
       "[[19, 13, 30, -2, 1, -2],\n",
       " [18, 19, 22, -1, -1, -2],\n",
       " [20, 25, 34, -2, -2, -4],\n",
       " [12, 31, 28, -1, -2, -1],\n",
       " [20, 19, 15, 1, -5, -3]]"
      ]
     },
     "execution_count": 6,
     "metadata": {},
     "output_type": "execute_result"
    }
   ],
   "source": [
    "s"
   ]
  },
  {
   "cell_type": "code",
   "execution_count": 3,
   "id": "3e01dece",
   "metadata": {},
   "outputs": [],
   "source": [
    "def line_cross(s,i,j):\n",
    "    x1= s[i][0]\n",
    "    y1= s[i][1]\n",
    "    x2= s[i][0] + s[i][3]\n",
    "    y2= s[i][1] + s[i][4]\n",
    "\n",
    "    x3= s[j][0]\n",
    "    y3= s[j][1]\n",
    "    x4= s[j][0] + s[j][3]\n",
    "    y4= s[j][1] + s[j][4]\n",
    "    \n",
    "    if ((x1-x2)*(y3-y4)-(y1-y2)*(x3-x4))==0:\n",
    "        return(0,0)\n",
    "    \n",
    "    px = (((x1*y2 - y1*x2)*(x3-x4))-((x1-x2)*(x3*y4 - y3*x4)))/((x1-x2)*(y3-y4)-(y1-y2)*(x3-x4))\n",
    "    py = (((x1*y2 - y1*x2)*(y3-y4))-((y1-y2)*(x3*y4 - y3*x4)))/((x1-x2)*(y3-y4)-(y1-y2)*(x3-x4))\n",
    "    \n",
    "    \n",
    "    if px<x1<x2 or px<x3<x4 or py<y1<y2 or py<y3<y4:\n",
    "        return(0,0)\n",
    "    \n",
    "    if px>x1>x2 or px>x3>x4 or py>y1>y2 or py>y3>y4:\n",
    "        return(0,0)\n",
    "    \n",
    "    \n",
    "    return(px,py)"
   ]
  },
  {
   "cell_type": "code",
   "execution_count": 4,
   "id": "0b643081",
   "metadata": {},
   "outputs": [
    {
     "name": "stdout",
     "output_type": "stream",
     "text": [
      "0\n"
     ]
    }
   ],
   "source": [
    "c=0\n",
    "for i in range (0,len(s)):\n",
    "    for j in range(i,len(s)):\n",
    "        if 200000000000000<=line_cross(s,i,j)[0]<=400000000000000 and 200000000000000<=line_cross(s,i,j)[1]<=400000000000000:\n",
    "            c+=1\n",
    "print (c)"
   ]
  },
  {
   "cell_type": "markdown",
   "id": "8ca226e1",
   "metadata": {},
   "source": [
    "## Part 2"
   ]
  },
  {
   "cell_type": "code",
   "execution_count": 27,
   "id": "0e5704f6",
   "metadata": {},
   "outputs": [],
   "source": [
    "for i in range (len(s)):\n",
    "    for k in range(3, len(s[i])):\n",
    "        s[i][k] = s[i][k] * 10\n"
   ]
  },
  {
   "cell_type": "code",
   "execution_count": 28,
   "id": "a5a9aaf7",
   "metadata": {},
   "outputs": [
    {
     "data": {
      "text/plain": [
       "[[19, 13, 30, -20, 10, -20],\n",
       " [18, 19, 22, -10, -10, -20],\n",
       " [20, 25, 34, -20, -20, -40],\n",
       " [12, 31, 28, -10, -20, -10],\n",
       " [20, 19, 15, 10, -50, -30]]"
      ]
     },
     "execution_count": 28,
     "metadata": {},
     "output_type": "execute_result"
    }
   ],
   "source": [
    "s"
   ]
  },
  {
   "cell_type": "markdown",
   "id": "7eeb2686",
   "metadata": {},
   "source": [
    "#### At 't' crossing time of the shot S and a snowball A\n",
    "\n",
    "t = (x0_s - x0_a) / (cx_a - cx_s) \n",
    "\n",
    "t = (y0_s - y0_a) / (cy_a - cy_s) \n",
    "\n",
    "t = (z0_s - z0_a) / (cz_a - cz_s) "
   ]
  },
  {
   "cell_type": "code",
   "execution_count": 35,
   "id": "51ca1721",
   "metadata": {},
   "outputs": [],
   "source": [
    "import sympy\n",
    "\n",
    "\n",
    "def solver(s,k):\n",
    "    \n",
    "    x, y, z, cx, cy, cz = sympy.symbols('x, y, z, cx, cy, cz ')\n",
    "    \n",
    "    eqs = []\n",
    "   \n",
    "    for i in range (k):\n",
    "        \n",
    "        x0 = s[i][0] \n",
    "        y0 = s[i][1]\n",
    "        z0 = s[i][2]\n",
    "        cx0 = s[i][3]\n",
    "        cy0= s[i][4]\n",
    "        cz0 = s[i][5]\n",
    "        \n",
    "        #Doesnt work with '==0', remove it \n",
    "        \n",
    "        eqs.append( (x - x0) * (cy0 - cy) - (cx0 - cx) * (y - y0) )  \n",
    "        eqs.append( (y - y0) * (cz0 - cz) - (z - z0) * (cy0 - cy) )\n",
    "    \n",
    "    solution = sympy.solve(eqs)\n",
    "    print(solution)"
   ]
  },
  {
   "cell_type": "code",
   "execution_count": 32,
   "id": "85733ead",
   "metadata": {},
   "outputs": [
    {
     "name": "stdout",
     "output_type": "stream",
     "text": [
      "[{cx: -3, cy: 1, cz: 2, x: 24, y: 13, z: 10}]\n"
     ]
    }
   ],
   "source": [
    "solver(s,5)"
   ]
  },
  {
   "cell_type": "code",
   "execution_count": 33,
   "id": "8f6f4c0a",
   "metadata": {},
   "outputs": [],
   "source": [
    "# Separate by line and spaces and turn into integer\n",
    "import re\n",
    "s = []\n",
    "\n",
    "with open('./input.txt', 'r') as file:\n",
    "    file_content = file.read().strip()  \n",
    "individual_strings = file_content.split('\\n')\n",
    "\n",
    "for i, individual_str in enumerate(individual_strings, 1):\n",
    "    word = [int(num) for num in re.split(\", | @ \", individual_str)]\n",
    "    s.append(word)"
   ]
  },
  {
   "cell_type": "code",
   "execution_count": 38,
   "id": "c31ce023",
   "metadata": {},
   "outputs": [
    {
     "name": "stdout",
     "output_type": "stream",
     "text": [
      "[{cx: -213, cy: 282, cz: 52, x: 391948057347762, y: 141735778870011, z: 235597456470414}]\n"
     ]
    }
   ],
   "source": [
    "solver(s,45)"
   ]
  },
  {
   "cell_type": "code",
   "execution_count": 39,
   "id": "c3630f1e",
   "metadata": {},
   "outputs": [
    {
     "data": {
      "text/plain": [
       "769281292688187"
      ]
     },
     "execution_count": 39,
     "metadata": {},
     "output_type": "execute_result"
    }
   ],
   "source": [
    "391948057347762+141735778870011+235597456470414"
   ]
  },
  {
   "cell_type": "code",
   "execution_count": null,
   "id": "bab3b6c9",
   "metadata": {},
   "outputs": [],
   "source": []
  }
 ],
 "metadata": {
  "kernelspec": {
   "display_name": "Python 3 (ipykernel)",
   "language": "python",
   "name": "python3"
  },
  "language_info": {
   "codemirror_mode": {
    "name": "ipython",
    "version": 3
   },
   "file_extension": ".py",
   "mimetype": "text/x-python",
   "name": "python",
   "nbconvert_exporter": "python",
   "pygments_lexer": "ipython3",
   "version": "3.11.5"
  }
 },
 "nbformat": 4,
 "nbformat_minor": 5
}
