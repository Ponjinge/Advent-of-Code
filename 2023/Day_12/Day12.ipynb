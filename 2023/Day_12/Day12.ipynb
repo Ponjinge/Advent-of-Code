{
 "cells": [
  {
   "cell_type": "code",
   "execution_count": 142,
   "metadata": {},
   "outputs": [],
   "source": [
    "#Boilerplate 1 \n",
    "import re \n",
    "s = []\n",
    "n = []\n",
    "with open('./input.txt', 'r') as file:\n",
    "    file_content = file.read().strip()  \n",
    "individual_strings = file_content.split('\\n')\n",
    "for i, line in enumerate(individual_strings, 1):\n",
    "    word = [*line]\n",
    "    word2 = re.findall(r'\\d+', line)\n",
    "    s.append(word)\n",
    "    n.append(word2)"
   ]
  },
  {
   "cell_type": "code",
   "execution_count": 143,
   "metadata": {},
   "outputs": [],
   "source": [
    "for i in range (len(n)):\n",
    "    for j in range (len(n[i])):\n",
    "        n[i][j]= int(n[i][j])"
   ]
  },
  {
   "cell_type": "code",
   "execution_count": 144,
   "metadata": {},
   "outputs": [],
   "source": [
    "for i in range (len(s)):\n",
    "    for j in range (len(s[i])-1, -1, -1):\n",
    "        if s[i][j] not in '?#.':\n",
    "            s[i].pop(j)\n",
    "            j-=1"
   ]
  },
  {
   "cell_type": "code",
   "execution_count": 145,
   "metadata": {},
   "outputs": [],
   "source": [
    "pset = set()\n",
    "bset = set()\n",
    "wset = set()\n",
    "pls = []\n",
    "for i in range(len(s)):\n",
    "    pl = []\n",
    "    for j in range(len(s[i])):\n",
    "        if s [i][j] in '#':\n",
    "            bset.add((i,j))\n",
    "        elif s[i][j] in '?':\n",
    "            pset.add((i,j))\n",
    "            pl.append(0)\n",
    "        elif s[i][j] in '.':\n",
    "            wset.add((i,j))\n",
    "    pls.append(pl)"
   ]
  },
  {
   "cell_type": "code",
   "execution_count": 146,
   "metadata": {},
   "outputs": [],
   "source": [
    "\n",
    "rats=[]\n",
    "for i in range(len(pls)):\n",
    "#pos combs \n",
    "    rat=[]\n",
    "    r =[]\n",
    "    for z in range(len(pls[i])):\n",
    "        r.append(pls[i][z])\n",
    "    rat.append(r)\n",
    "    while any(v != 1 for v in pls[i]):\n",
    "        r = []\n",
    "        counter = 1\n",
    "        m=0\n",
    "        while counter >0:\n",
    "            if pls[i][m] == 0 :\n",
    "                pls[i][m]=1\n",
    "                counter = 0\n",
    "            else:\n",
    "                pls[i][m]=0\n",
    "                counter = 1\n",
    "            m+=1\n",
    "         \n",
    "        for z in range(len(pls[i])):\n",
    "            r.append(pls[i][z])\n",
    "        rat.append(r)\n",
    "    rats.append(rat)\n",
    "    "
   ]
  },
  {
   "cell_type": "code",
   "execution_count": 147,
   "metadata": {},
   "outputs": [],
   "source": [
    "for i in range (len(s)):\n",
    "    if 2**len(pls[i]) != len(rats[i]):\n",
    "        print( False)"
   ]
  },
  {
   "cell_type": "code",
   "execution_count": 148,
   "metadata": {},
   "outputs": [],
   "source": [
    "sumo = []\n",
    "for i in range(len(s)):\n",
    "    se = 0\n",
    "    for y in range(len (rats[i])):\n",
    "        counti = []\n",
    "        counter = 0\n",
    "        rodent = 0\n",
    "        g = 0\n",
    "        for j in range (len(s[i])):\n",
    "            if s[i][j] in '#' :\n",
    "                counter += 1\n",
    "                g =1\n",
    "            if s[i][j] in '?':\n",
    "                if rats[i][y][rodent]==1:\n",
    "                    counter +=1\n",
    "                    g=1\n",
    "                \n",
    "                else:\n",
    "                    if g == 1:\n",
    "                        counti.append(counter)\n",
    "                    counter = 0\n",
    "                    g = 0\n",
    "                rodent +=1\n",
    "       \n",
    "            if s[i][j] in '.' : \n",
    "                if g == 1:\n",
    "                    counti.append(counter)\n",
    "                counter = 0\n",
    "                g =0\n",
    "        if counter > 0:\n",
    "            counti.append(counter)\n",
    "        #print(counti)\n",
    "        #print(n[i])\n",
    "        if len(n[i])== len(counti):\n",
    "            condition = True\n",
    "            for x in range(len(n[i])):\n",
    "                    if n[i][x] != counti[x]:\n",
    "                        condition = False\n",
    "            if condition == True:\n",
    "                   se+=1\n",
    "    sumo.append(se)\n",
    "        \n",
    "    "
   ]
  },
  {
   "cell_type": "code",
   "execution_count": null,
   "metadata": {},
   "outputs": [],
   "source": [
    "del sum"
   ]
  },
  {
   "cell_type": "code",
   "execution_count": 150,
   "metadata": {},
   "outputs": [
    {
     "data": {
      "text/plain": [
       "7541"
      ]
     },
     "execution_count": 150,
     "metadata": {},
     "output_type": "execute_result"
    }
   ],
   "source": [
    "sum(sumo)"
   ]
  },
  {
   "cell_type": "markdown",
   "metadata": {},
   "source": [
    "# Part 2"
   ]
  },
  {
   "cell_type": "code",
   "execution_count": 211,
   "metadata": {},
   "outputs": [],
   "source": [
    "from functools import lru_cache \n",
    "\n",
    "@lru_cache(maxsize = None)\n",
    "def solutions(s, n, hc):\n",
    "    s = list(s)\n",
    "    n = list(n)\n",
    "    #print(s,n, hc) \n",
    "    for i in range(0, len(s)):\n",
    "        if len(n)<1:\n",
    "            if '#' in s[i:]:\n",
    "                #print('All numbs done, but still #')\n",
    "                return 0\n",
    "            else:\n",
    "                #print('All numbs done, no more #')\n",
    "                return 1\n",
    "        \n",
    "        \n",
    "        if s[i]=='#': # if the next tile is a '#'\n",
    "            hc+=1 # We add 1 to our ongoing number \n",
    "            #print(n)\n",
    "            if hc>n[0]: #If we go over the desired number\n",
    "                #print('Over N0')\n",
    "                return 0 # We cut these branches \n",
    "               \n",
    "        \n",
    "        if s[i]=='.': # if the next tile is a '.'\n",
    "            if hc>0:\n",
    "                if hc !=n[0]: # We check if the now finished number is the next in the list of numbers \n",
    "                    #print('Different from target')\n",
    "                    return 0 # If not we 'cut these branches'\n",
    "    \n",
    "                else:\n",
    "                    hc=0 # Else we reset the count\n",
    "                    n.pop(0) #and remove the current number in the line up \n",
    "                \n",
    "        if s[i]=='?':\n",
    "            #print('Add #')\n",
    "            hc1 =hc\n",
    "            hc2 = hc\n",
    "            n1=n.copy()\n",
    "            n2=n.copy()\n",
    "            x = solutions(tuple(['#']+s[i+1:]),tuple(n1), hc1) # '#' assumption\n",
    "            #print('Add .')\n",
    "            y = solutions(tuple(['.']+s[i+1:]),tuple(n2), hc2) # '.' assumption \n",
    "            return(x+y) \n",
    "    #print(len(n), hc)\n",
    "    if (len(n)==1 and hc==n[0]) or (len(n)<1 and hc==0) :\n",
    "        return 1\n",
    "    \n",
    "    #print(\"Nothing left in list\")\n",
    "    return 0"
   ]
  },
  {
   "cell_type": "code",
   "execution_count": 213,
   "metadata": {},
   "outputs": [
    {
     "name": "stdout",
     "output_type": "stream",
     "text": [
      "--- 0.024833202362060547 seconds ---\n"
     ]
    }
   ],
   "source": [
    "import time\n",
    "start_time = time.time()\n",
    "\n",
    "\n",
    "\n",
    "import re \n",
    "s = []\n",
    "n = []\n",
    "sum_sols=[]\n",
    "with open('./input.txt', 'r') as file:\n",
    "    file_content = file.read().strip()  \n",
    "individual_strings = file_content.split('\\n')\n",
    "for i, line in enumerate(individual_strings, 1):\n",
    "    sa = [*line]\n",
    "    for j in range (len(sa)-1, -1, -1):\n",
    "        if sa[j] not in '?#.':\n",
    "            sa.pop(j)\n",
    "            j-=1\n",
    "    \n",
    "    na = re.findall(r'\\d+', line)\n",
    "    for j in range (len(na)):\n",
    "        na[j]= int(na[j])\n",
    "    \n",
    "    sa= sa+['?']+sa+['?']+sa+['?']+sa+['?']+sa\n",
    "    na= na+na+na+na+na \n",
    "    #print(sa)\n",
    "    #print(na)\n",
    "    sum_sols.append(solutions(tuple(sa),tuple(na),0))\n",
    "\n",
    "\n",
    "print(\"--- %s seconds ---\" % (time.time() - start_time))"
   ]
  },
  {
   "cell_type": "code",
   "execution_count": 209,
   "metadata": {},
   "outputs": [
    {
     "data": {
      "text/plain": [
       "17485169859432"
      ]
     },
     "execution_count": 209,
     "metadata": {},
     "output_type": "execute_result"
    }
   ],
   "source": [
    "sum(sum_sols)"
   ]
  },
  {
   "cell_type": "code",
   "execution_count": 210,
   "metadata": {},
   "outputs": [
    {
     "data": {
      "text/plain": [
       "1000"
      ]
     },
     "execution_count": 210,
     "metadata": {},
     "output_type": "execute_result"
    }
   ],
   "source": [
    "len(sum_sols)"
   ]
  },
  {
   "cell_type": "code",
   "execution_count": 183,
   "metadata": {},
   "outputs": [],
   "source": [
    "#Test answers for question 1 \n",
    "for i in range(len(sum_sols)):\n",
    "    if sum_sols[i] != sumo[i] :\n",
    "        print(i)"
   ]
  },
  {
   "cell_type": "code",
   "execution_count": null,
   "metadata": {},
   "outputs": [],
   "source": []
  }
 ],
 "metadata": {
  "kernelspec": {
   "display_name": "Python 3 (ipykernel)",
   "language": "python",
   "name": "python3"
  },
  "language_info": {
   "codemirror_mode": {
    "name": "ipython",
    "version": 3
   },
   "file_extension": ".py",
   "mimetype": "text/x-python",
   "name": "python",
   "nbconvert_exporter": "python",
   "pygments_lexer": "ipython3",
   "version": "3.11.5"
  }
 },
 "nbformat": 4,
 "nbformat_minor": 4
}
