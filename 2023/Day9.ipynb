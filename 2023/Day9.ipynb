{
 "cells": [
  {
   "cell_type": "code",
   "execution_count": 135,
   "metadata": {},
   "outputs": [],
   "source": [
    "import re\n",
    "s = []\n",
    "\n",
    "with open('./input.txt', 'r') as file:\n",
    "    file_content = file.read().strip()  \n",
    "individual_strings = file_content.split('\\n')\n",
    "\n",
    "for i, individual_str in enumerate(individual_strings, 1):\n",
    "    word = [int(num) for num in re.split(\" \", individual_str)]\n",
    "    s.append(word)"
   ]
  },
  {
   "cell_type": "code",
   "execution_count": 136,
   "metadata": {},
   "outputs": [
    {
     "data": {
      "text/plain": [
       "200"
      ]
     },
     "execution_count": 136,
     "metadata": {},
     "output_type": "execute_result"
    }
   ],
   "source": [
    "len(s)"
   ]
  },
  {
   "cell_type": "code",
   "execution_count": 137,
   "metadata": {},
   "outputs": [
    {
     "name": "stdout",
     "output_type": "stream",
     "text": [
      "2038472161\n"
     ]
    }
   ],
   "source": [
    "sols = []\n",
    "for i in range(len(s)):\n",
    "    c = []\n",
    "    a = []\n",
    "    for j in range(len(s[i]) - 1):\n",
    "        d = s[i][j + 1] - s[i][j]\n",
    "        c.append(d)\n",
    "    a.append(c)\n",
    "    del c\n",
    "    k = 0\n",
    "    loop = 0\n",
    "    while loop == 0:\n",
    "        c = []\n",
    "        for m in range(len(a[k]) - 1):\n",
    "            c.append(a[k][m + 1] - a[k][m])\n",
    "        a.append(c)\n",
    "        del c\n",
    "        k += 1\n",
    "        if all(v == 0 for v in a[k][-4:]):\n",
    "            loop = 1\n",
    "    sol = 0\n",
    "    for n in range(len(a) - 2, -1, -1):\n",
    "        sol = a[n][len(a[n]) - 1] + sol\n",
    "    sol = s[i][len(s[i]) - 1] + sol\n",
    "    sols.append(sol)\n",
    "    del a\n",
    "\n",
    "print(sum(sols))\n"
   ]
  },
  {
   "cell_type": "code",
   "execution_count": 138,
   "metadata": {
    "scrolled": true
   },
   "outputs": [
    {
     "name": "stdout",
     "output_type": "stream",
     "text": [
      "[8, 5, 15, 61, 188, 492, 1161, 2523, 5091, 9586, 16903, 27954, 43260, 62044, 80358, 87401, 58574, -57129, -359205, -1033041, -2411304]\n",
      "-5071864\n",
      "[1, 13, 53, 139, 303, 597, 1102, 1942, 3310, 5528, 9188, 15456, 26666, 47386, 86203, 158549, 290975, 527375, 937767, 1630353, 2767705]\n",
      "4588059\n",
      "[14, 26, 38, 50, 62, 74, 86, 98, 110, 122, 134, 146, 158, 170, 182, 194, 206, 218, 230, 242, 254]\n",
      "266\n",
      "[22, 34, 54, 102, 210, 433, 873, 1721, 3325, 6294, 11650, 21042, 37040, 63544, 106402, 174488, 281836, 452086, 727634, 1187674, 1981962]\n",
      "3390775\n",
      "[-1, 7, 18, 26, 31, 49, 132, 407, 1141, 2844, 6445, 13628, 27507, 53962, 104163, 199087, 377195, 706893, 1305964, 2370838, 4219375]\n",
      "7351783\n",
      "[14, 25, 53, 114, 230, 440, 837, 1648, 3375, 7017, 14404, 28710, 55306, 103330, 188803, 340996, 615344, 1118937, 2059099, 3832618, 7183906]\n",
      "13476164\n",
      "[11, 17, 24, 25, 22, 44, 170, 570, 1595, 3984, 9336, 21163, 47176, 104104, 227581, 491997, 1049739, 2207916, 4577110, 9357568, 18885542]\n",
      "37667581\n",
      "[13, 30, 66, 143, 303, 618, 1197, 2189, 3794, 6315, 10322, 17076, 29512, 54353, 106383, 216620, 447187, 917180, 1845890, 3622477, 6914757]\n",
      "12834300\n",
      "[23, 45, 90, 175, 319, 541, 858, 1295, 1931, 3010, 5145, 9649, 19071, 38152, 75731, 148745, 290543, 567483, 1110468, 2172027, 4225151]\n",
      "8127815\n",
      "[24, 32, 35, 33, 26, 14, -3, -25, -52, -84, -121, -163, -210, -262, -319, -381, -448, -520, -597, -679, -766]\n",
      "-858\n"
     ]
    }
   ],
   "source": [
    "for i in range(190,200):\n",
    "    print(s[i])\n",
    "    print (sols[i])"
   ]
  },
  {
   "cell_type": "code",
   "execution_count": 139,
   "metadata": {},
   "outputs": [
    {
     "name": "stdout",
     "output_type": "stream",
     "text": [
      "1091\n"
     ]
    }
   ],
   "source": [
    "sols = []\n",
    "for i in range(len(s)):\n",
    "    c = []\n",
    "    a = []\n",
    "    for j in range(len(s[i]) - 1):\n",
    "        d = s[i][j + 1] - s[i][j]\n",
    "        c.append(d)\n",
    "    a.append(c)\n",
    "    del c\n",
    "    k = 0\n",
    "    loop = 0\n",
    "    while loop == 0:\n",
    "        c = []\n",
    "        for m in range(len(a[k]) - 1):\n",
    "            c.append(a[k][m + 1] - a[k][m])\n",
    "        a.append(c)\n",
    "        del c\n",
    "        k += 1\n",
    "        if all(v == 0 for v in a[k]):\n",
    "            loop = 1\n",
    "    sol = 0\n",
    "    for n in range(len(a) - 2, -1, -1):\n",
    "        sol = a[n][0]-sol\n",
    "    sol = s[i][0] - sol\n",
    "    sols.append(sol)\n",
    "    del a\n",
    "\n",
    "print(sum(sols))\n"
   ]
  },
  {
   "cell_type": "code",
   "execution_count": 124,
   "metadata": {},
   "outputs": [
    {
     "data": {
      "text/plain": [
       "200"
      ]
     },
     "execution_count": 124,
     "metadata": {},
     "output_type": "execute_result"
    }
   ],
   "source": [
    "len(sols)"
   ]
  },
  {
   "cell_type": "code",
   "execution_count": 125,
   "metadata": {},
   "outputs": [
    {
     "data": {
      "text/plain": [
       "200"
      ]
     },
     "execution_count": 125,
     "metadata": {},
     "output_type": "execute_result"
    }
   ],
   "source": [
    "len(s)"
   ]
  },
  {
   "cell_type": "code",
   "execution_count": 115,
   "metadata": {},
   "outputs": [
    {
     "data": {
      "text/plain": [
       "[]"
      ]
     },
     "execution_count": 115,
     "metadata": {},
     "output_type": "execute_result"
    }
   ],
   "source": [
    " sols"
   ]
  },
  {
   "cell_type": "code",
   "execution_count": null,
   "metadata": {},
   "outputs": [],
   "source": []
  }
 ],
 "metadata": {
  "kernelspec": {
   "display_name": "Python 3 (ipykernel)",
   "language": "python",
   "name": "python3"
  },
  "language_info": {
   "codemirror_mode": {
    "name": "ipython",
    "version": 3
   },
   "file_extension": ".py",
   "mimetype": "text/x-python",
   "name": "python",
   "nbconvert_exporter": "python",
   "pygments_lexer": "ipython3",
   "version": "3.11.5"
  }
 },
 "nbformat": 4,
 "nbformat_minor": 4
}
