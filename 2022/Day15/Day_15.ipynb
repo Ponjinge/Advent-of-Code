{
 "cells": [
  {
   "cell_type": "code",
   "execution_count": 18,
   "metadata": {},
   "outputs": [],
   "source": [
    "import re\n",
    "\n",
    "lin = []\n",
    "\n",
    "with open('./input.txt', 'r') as file:\n",
    "    file_content = file.read().strip()  # Read the file content and remove leading/trailing whitespaces\n",
    "\n",
    "# Split the content based on empty lines\n",
    "individual_strings = file_content.split('\\n')\n",
    "\n",
    "# Process each individual\n",
    "for i, individual_str in enumerate(individual_strings, 1):\n",
    "    # Convert lines to integers and add them to the individuals list\n",
    "    numbers = [int(num) for num in re.findall(r'\\d+', individual_str)]\n",
    "    lin.append(numbers)"
   ]
  },
  {
   "cell_type": "code",
   "execution_count": null,
   "metadata": {},
   "outputs": [],
   "source": []
  },
  {
   "cell_type": "code",
   "execution_count": 19,
   "metadata": {},
   "outputs": [],
   "source": [
    "dists=[]\n",
    "for i in range(len(lin)):\n",
    "    dist = abs(lin[i][0]-lin[i][2])+abs(lin[i][1]-lin[i][3])\n",
    "    dists.append(dist)"
   ]
  },
  {
   "cell_type": "code",
   "execution_count": 25,
   "metadata": {},
   "outputs": [
    {
     "ename": "MemoryError",
     "evalue": "",
     "output_type": "error",
     "traceback": [
      "\u001b[1;31m---------------------------------------------------------------------------\u001b[0m",
      "\u001b[1;31mMemoryError\u001b[0m                               Traceback (most recent call last)",
      "Cell \u001b[1;32mIn[25], line 8\u001b[0m\n\u001b[0;32m      6\u001b[0m \u001b[38;5;28;01mfor\u001b[39;00m m \u001b[38;5;129;01min\u001b[39;00m \u001b[38;5;28mrange\u001b[39m(\u001b[38;5;241m0\u001b[39m,spread\u001b[38;5;241m+\u001b[39m\u001b[38;5;241m1\u001b[39m):\n\u001b[0;32m      7\u001b[0m     notPos\u001b[38;5;241m.\u001b[39mappend((j,lin[i][\u001b[38;5;241m1\u001b[39m]\u001b[38;5;241m+\u001b[39mm))\n\u001b[1;32m----> 8\u001b[0m     \u001b[43mnotPos\u001b[49m\u001b[38;5;241;43m.\u001b[39;49m\u001b[43mappend\u001b[49m\u001b[43m(\u001b[49m\u001b[43m(\u001b[49m\u001b[43mj\u001b[49m\u001b[43m,\u001b[49m\u001b[43mlin\u001b[49m\u001b[43m[\u001b[49m\u001b[43mi\u001b[49m\u001b[43m]\u001b[49m\u001b[43m[\u001b[49m\u001b[38;5;241;43m1\u001b[39;49m\u001b[43m]\u001b[49m\u001b[38;5;241;43m-\u001b[39;49m\u001b[43mm\u001b[49m\u001b[43m)\u001b[49m\u001b[43m)\u001b[49m\n\u001b[0;32m      9\u001b[0m spread\u001b[38;5;241m+\u001b[39m\u001b[38;5;241m=\u001b[39m\u001b[38;5;241m1\u001b[39m\n\u001b[0;32m     10\u001b[0m j\u001b[38;5;241m-\u001b[39m\u001b[38;5;241m=\u001b[39m\u001b[38;5;241m1\u001b[39m\n",
      "\u001b[1;31mMemoryError\u001b[0m: "
     ]
    }
   ],
   "source": [
    "#This is not possible because of the size of the dataset\n",
    "notPos= \n",
    "for i in range(len(lin)):\n",
    "    j,k = lin[i][0]+dists[i],0\n",
    "    spread = 0\n",
    "    while j>=lin[i][0]:\n",
    "        for m in range(0,spread+1):\n",
    "            notPos.append((j,lin[i][1]+m))\n",
    "            notPos.append((j,lin[i][1]-m))\n",
    "            notPos.append((j,lin[i][1]+m))\n",
    "            notPos.append((j,lin[i][1]-m))\n",
    "        spread+=1\n",
    "        j-=1\n"
   ]
  },
  {
   "cell_type": "code",
   "execution_count": 30,
   "metadata": {},
   "outputs": [],
   "source": [
    "del notPos"
   ]
  },
  {
   "cell_type": "code",
   "execution_count": 32,
   "metadata": {},
   "outputs": [
    {
     "ename": "KeyboardInterrupt",
     "evalue": "",
     "output_type": "error",
     "traceback": [
      "\u001b[1;31m---------------------------------------------------------------------------\u001b[0m",
      "\u001b[1;31mKeyboardInterrupt\u001b[0m                         Traceback (most recent call last)",
      "Cell \u001b[1;32mIn[32], line 7\u001b[0m\n\u001b[0;32m      5\u001b[0m \u001b[38;5;28;01mwhile\u001b[39;00m j\u001b[38;5;241m>\u001b[39m\u001b[38;5;241m=\u001b[39mlin[i][\u001b[38;5;241m0\u001b[39m]:\n\u001b[0;32m      6\u001b[0m     \u001b[38;5;28;01mfor\u001b[39;00m m \u001b[38;5;129;01min\u001b[39;00m \u001b[38;5;28mrange\u001b[39m(\u001b[38;5;241m0\u001b[39m,spread\u001b[38;5;241m+\u001b[39m\u001b[38;5;241m1\u001b[39m):\n\u001b[1;32m----> 7\u001b[0m         \u001b[38;5;28;01mif\u001b[39;00m ((lin[\u001b[43mi\u001b[49m][\u001b[38;5;241m1\u001b[39m]\u001b[38;5;241m+\u001b[39mm) \u001b[38;5;241m==\u001b[39m \u001b[38;5;241m2000000\u001b[39m \u001b[38;5;129;01mor\u001b[39;00m (lin[i][\u001b[38;5;241m1\u001b[39m]\u001b[38;5;241m-\u001b[39mm) \u001b[38;5;241m==\u001b[39m \u001b[38;5;241m2000000\u001b[39m) : \n\u001b[0;32m      8\u001b[0m             notPos\u001b[38;5;241m.\u001b[39mappend(j)\n\u001b[0;32m      9\u001b[0m     spread\u001b[38;5;241m+\u001b[39m\u001b[38;5;241m=\u001b[39m\u001b[38;5;241m1\u001b[39m\n",
      "\u001b[1;31mKeyboardInterrupt\u001b[0m: "
     ]
    }
   ],
   "source": [
    "# Much too slow \n",
    "notPos= []\n",
    "for i in range(len(lin)):\n",
    "    j,k = lin[i][0]+dists[i],0\n",
    "    spread = 0\n",
    "    while j>=lin[i][0]:\n",
    "        for m in range(0,spread+1):\n",
    "            if ((lin[i][1]+m) == 2000000 or (lin[i][1]-m) == 2000000) : \n",
    "                notPos.append(j)\n",
    "        spread+=1\n",
    "        j-=1\n",
    "        \n",
    "    j,k = lin[i][0]-dists[i],0\n",
    "    spread = 0\n",
    "    while j<lin[i][0]:\n",
    "        for m in range(0,spread+1):\n",
    "            if ((lin[i][1]+m) == 2000000 or (lin[i][1]-m) == 2000000) : \n",
    "                notPos.append(j)\n",
    "        spread+=1\n",
    "        j+=1"
   ]
  },
  {
   "cell_type": "code",
   "execution_count": 80,
   "metadata": {},
   "outputs": [
    {
     "name": "stdout",
     "output_type": "stream",
     "text": [
      "5112035\n",
      "9389512\n"
     ]
    }
   ],
   "source": [
    "notPos= set() #sets make this problem easy \n",
    "sp=0\n",
    "for i in range(len(lin)):\n",
    "    spread = (dists[i]-abs(lin[i][1]-2000000))\n",
    "    if spread>=0:\n",
    "        sp= sp+ ((spread*2)+1)\n",
    "        for m in range(-spread, spread+1):\n",
    "            notPos.add(lin[i][0]+m)\n",
    "            \n",
    "print(len(notPos))\n",
    "print(sp)\n"
   ]
  },
  {
   "cell_type": "code",
   "execution_count": 71,
   "metadata": {},
   "outputs": [],
   "source": [
    "#tried looking at collisions didn't work \n",
    "colls=[]\n",
    "for i in range(len(lin)):\n",
    "    for j in range(len(lin)):\n",
    "        coll=0\n",
    "        if spread>0:\n",
    "            if int(lin[i][0])>int(lin[j][0]) and int(lin[i][0]-spread)<=int(lin[j][0]+spread):\n",
    "                #print(f\"{i} and {j} collide\")\n",
    "                coll = int(lin[j][0]+spread)-int(lin[i][0]-spread)+1\n",
    "            elif int(lin[i][0])<int(lin[j][0]) and int(lin[i][0]+spread)>=int(lin[j][0]-spread):\n",
    "                #print(f\"{i} and {j} collide\")\n",
    "                coll = int(lin[j][0]-spread)-int(lin[i][0]+spread)+1\n",
    "            if coll>0:\n",
    "                colls.append(coll)"
   ]
  },
  {
   "cell_type": "code",
   "execution_count": 72,
   "metadata": {},
   "outputs": [
    {
     "data": {
      "text/plain": [
       "71801285"
      ]
     },
     "execution_count": 72,
     "metadata": {},
     "output_type": "execute_result"
    }
   ],
   "source": [
    "sum(colls)"
   ]
  },
  {
   "cell_type": "code",
   "execution_count": 75,
   "metadata": {},
   "outputs": [
    {
     "data": {
      "text/plain": [
       "-62411773"
      ]
     },
     "execution_count": 75,
     "metadata": {},
     "output_type": "execute_result"
    }
   ],
   "source": [
    "sp-sum(colls)"
   ]
  },
  {
   "cell_type": "code",
   "execution_count": 52,
   "metadata": {},
   "outputs": [
    {
     "data": {
      "text/plain": [
       "9389432"
      ]
     },
     "execution_count": 52,
     "metadata": {},
     "output_type": "execute_result"
    }
   ],
   "source": [
    "len(notPos)"
   ]
  },
  {
   "cell_type": "code",
   "execution_count": null,
   "metadata": {},
   "outputs": [],
   "source": []
  }
 ],
 "metadata": {
  "kernelspec": {
   "display_name": "Python 3 (ipykernel)",
   "language": "python",
   "name": "python3"
  },
  "language_info": {
   "codemirror_mode": {
    "name": "ipython",
    "version": 3
   },
   "file_extension": ".py",
   "mimetype": "text/x-python",
   "name": "python",
   "nbconvert_exporter": "python",
   "pygments_lexer": "ipython3",
   "version": "3.8.3"
  }
 },
 "nbformat": 4,
 "nbformat_minor": 4
}
