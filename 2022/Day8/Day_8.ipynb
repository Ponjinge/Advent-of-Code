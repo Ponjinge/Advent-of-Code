{
 "cells": [
  {
   "cell_type": "markdown",
   "metadata": {},
   "source": [
    "# --- Day 8: Treetop Tree House ---\n",
    "The expedition comes across a peculiar patch of tall trees all planted carefully in a grid. The Elves explain that a previous expedition planted these trees as a reforestation effort. Now, they're curious if this would be a good location for a tree house.\n",
    "\n",
    "First, determine whether there is enough tree cover here to keep a tree house hidden. To do this, you need to count the number of trees that are visible from outside the grid when looking directly along a row or column.\n",
    "\n",
    "The Elves have already launched a quadcopter to generate a map with the height of each tree (your puzzle input). For example:\n",
    "\n",
    "30373\n",
    "25512\n",
    "65332\n",
    "33549\n",
    "35390\n",
    "Each tree is represented as a single digit whose value is its height, where 0 is the shortest and 9 is the tallest.\n",
    "\n",
    "A tree is visible if all of the other trees between it and an edge of the grid are shorter than it. Only consider trees in the same row or column; that is, only look up, down, left, or right from any given tree.\n",
    "\n",
    "All of the trees around the edge of the grid are visible - since they are already on the edge, there are no trees to block the view. In this example, that only leaves the interior nine trees to consider:\n",
    "\n",
    "The top-left 5 is visible from the left and top. (It isn't visible from the right or bottom since other trees of height 5 are in the way.)\n",
    "The top-middle 5 is visible from the top and right.\n",
    "The top-right 1 is not visible from any direction; for it to be visible, there would need to only be trees of height 0 between it and an edge.\n",
    "The left-middle 5 is visible, but only from the right.\n",
    "The center 3 is not visible from any direction; for it to be visible, there would need to be only trees of at most height 2 between it and an edge.\n",
    "The right-middle 3 is visible from the right.\n",
    "In the bottom row, the middle 5 is visible, but the 3 and 4 are not.\n",
    "With 16 trees visible on the edge and another 5 visible in the interior, a total of 21 trees are visible in this arrangement.\n",
    "\n",
    "Consider your map; how many trees are visible from outside the grid?\n",
    "\n",
    "Your puzzle answer was 1684.\n"
   ]
  },
  {
   "cell_type": "code",
   "execution_count": 136,
   "metadata": {},
   "outputs": [],
   "source": [
    "import re\n",
    "\n",
    "lin = []\n",
    "\n",
    "with open('./input.txt', 'r') as file:\n",
    "    file_content = file.read().strip()  # Read the file content and remove leading/trailing whitespaces\n",
    "\n",
    "# Split the content based on empty lines\n",
    "individual_strings = file_content.split('\\n')\n",
    "\n",
    "# Process each individual\n",
    "for i, individual_str in enumerate(individual_strings, 1):\n",
    "    # Convert lines to integers and add them to the individuals list\n",
    "    individual = [char for line in individual_str.split('\\n') for char in line]\n",
    "    \n",
    "    lin.append(individual)\n",
    "   "
   ]
  },
  {
   "cell_type": "code",
   "execution_count": 137,
   "metadata": {},
   "outputs": [],
   "source": [
    "visible=0\n",
    "for i in range(len(lin)):\n",
    "    for j in range(len(lin[i])):\n",
    "        dirR= True\n",
    "        for k in range(j + 1, len(lin[i])):\n",
    "            #print(lin[i][j])\n",
    "            #print(lin[i][k])\n",
    "            if (k<len(lin[i]) and int(lin[i][j])<=int(lin[i][k])):\n",
    "                dirR = False\n",
    "                #print(\"False\")\n",
    "                break\n",
    "        dirL= True\n",
    "        for k in range(0,j):\n",
    "            #print(lin[i][j])\n",
    "            #print(lin[i][k])\n",
    "            if (k<j and int(lin[i][j])<=int(lin[i][k])):\n",
    "                dirL = False\n",
    "                #print(\"False\")\n",
    "                break \n",
    "        dirU= True\n",
    "        for k in range(0,i):\n",
    "            if (int(lin[i][j])<=int(lin[k][j])):\n",
    "                dirU = False\n",
    "                break\n",
    "        dirD = True\n",
    "        for k in range(i+1,len(lin)):\n",
    "            if (int(lin[i][j])<=int(lin[k][j])):\n",
    "                dirD = False\n",
    "                break\n",
    "        if i==0:\n",
    "            dirU = True\n",
    "        if j==0:\n",
    "            dirL= True\n",
    "        if i == (len(lin)-1):\n",
    "            dirD = True\n",
    "        if j == (len(lin[i])-1):\n",
    "            dirR= True\n",
    "        if (dirR == True or dirL ==True or dirU == True or dirD == True):\n",
    "            visible= visible+1\n",
    " #Big mess, need to make it more readable           "
   ]
  },
  {
   "cell_type": "code",
   "execution_count": 138,
   "metadata": {},
   "outputs": [
    {
     "data": {
      "text/plain": [
       "1684"
      ]
     },
     "execution_count": 138,
     "metadata": {},
     "output_type": "execute_result"
    }
   ],
   "source": [
    "visible"
   ]
  },
  {
   "cell_type": "code",
   "execution_count": 139,
   "metadata": {},
   "outputs": [
    {
     "name": "stdout",
     "output_type": "stream",
     "text": [
      "Number of visible elements: 1684\n"
     ]
    }
   ],
   "source": [
    "#Simplified the logic for readability \n",
    "\n",
    "visible = 0\n",
    "for i in range(len(lin)):\n",
    "    for j in range(len(lin[i])):\n",
    "        dirR = all(int(lin[i][j]) > int(lin[i][k]) for k in range(j + 1, len(lin[i])))\n",
    "        dirD = all(int(lin[i][j]) > int(lin[k][j]) for k in range(i + 1, len(lin)))\n",
    "        dirL = all(int(lin[i][j]) > int(lin[i][k]) for k in range(0, j))\n",
    "        dirU = all(int(lin[i][j]) > int(lin[k][j]) for k in range(0, i))\n",
    "        \n",
    "        if dirR or dirL or dirU or dirD:\n",
    "            visible += 1\n",
    "\n",
    "print(\"Number of visible elements:\", visible)\n"
   ]
  },
  {
   "cell_type": "markdown",
   "metadata": {},
   "source": [
    "## --- Part Two ---\n",
    "Content with the amount of tree cover available, the Elves just need to know the best spot to build their tree house: they would like to be able to see a lot of trees.\n",
    "\n",
    "To measure the viewing distance from a given tree, look up, down, left, and right from that tree; stop if you reach an edge or at the first tree that is the same height or taller than the tree under consideration. (If a tree is right on the edge, at least one of its viewing distances will be zero.)\n",
    "\n",
    "The Elves don't care about distant trees taller than those found by the rules above; the proposed tree house has large eaves to keep it dry, so they wouldn't be able to see higher than the tree house anyway.\n",
    "\n",
    "In the example above, consider the middle 5 in the second row:\n",
    "\n",
    "30373\n",
    "25512\n",
    "65332\n",
    "33549\n",
    "35390\n",
    "Looking up, its view is not blocked; it can see 1 tree (of height 3).\n",
    "Looking left, its view is blocked immediately; it can see only 1 tree (of height 5, right next to it).\n",
    "Looking right, its view is not blocked; it can see 2 trees.\n",
    "Looking down, its view is blocked eventually; it can see 2 trees (one of height 3, then the tree of height 5 that blocks its view).\n",
    "A tree's scenic score is found by multiplying together its viewing distance in each of the four directions. For this tree, this is 4 (found by multiplying 1 * 1 * 2 * 2).\n",
    "\n",
    "However, you can do even better: consider the tree of height 5 in the middle of the fourth row:\n",
    "\n",
    "30373\n",
    "25512\n",
    "65332\n",
    "33549\n",
    "35390\n",
    "Looking up, its view is blocked at 2 trees (by another tree with a height of 5).\n",
    "Looking left, its view is not blocked; it can see 2 trees.\n",
    "Looking down, its view is also not blocked; it can see 1 tree.\n",
    "Looking right, its view is blocked at 2 trees (by a massive tree of height 9).\n",
    "This tree's scenic score is 8 (2 * 2 * 1 * 2); this is the ideal spot for the tree house.\n",
    "\n",
    "Consider each tree on your map. What is the highest scenic score possible for any tree?\n",
    "\n",
    "Your puzzle answer was 486540."
   ]
  },
  {
   "cell_type": "code",
   "execution_count": 134,
   "metadata": {},
   "outputs": [],
   "source": [
    "#Simplified the logic for readability \n",
    "\n",
    "visT=[]\n",
    "\n",
    "for i in range(len(lin)):\n",
    "   \n",
    "    for j in range(len(lin[i])):\n",
    "        visR, visD, visL, visU = 0, 0, 0, 0 \n",
    "        for k in range(j + 1, len(lin[i])):\n",
    "            visR=visR+1\n",
    "            if (int(lin[i][j]) <= int(lin[i][k])):\n",
    "                break\n",
    "                \n",
    "        for k in range(i + 1, len(lin)):\n",
    "            visD=visD+1\n",
    "            if(int(lin[i][j]) <= int(lin[k][j])):\n",
    "                break\n",
    "               \n",
    "        for k in range(j-1,-1,-1):\n",
    "            visL=visL+1\n",
    "            if(int(lin[i][j]) <= int(lin[i][k])):\n",
    "                break  \n",
    "               \n",
    "        for k in range(i-1,-1,-1):\n",
    "            visU=visU+1\n",
    "            if(int(lin[i][j]) <= int(lin[k][j])):\n",
    "                break   \n",
    "        \n",
    "        visT.append(visR*visD*visU*visL)\n",
    "        \n",
    "\n"
   ]
  },
  {
   "cell_type": "code",
   "execution_count": 135,
   "metadata": {},
   "outputs": [
    {
     "data": {
      "text/plain": [
       "486540"
      ]
     },
     "execution_count": 135,
     "metadata": {},
     "output_type": "execute_result"
    }
   ],
   "source": [
    "max(visT)"
   ]
  },
  {
   "cell_type": "code",
   "execution_count": null,
   "metadata": {},
   "outputs": [],
   "source": []
  }
 ],
 "metadata": {
  "kernelspec": {
   "display_name": "Python 3 (ipykernel)",
   "language": "python",
   "name": "python3"
  },
  "language_info": {
   "codemirror_mode": {
    "name": "ipython",
    "version": 3
   },
   "file_extension": ".py",
   "mimetype": "text/x-python",
   "name": "python",
   "nbconvert_exporter": "python",
   "pygments_lexer": "ipython3",
   "version": "3.8.3"
  }
 },
 "nbformat": 4,
 "nbformat_minor": 4
}
